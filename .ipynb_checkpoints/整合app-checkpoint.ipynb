{
 "cells": [
  {
   "cell_type": "markdown",
   "metadata": {},
   "source": [
    "## 第一階段：取得所有必要的職缺網址"
   ]
  },
  {
   "cell_type": "code",
   "execution_count": 5,
   "metadata": {},
   "outputs": [],
   "source": [
    "import requests\n",
    "from bs4 import BeautifulSoup"
   ]
  },
  {
   "cell_type": "markdown",
   "metadata": {},
   "source": [
    "- 起點：搜尋結果頁面\n",
    "  - 創造主程式：app.py\n",
    "  - 創造全域物件：job_urls=[]\n",
    "\n"
   ]
  },
  {
   "cell_type": "code",
   "execution_count": null,
   "metadata": {},
   "outputs": [],
   "source": [
    "search_url = input('請輸入搜尋頁面網址 ')"
   ]
  },
  {
   "cell_type": "code",
   "execution_count": 57,
   "metadata": {},
   "outputs": [
    {
     "name": "stdout",
     "output_type": "stream",
     "text": [
      "https://www.104.com.tw/jobs/search/?ro=0&keyword=Django&area=6001002000%2C6001001000&order=1&asc=0&page=1&mode=s&jobsource=2018indexpoc\n"
     ]
    }
   ],
   "source": [
    "search_url = \\\n",
    "'https://www.104.com.tw/jobs/search/?ro=0&keyword=Django&area=6001002000%2C6001001000&order=1&asc=0&page=1&mode=s&jobsource=2018indexpoc'\n",
    "print(search_url)"
   ]
  },
  {
   "cell_type": "code",
   "execution_count": 2,
   "metadata": {},
   "outputs": [],
   "source": [
    "def url_to_soup(url):\n",
    "    head = {'User-Agent':'Mozilla/5.0 (Windows NT 10.0; Win64; x64) AppleWebKit/537.36 (KHTML, like Gecko) Chrome/60.0.3112.90 Safari/537.36',\n",
    "        'Accept-Language':'zh-TW,zh;q=0.8,en-US;q=0.6,en;q=0.4'} \n",
    "    resp = requests.get(url, headers = head)\n",
    "    soup = BeautifulSoup(resp.text)\n",
    "    return soup"
   ]
  },
  {
   "cell_type": "code",
   "execution_count": 7,
   "metadata": {},
   "outputs": [],
   "source": [
    "def get_page_urls(search_url):\n",
    "    soup=url_to_soup(search_url)\n",
    "    jobs=soup.select('.js-job-link')\n",
    "    page_urls=[]\n",
    "    for job in jobs:\n",
    "        page_urls.append('https:'+job['href'])\n",
    "    return page_urls"
   ]
  },
  {
   "cell_type": "code",
   "execution_count": 17,
   "metadata": {},
   "outputs": [],
   "source": [
    "job_urls.extend(page)"
   ]
  },
  {
   "cell_type": "code",
   "execution_count": 4,
   "metadata": {},
   "outputs": [],
   "source": [
    "import re\n",
    "import time\n",
    "import random"
   ]
  },
  {
   "cell_type": "code",
   "execution_count": 63,
   "metadata": {},
   "outputs": [],
   "source": [
    "def get_all_urls(search_url):\n",
    "    job_urls=[]\n",
    "    for page in range(1,11):\n",
    "        if page > 1:\n",
    "            if 'page=' in search_url:\n",
    "                search_url=re.sub(r'page=\\d','page='+str(page),search_url)\n",
    "            else:\n",
    "                search_url=search_url+'&page=2'\n",
    "        print(search_url,'處理中')\n",
    "        page_urls=get_page_urls(search_url)\n",
    "        print('本頁有',len(page_urls),'個職缺')\n",
    "        job_urls.extend(page_urls)\n",
    "        print('已加入job_urls清單')\n",
    "        if len(page_urls)<20:\n",
    "            print('本頁為最後一頁')\n",
    "            break\n",
    "        time.sleep(random.uniform(5,30))\n",
    "    else:\n",
    "        print('共10頁')\n",
    "    print('總共收集',len(job_urls),'個職缺網址')\n",
    "    print('完成')\n",
    "    return job_urls"
   ]
  },
  {
   "cell_type": "code",
   "execution_count": 58,
   "metadata": {},
   "outputs": [
    {
     "name": "stdout",
     "output_type": "stream",
     "text": [
      "https://www.104.com.tw/jobs/search/?ro=0&keyword=Django&area=6001002000%2C6001001000&order=1&asc=0&page=1&mode=s&jobsource=2018indexpoc 處理中\n",
      "本頁有 21 個職缺\n",
      "已加入全域變數job_urls\n",
      "https://www.104.com.tw/jobs/search/?ro=0&keyword=Django&area=6001002000%2C6001001000&order=1&asc=0&page=2&mode=s&jobsource=2018indexpoc 處理中\n",
      "本頁有 20 個職缺\n",
      "已加入全域變數job_urls\n",
      "https://www.104.com.tw/jobs/search/?ro=0&keyword=Django&area=6001002000%2C6001001000&order=1&asc=0&page=3&mode=s&jobsource=2018indexpoc 處理中\n",
      "本頁有 20 個職缺\n",
      "已加入全域變數job_urls\n",
      "https://www.104.com.tw/jobs/search/?ro=0&keyword=Django&area=6001002000%2C6001001000&order=1&asc=0&page=4&mode=s&jobsource=2018indexpoc 處理中\n",
      "本頁有 20 個職缺\n",
      "已加入全域變數job_urls\n",
      "https://www.104.com.tw/jobs/search/?ro=0&keyword=Django&area=6001002000%2C6001001000&order=1&asc=0&page=5&mode=s&jobsource=2018indexpoc 處理中\n",
      "本頁有 20 個職缺\n",
      "已加入全域變數job_urls\n",
      "https://www.104.com.tw/jobs/search/?ro=0&keyword=Django&area=6001002000%2C6001001000&order=1&asc=0&page=6&mode=s&jobsource=2018indexpoc 處理中\n",
      "本頁有 2 個職缺\n",
      "已加入全域變數job_urls\n",
      "本頁只有 2 個職缺，為最後一頁\n",
      "總共收集 103 個職缺網址\n",
      "完成\n"
     ]
    }
   ],
   "source": [
    "result=get_all_urls(search_url)"
   ]
  },
  {
   "cell_type": "markdown",
   "metadata": {},
   "source": [
    "### 將結果寫入JSON檔"
   ]
  },
  {
   "cell_type": "code",
   "execution_count": 38,
   "metadata": {},
   "outputs": [],
   "source": [
    "from urllib.parse import unquote\n",
    "import json\n",
    "from datetime import datetime"
   ]
  },
  {
   "cell_type": "markdown",
   "metadata": {},
   "source": [
    "#### 先從網址取出關鍵字"
   ]
  },
  {
   "cell_type": "code",
   "execution_count": 59,
   "metadata": {},
   "outputs": [],
   "source": [
    "keyword=re.search(r'keyword=[^&]*',search_url).group().split('=')[1]"
   ]
  },
  {
   "cell_type": "code",
   "execution_count": 60,
   "metadata": {},
   "outputs": [
    {
     "data": {
      "text/plain": [
       "'Django'"
      ]
     },
     "execution_count": 60,
     "metadata": {},
     "output_type": "execute_result"
    }
   ],
   "source": [
    "keyword=unquote(keyword)\n",
    "keyword"
   ]
  },
  {
   "cell_type": "markdown",
   "metadata": {},
   "source": [
    "#### 記錄當下時間，以指定格式"
   ]
  },
  {
   "cell_type": "code",
   "execution_count": 66,
   "metadata": {},
   "outputs": [
    {
     "data": {
      "text/plain": [
       "'0306-221921'"
      ]
     },
     "execution_count": 66,
     "metadata": {},
     "output_type": "execute_result"
    }
   ],
   "source": [
    "timestamp=datetime.now().strftime('%m%d-%H%M%S')\n",
    "timestamp"
   ]
  },
  {
   "cell_type": "code",
   "execution_count": 67,
   "metadata": {},
   "outputs": [],
   "source": [
    "with open(f'job_urls/{keyword}-{timestamp}.json', 'w') as f:\n",
    "    json.dump(result, f)"
   ]
  },
  {
   "cell_type": "code",
   "execution_count": null,
   "metadata": {},
   "outputs": [],
   "source": []
  },
  {
   "cell_type": "code",
   "execution_count": null,
   "metadata": {},
   "outputs": [],
   "source": []
  },
  {
   "cell_type": "code",
   "execution_count": null,
   "metadata": {},
   "outputs": [],
   "source": []
  },
  {
   "cell_type": "code",
   "execution_count": 44,
   "metadata": {},
   "outputs": [
    {
     "data": {
      "text/plain": [
       "85.5631939637284"
      ]
     },
     "execution_count": 44,
     "metadata": {},
     "output_type": "execute_result"
    }
   ],
   "source": [
    "random.uniform(1,100)"
   ]
  },
  {
   "cell_type": "code",
   "execution_count": 15,
   "metadata": {},
   "outputs": [
    {
     "data": {
      "text/plain": [
       "88"
      ]
     },
     "execution_count": 15,
     "metadata": {},
     "output_type": "execute_result"
    }
   ],
   "source": [
    "len(job_urls)"
   ]
  },
  {
   "cell_type": "code",
   "execution_count": 23,
   "metadata": {},
   "outputs": [],
   "source": [
    "aa=[1,2,3]"
   ]
  },
  {
   "cell_type": "code",
   "execution_count": 20,
   "metadata": {},
   "outputs": [
    {
     "data": {
      "text/plain": [
       "['[', '1', ',', '2', ',', '3', ']']"
      ]
     },
     "execution_count": 20,
     "metadata": {},
     "output_type": "execute_result"
    }
   ],
   "source": [
    "list(aa)"
   ]
  },
  {
   "cell_type": "code",
   "execution_count": 21,
   "metadata": {},
   "outputs": [],
   "source": [
    "import json"
   ]
  },
  {
   "cell_type": "code",
   "execution_count": 24,
   "metadata": {},
   "outputs": [
    {
     "data": {
      "text/plain": [
       "'[1, 2, 3]'"
      ]
     },
     "execution_count": 24,
     "metadata": {},
     "output_type": "execute_result"
    }
   ],
   "source": [
    "json.dumps(aa)"
   ]
  },
  {
   "cell_type": "code",
   "execution_count": 25,
   "metadata": {},
   "outputs": [],
   "source": [
    "with open('data.json', 'w') as f:\n",
    "    json.dump(aa, f)"
   ]
  },
  {
   "cell_type": "code",
   "execution_count": null,
   "metadata": {},
   "outputs": [],
   "source": []
  }
 ],
 "metadata": {
  "kernelspec": {
   "display_name": "Python 3",
   "language": "python",
   "name": "python3"
  },
  "language_info": {
   "codemirror_mode": {
    "name": "ipython",
    "version": 3
   },
   "file_extension": ".py",
   "mimetype": "text/x-python",
   "name": "python",
   "nbconvert_exporter": "python",
   "pygments_lexer": "ipython3",
   "version": "3.6.7"
  }
 },
 "nbformat": 4,
 "nbformat_minor": 2
}
