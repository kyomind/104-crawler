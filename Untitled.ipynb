{
 "cells": [
  {
   "cell_type": "code",
   "execution_count": 14,
   "metadata": {},
   "outputs": [
    {
     "data": {
      "text/plain": [
       "{'url': ' http://kyomind.tw '}"
      ]
     },
     "execution_count": 14,
     "metadata": {},
     "output_type": "execute_result"
    }
   ],
   "source": [
    "dict(url=' '+'http://kyomind.tw'+' ')"
   ]
  },
  {
   "cell_type": "code",
   "execution_count": 15,
   "metadata": {},
   "outputs": [],
   "source": [
    "stt='1.\\t熟悉基礎網路知識架構、HTTP/HTTPS、TCP/IP、DNS、CDN。2.\\t孰悉Linux(Ubuntu, Centos)環境建置與性能調配 3.\\t孰悉NGINX、Apache等Web Server架設以及設定調校。4.\\t孰悉MySQL、Redis設定與調校 5.\\t孰悉Python、Shell、Bash、C、Perl中至少一種語言  6.\\t邏輯思維清晰、沉著冷靜、自律自學 7.\\t富責任感、團隊精神 加分項目：1.\\t具備架設監控系統經驗(Zabbix, Cacti, Nagios, etc.)。 2.\\t具備Ansible、Saltstack等自動化部署經驗。 3.\\t瞭解服務Load-balancing、HA概念4.\\t具備架設Log收集分析工具經驗(ELK,Splunk,etc)。 5.\\t孰悉GCP、AWS、Azure雲端服務。 6.\\t具備Python,JAVA後端系統開發經驗(Django,flask,etc)'"
   ]
  },
  {
   "cell_type": "code",
   "execution_count": 16,
   "metadata": {},
   "outputs": [
    {
     "data": {
      "text/plain": [
       "'1.熟悉基礎網路知識架構、HTTP/HTTPS、TCP/IP、DNS、CDN。2.孰悉Linux(Ubuntu, Centos)環境建置與性能調配 3.孰悉NGINX、Apache等Web Server架設以及設定調校。4.孰悉MySQL、Redis設定與調校 5.孰悉Python、Shell、Bash、C、Perl中至少一種語言  6.邏輯思維清晰、沉著冷靜、自律自學 7.富責任感、團隊精神 加分項目：1.具備架設監控系統經驗(Zabbix, Cacti, Nagios, etc.)。 2.具備Ansible、Saltstack等自動化部署經驗。 3.瞭解服務Load-balancing、HA概念4.具備架設Log收集分析工具經驗(ELK,Splunk,etc)。 5.孰悉GCP、AWS、Azure雲端服務。 6.具備Python,JAVA後端系統開發經驗(Django,flask,etc)'"
      ]
     },
     "execution_count": 16,
     "metadata": {},
     "output_type": "execute_result"
    }
   ],
   "source": [
    "stt.replace('\\t','')"
   ]
  },
  {
   "cell_type": "code",
   "execution_count": 17,
   "metadata": {},
   "outputs": [
    {
     "data": {
      "text/plain": [
       "'1.\\t熟悉基礎網路知識架構、HTTP/HTTPS、TCP/IP、DNS、CDN。2.\\t孰悉Linux(Ubuntu, Centos)環境建置與性能調配 3.\\t孰悉NGINX、Apache等Web Server架設以及設定調校。4.\\t孰悉MySQL、Redis設定與調校 5.\\t孰悉Python、Shell、Bash、C、Perl中至少一種語言  6.\\t邏輯思維清晰、沉著冷靜、自律自學 7.\\t富責任感、團隊精神 加分項目：1.\\t具備架設監控系統經驗(Zabbix, Cacti, Nagios, etc.)。 2.\\t具備Ansible、Saltstack等自動化部署經驗。 3.\\t瞭解服務Load-balancing、HA概念4.\\t具備架設Log收集分析工具經驗(ELK,Splunk,etc)。 5.\\t孰悉GCP、AWS、Azure雲端服務。 6.\\t具備Python,JAVA後端系統開發經驗(Django,flask,etc)'"
      ]
     },
     "execution_count": 17,
     "metadata": {},
     "output_type": "execute_result"
    }
   ],
   "source": [
    "stt"
   ]
  },
  {
   "cell_type": "code",
   "execution_count": null,
   "metadata": {},
   "outputs": [],
   "source": []
  }
 ],
 "metadata": {
  "kernelspec": {
   "display_name": "Python 3",
   "language": "python",
   "name": "python3"
  },
  "language_info": {
   "codemirror_mode": {
    "name": "ipython",
    "version": 3
   },
   "file_extension": ".py",
   "mimetype": "text/x-python",
   "name": "python",
   "nbconvert_exporter": "python",
   "pygments_lexer": "ipython3",
   "version": "3.6.7"
  }
 },
 "nbformat": 4,
 "nbformat_minor": 2
}
