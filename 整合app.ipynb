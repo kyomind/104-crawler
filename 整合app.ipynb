{
 "cells": [
  {
   "cell_type": "markdown",
   "metadata": {},
   "source": [
    "## 第一階段：取得所有必要的職缺網址"
   ]
  },
  {
   "cell_type": "code",
   "execution_count": 77,
   "metadata": {},
   "outputs": [],
   "source": [
    "import requests\n",
    "from bs4 import BeautifulSoup"
   ]
  },
  {
   "cell_type": "markdown",
   "metadata": {},
   "source": [
    "- 起點：搜尋結果頁面\n",
    "  - 創造主程式：app.py\n",
    "  - 創造全域物件：job_urls=[]\n",
    "\n"
   ]
  },
  {
   "cell_type": "code",
   "execution_count": null,
   "metadata": {},
   "outputs": [],
   "source": [
    "search_url = input('請輸入搜尋頁面網址 ')"
   ]
  },
  {
   "cell_type": "code",
   "execution_count": 78,
   "metadata": {},
   "outputs": [
    {
     "name": "stdout",
     "output_type": "stream",
     "text": [
      "https://www.104.com.tw/jobs/search/?ro=0&keyword=Flask&area=6001002000%2C6001001000&order=1&asc=0&page=1&mode=s&jobsource=2018indexpoc\n"
     ]
    }
   ],
   "source": [
    "search_url = \\\n",
    "'https://www.104.com.tw/jobs/search/?ro=0&keyword=Flask&area=6001002000%2C6001001000&order=1&asc=0&page=1&mode=s&jobsource=2018indexpoc'\n",
    "print(search_url)"
   ]
  },
  {
   "cell_type": "code",
   "execution_count": 79,
   "metadata": {},
   "outputs": [],
   "source": [
    "def url_to_soup(url):\n",
    "    head = {'User-Agent':'Mozilla/5.0 (Windows NT 10.0; Win64; x64) AppleWebKit/537.36 (KHTML, like Gecko) Chrome/60.0.3112.90 Safari/537.36',\n",
    "        'Accept-Language':'zh-TW,zh;q=0.8,en-US;q=0.6,en;q=0.4'} \n",
    "    resp = requests.get(url, headers = head)\n",
    "    soup = BeautifulSoup(resp.text)\n",
    "    return soup"
   ]
  },
  {
   "cell_type": "code",
   "execution_count": 80,
   "metadata": {},
   "outputs": [],
   "source": [
    "def get_page_urls(search_url):\n",
    "    soup=url_to_soup(search_url)\n",
    "    jobs=soup.select('.js-job-link')\n",
    "    page_urls=[]\n",
    "    for job in jobs:\n",
    "        page_urls.append('https:'+job['href'])\n",
    "    return page_urls"
   ]
  },
  {
   "cell_type": "code",
   "execution_count": 81,
   "metadata": {},
   "outputs": [],
   "source": [
    "import re\n",
    "import time\n",
    "import random"
   ]
  },
  {
   "cell_type": "code",
   "execution_count": 82,
   "metadata": {},
   "outputs": [],
   "source": [
    "def get_all_urls(search_url):\n",
    "    job_urls=[]\n",
    "    for page in range(1,11):\n",
    "        if page > 1:\n",
    "            if 'page=' in search_url:\n",
    "                search_url=re.sub(r'page=\\d','page='+str(page),search_url)\n",
    "            else:\n",
    "                search_url=search_url+'&page=2'\n",
    "        print(search_url,'處理中')\n",
    "        page_urls=get_page_urls(search_url)\n",
    "        print('本頁有',len(page_urls),'個職缺')\n",
    "        job_urls.extend(page_urls)\n",
    "        print('已加入job_urls清單')\n",
    "        if len(page_urls)<20:\n",
    "            print('本頁為最後一頁')\n",
    "            break\n",
    "        time.sleep(random.uniform(5,30))\n",
    "    else:\n",
    "        print('共10頁')\n",
    "    print('總共收集',len(job_urls),'個職缺網址')\n",
    "    print('完成')\n",
    "    return job_urls"
   ]
  },
  {
   "cell_type": "code",
   "execution_count": 83,
   "metadata": {},
   "outputs": [
    {
     "name": "stdout",
     "output_type": "stream",
     "text": [
      "https://www.104.com.tw/jobs/search/?ro=0&keyword=Flask&area=6001002000%2C6001001000&order=1&asc=0&page=1&mode=s&jobsource=2018indexpoc 處理中\n",
      "本頁有 20 個職缺\n",
      "已加入job_urls清單\n",
      "https://www.104.com.tw/jobs/search/?ro=0&keyword=Flask&area=6001002000%2C6001001000&order=1&asc=0&page=2&mode=s&jobsource=2018indexpoc 處理中\n",
      "本頁有 20 個職缺\n",
      "已加入job_urls清單\n",
      "https://www.104.com.tw/jobs/search/?ro=0&keyword=Flask&area=6001002000%2C6001001000&order=1&asc=0&page=3&mode=s&jobsource=2018indexpoc 處理中\n",
      "本頁有 8 個職缺\n",
      "已加入job_urls清單\n",
      "本頁為最後一頁\n",
      "總共收集 48 個職缺網址\n",
      "完成\n"
     ]
    }
   ],
   "source": [
    "result=get_all_urls(search_url)"
   ]
  },
  {
   "cell_type": "markdown",
   "metadata": {},
   "source": [
    "### 將結果寫入JSON檔"
   ]
  },
  {
   "cell_type": "code",
   "execution_count": 84,
   "metadata": {},
   "outputs": [],
   "source": [
    "from urllib.parse import unquote\n",
    "import json\n",
    "from datetime import datetime"
   ]
  },
  {
   "cell_type": "markdown",
   "metadata": {},
   "source": [
    "#### 先從網址取出關鍵字"
   ]
  },
  {
   "cell_type": "code",
   "execution_count": 85,
   "metadata": {},
   "outputs": [],
   "source": [
    "keyword=re.search(r'keyword=[^&]*',search_url).group().split('=')[1]"
   ]
  },
  {
   "cell_type": "code",
   "execution_count": 86,
   "metadata": {},
   "outputs": [
    {
     "data": {
      "text/plain": [
       "'Flask'"
      ]
     },
     "execution_count": 86,
     "metadata": {},
     "output_type": "execute_result"
    }
   ],
   "source": [
    "keyword=unquote(keyword)\n",
    "keyword"
   ]
  },
  {
   "cell_type": "markdown",
   "metadata": {},
   "source": [
    "#### 記錄當下時間，以指定格式"
   ]
  },
  {
   "cell_type": "code",
   "execution_count": 87,
   "metadata": {},
   "outputs": [
    {
     "data": {
      "text/plain": [
       "'0306-231338'"
      ]
     },
     "execution_count": 87,
     "metadata": {},
     "output_type": "execute_result"
    }
   ],
   "source": [
    "timestamp=datetime.now().strftime('%m%d-%H%M%S')\n",
    "timestamp"
   ]
  },
  {
   "cell_type": "code",
   "execution_count": 88,
   "metadata": {},
   "outputs": [],
   "source": [
    "with open(f'job_urls/{keyword}-{timestamp}.json', 'w') as f:\n",
    "    json.dump(result, f)"
   ]
  },
  {
   "cell_type": "code",
   "execution_count": 116,
   "metadata": {},
   "outputs": [
    {
     "data": {
      "text/plain": [
       "48"
      ]
     },
     "execution_count": 116,
     "metadata": {},
     "output_type": "execute_result"
    }
   ],
   "source": [
    "len(result)"
   ]
  },
  {
   "cell_type": "code",
   "execution_count": 89,
   "metadata": {},
   "outputs": [],
   "source": [
    "res_set=set(result)"
   ]
  },
  {
   "cell_type": "code",
   "execution_count": 90,
   "metadata": {},
   "outputs": [
    {
     "data": {
      "text/plain": [
       "47"
      ]
     },
     "execution_count": 90,
     "metadata": {},
     "output_type": "execute_result"
    }
   ],
   "source": [
    "len(res_set)"
   ]
  },
  {
   "cell_type": "code",
   "execution_count": 91,
   "metadata": {},
   "outputs": [],
   "source": [
    "def urls_to_data(result):\n",
    "    print(f'開始處理，總共有{len(result)}個項目')\n",
    "    data = []\n",
    "    for url in result:\n",
    "        print(url, f'處理中，第{item}項')\n",
    "        job = {}\n",
    "        soup = url_to_soup(url)\n",
    "        job['職位名稱'] = soup.find_all('meta')[4]['content'].rstrip(' - 104人力銀行')\n",
    "        job['工作地點'] = soup.find('dd', 'addr').text.strip().split()[0]\n",
    "        job['工作內容'] = soup.find('p').text.replace('\\r', '')\n",
    "        job['擅長工具'] = soup.select('.info')[1].find_all('dd')[-3].text\n",
    "        job['工作技能'] = soup.select('.info')[1].find_all('dd')[-2].text\n",
    "        job['其它條件'] = soup.select('.info')[1].find_all('dd')[-1].text.replace(\n",
    "            '\\r', '')\n",
    "        for k, v in job.items():\n",
    "            if v in ('不拘', '未填寫'):\n",
    "                job[k] = ''\n",
    "        print(job)\n",
    "        data.append(job)\n",
    "        time.sleep(random.uniform(5,15))\n",
    "    print('完成')\n",
    "    return data"
   ]
  },
  {
   "cell_type": "code",
   "execution_count": 127,
   "metadata": {
    "scrolled": false
   },
   "outputs": [
    {
     "name": "stdout",
     "output_type": "stream",
     "text": [
      "https://www.104.com.tw/job/?jobno=6c1h7&jobsource=2018indexpoc 處理中\n",
      "{'職位名稱': '65240-軟體工程師(台北新生/汐止)_QNAP_威聯通科技股份有限公司', '工作地點': '新北市汐止區中興路22號', '工作內容': '1.軟體開發與測試2.系統分析與設計3.技術研究與開發', '擅長工具': '', '工作技能': '', '其它條件': '經歷: 相關工作經驗 1 年以上 /  相關科系應屆畢業生個性:1. 重視團隊合作2. 樂於分享技術技能:1. 熟悉 Linux Programming (C / Shell Script / GNU Toolchain) 2. 對容器有基本概念 (Docker / Swarm / Kubernetes / LXC / LXD)3. 對虛擬化有基本概念 (QEMU / libvirt)4. 有能力除錯 Ubuntu 桌面系統元件5. 能獨立作業且具良好的問題解決能力，且抱持積極的學習態度者6. 具備 Python 程式及任一 Python Web Framework 使用經驗者佳 (如 Flask/Tornado'}\n"
     ]
    },
    {
     "ename": "KeyboardInterrupt",
     "evalue": "",
     "output_type": "error",
     "traceback": [
      "\u001b[1;31m---------------------------------------------------------------------------\u001b[0m",
      "\u001b[1;31mKeyboardInterrupt\u001b[0m                         Traceback (most recent call last)",
      "\u001b[1;32m<ipython-input-127-7a4a170ba84d>\u001b[0m in \u001b[0;36m<module>\u001b[1;34m\u001b[0m\n\u001b[1;32m----> 1\u001b[1;33m \u001b[0mdata\u001b[0m\u001b[1;33m=\u001b[0m\u001b[0murls_to_data\u001b[0m\u001b[1;33m(\u001b[0m\u001b[0mres_set\u001b[0m\u001b[1;33m)\u001b[0m\u001b[1;33m\u001b[0m\u001b[1;33m\u001b[0m\u001b[0m\n\u001b[0m",
      "\u001b[1;32m<ipython-input-91-a8b4c94b1a50>\u001b[0m in \u001b[0;36murls_to_data\u001b[1;34m(result)\u001b[0m\n\u001b[0;32m     17\u001b[0m         \u001b[0mprint\u001b[0m\u001b[1;33m(\u001b[0m\u001b[0mjob\u001b[0m\u001b[1;33m)\u001b[0m\u001b[1;33m\u001b[0m\u001b[1;33m\u001b[0m\u001b[0m\n\u001b[0;32m     18\u001b[0m         \u001b[0mdata\u001b[0m\u001b[1;33m.\u001b[0m\u001b[0mappend\u001b[0m\u001b[1;33m(\u001b[0m\u001b[0mjob\u001b[0m\u001b[1;33m)\u001b[0m\u001b[1;33m\u001b[0m\u001b[1;33m\u001b[0m\u001b[0m\n\u001b[1;32m---> 19\u001b[1;33m         \u001b[0mtime\u001b[0m\u001b[1;33m.\u001b[0m\u001b[0msleep\u001b[0m\u001b[1;33m(\u001b[0m\u001b[0mrandom\u001b[0m\u001b[1;33m.\u001b[0m\u001b[0muniform\u001b[0m\u001b[1;33m(\u001b[0m\u001b[1;36m5\u001b[0m\u001b[1;33m,\u001b[0m\u001b[1;36m15\u001b[0m\u001b[1;33m)\u001b[0m\u001b[1;33m)\u001b[0m\u001b[1;33m\u001b[0m\u001b[1;33m\u001b[0m\u001b[0m\n\u001b[0m\u001b[0;32m     20\u001b[0m     \u001b[1;32mreturn\u001b[0m \u001b[0mdata\u001b[0m\u001b[1;33m\u001b[0m\u001b[1;33m\u001b[0m\u001b[0m\n",
      "\u001b[1;31mKeyboardInterrupt\u001b[0m: "
     ]
    }
   ],
   "source": [
    "data=urls_to_data(res_set)"
   ]
  },
  {
   "cell_type": "code",
   "execution_count": 128,
   "metadata": {
    "scrolled": false
   },
   "outputs": [
    {
     "data": {
      "text/plain": [
       "[{'職位名稱': '65240-軟體工程師(台北新生/汐止)_QNAP_威聯通科技股份有限公司',\n",
       "  '工作地點': '新北市汐止區中興路22號',\n",
       "  '工作內容': '1.軟體開發與測試2.系統分析與設計3.技術研究與開發',\n",
       "  '擅長工具': '',\n",
       "  '工作技能': '',\n",
       "  '其它條件': '經歷: 相關工作經驗 1 年以上 /  相關科系應屆畢業生個性:1. 重視團隊合作2. 樂於分享技術技能:1. 熟悉 Linux Programming (C / Shell Script / GNU Toolchain) 2. 對容器有基本概念 (Docker / Swarm / Kubernetes / LXC / LXD)3. 對虛擬化有基本概念 (QEMU / libvirt)4. 有能力除錯 Ubuntu 桌面系統元件5. 能獨立作業且具良好的問題解決能力，且抱持積極的學習態度者6. 具備 Python 程式及任一 Python Web Framework 使用經驗者佳 (如 Flask/Tornado'},\n",
       " {'職位名稱': '前端工程師_治略資訊整合股份有限公司',\n",
       "  '工作地點': '台北市中正區忠孝東路二段25號3樓',\n",
       "  '工作內容': '工作內容與職責1.熟練Web前端頁面開發技能(HTML/Javascript/CSS)。2.有RESTful API串接經驗。3.不要求美術能力。',\n",
       "  '擅長工具': 'HTML、JavaScript',\n",
       "  '工作技能': '',\n",
       "  '其它條件': '加分項目：1.熟悉uBuntu系統操作。2.具備TDD開發經驗。3.具備React開發經驗。4.具備Flask或Django開發經驗。5.有意願往Full Stack方向學習。  如果願意的話，順便在信件裡回答以下問題，我們會與您回信交流我們想法：為什麼想應徵這個工作？在「必要條件」和「加分項目」中你不符合的項目有哪些？平常都去哪裡看技術文章？你覺得未來幾年內最值得投資的技術是什麼？'},\n",
       " {'職位名稱': '數據工程師(Cloud)_勤崴國際科技股份有限公司',\n",
       "  '工作地點': '台北市中正區羅斯褔路二段100號4樓',\n",
       "  '工作內容': '1.分析數據資料2.Azure Cloud3.RESTful API',\n",
       "  '擅長工具': 'Linux、Python',\n",
       "  '工作技能': '',\n",
       "  '其它條件': '1.需擅長Flask、SPARK、SQL、Mongo DB、Kubernetes2.具備AWS GCP管理開發經驗'},\n",
       " {'職位名稱': 'Shopee APP - Full Stack Developer (Front-end Focused) 全端工程師_樂購蝦皮有限公司',\n",
       "  '工作地點': '台北市信義區菸廠路88號',\n",
       "  '工作內容': '1. 使用CRA的TypeScript版結構2. 掌握使用者體驗，並發揮至使用者介面開發內3. 掌握開發時程，確認交付品質4. 有獨自開發的能力，且能與後端/UI/PM密切合作',\n",
       "  '擅長工具': 'PL/SQL',\n",
       "  '工作技能': '網頁語法撰寫、網頁軟體操作',\n",
       "  '其它條件': '1.應徵請務必附上作品集2. 兩年以上前端網站開發經驗3. 能使用bootstrap從無到有生成RWD網站 / 具備UI設計稿切版能力4. 精通HTML, CSS3, JavaScript5. 熟悉使用React & Redux，並且以TypeScript撰寫6. 善用工具測試程式/網站7. 熟悉使用Git/Git-flow8. 初步了解Docker9. 有後端開發經驗加分(python-flask)'},\n",
       " {'職位名稱': 'C# Developer (Fintech)_香港商錢匯發展有限公司台灣分公司',\n",
       "  '工作地點': '台北市信義區基隆路一段200號1樓',\n",
       "  '工作內容': '1. 系統需求分析 2. 前、後台系統設計、開發與維護 3. 其他主管交辦之系統開發工作  工作經歷要求: 1. 熟悉 C# 語言 2. 瞭解任一關聯式資料庫 3. 基本前端網頁設計(HTML、CSS、Javascipt) 4. 有意願學習各種新工具、架構  其他加分項目： 1. 瞭解.NET MVC架構 2. 瞭解 NoSQL，如 MongoDB。 3. 接觸過或瞭解其他前端框架，如: Angular、ReactJS 4. 接觸過或瞭解其他後端框架，如: Node express, Djngo, Flask 5. 熟悉金融科技(FinTech)現有技術及應用，如: 區塊鏈應用, 大數據分析等。 6. 熟悉任一雲端服務平臺，如: Azure, AWS, GCP。',\n",
       "  '擅長工具': '',\n",
       "  '工作技能': '',\n",
       "  '其它條件': ''},\n",
       " {'職位名稱': 'Radio Frequency Hardware Engineer, Consumer Hardware_Google_美商科高國際有限公司',\n",
       "  '工作地點': '新北市新店區',\n",
       "  '工作內容': \"Minimum qualifications: -Bachelor's degree in Computer Science, related field or equivalent practical experience.-3 years of experience in automated testing and test automation tools.-Experience with one or more general purpose programming languages, including: Objective C, Python, C or C++.  Preferred qualifications:-Master's degree in Computer Science or related field.-Experience with databases, SQL and NoSQL.-Experience with cloud computing services.-Familiar with at least 1 framework (Django, Flask, Tornado).-Familiar with RF test in factory test and validation.-Ability to travel 10% of the time as required. About the jobAt Google, our philosophy is build it, break it and then rebuild it better. That thinking is at the core of how we approach testing at Google. Unlike roles with similar names at the other companies, Test Engineers at Google aren't manual testers -- you write scripts to automate testing and create tools so developers can test their own code. As a Radio Frequency Automation Engineer, you navigate Google's massive codebase, identify weak spots and constantly design better and creative ways to break software and identify potential problems. You'll have a huge impact on the quality of Google's growing suite of products and services. You use your knowledge of testing and testability to influence better software design, promote proper engineering practice, bug prevention strategies, testability, accessibility, privacy, and other advanced quality concepts across products. Google's mission is to organize the world's information and make it universally accessible and useful. Only one thing consistently stands in the way between our users and the world's information—hardware. Our Consumer Hardware team researches, designs, and develops new technologies and hardware to make our user's interaction with computing faster, more powerful, and seamless. Whether finding new ways to capture and sense the world around us, advancing form factors, or improving interaction methods, our Consumer Hardware team is making people's lives better through technology. Responsibilities-Support Radio Frequency (RF) Engineers to be more productive.-Create RF automation tools, such as test automation and report automation.-Optimize tools to make processes faster and easier.-Work to make everything automated.-Work on multiple projects simultaneously.\",\n",
       "  '擅長工具': '',\n",
       "  '工作技能': '',\n",
       "  '其它條件': ''},\n",
       " {'職位名稱': '【2019校園徵才專區】系統所-程式設計師_資策會_財團法人資訊工業策進會',\n",
       "  '工作地點': '台北市松山區民生東路四段133號',\n",
       "  '工作內容': '依各單位需求，以下A.B.C.D項目擇一：A. 資訊系統架構規劃/前後端系統開發建置與維護、資料庫分析設計、應用程式開發與API設計管理、優化及加強現有軟體的功能和性能表現B. 人機應用介面開發、數據分析及可視化、web服務前後台開發/管理、移動裝置應用開發、專案需求開發規格設計C. Python後端研發，熟悉Flask或其他Python開發框架、具備Git版本控制相關知識、熟悉資料庫操作(MySQL/PostgreSQL)、具Container (Docker/K8s)使用經驗D. 霧端：平台程式開發維護、開發容器霧端平台、測試容器平台',\n",
       "  '擅長工具': '',\n",
       "  '工作技能': '',\n",
       "  '其它條件': '須精通至少一種程式語言：Java、JavaScript、Python、Web service、Front-end、back-end experiences、Scala、C#、C++、shell script'},\n",
       " {'職位名稱': 'Backend Developer_帥哥科技有限公司',\n",
       "  '工作地點': '台北市信義區松高路',\n",
       "  '工作內容': '必備技能:1.In-depth knowledge of Python, NodeJS2.Experience with Python web frameworks ie. flask/Django/tornado3.Utilized work queues for background processing4.In-depth knowledge of Mongo and Redis5.Excellent understanding of HTTP6.Experience developing REST APIs7.Designed for modular systems8.Worked with a cloud environment9.Excellent communication and organizational skills',\n",
       "  '擅長工具': '',\n",
       "  '工作技能': '',\n",
       "  '其它條件': '加分項目： 1.Worked with Python asyncio2.Experience developing in Go3.Event driven architecture4.Experience working with cluster environments and/or containers. ie. Kubernetes, Docker5.Development flow utilizing CI/CD6.Experience working with distributed systems7.Experience working with realtime APIs8.Able to communicate in English'},\n",
       " {'職位名稱': 'Backend Engineer(需熟Python、RESTful API )_好好投資科技股份有限公司',\n",
       "  '工作地點': '台北市中正區南海路1號13樓(金融科技創新園區)',\n",
       "  '工作內容': '【好好技能】1.具獨立以 Python開發後端系統，並熟悉相關Framework (EX：Flask or Django等)2.具備網站爬蟲實戰經驗(EX：懂如何不擾對象站，並能排除爬取阻礙)3.擁有資料庫 Schema 獨立設計能力(但我們還是會有資深技術主管協助你的)4.懂RESTful API 開發設計、架構開發、串接、測試及維護知識5.熟悉Git 版本管理及 Gitflow 【好好嚴選】我們正在找人，但尋志同道合，寧缺也不願濫選！我們不只找員工，更覓共同打拼的事業夥伴，雖是新創公司，但福利絕對優於上市公司。 您應該看得出，我們不同一般公司更認真仔細地徵才，注重每個環節，這是我們做好一件小事的標準，我們是站在世界金融科技風口的團隊，也是「79%」一定會成功的新創公司！這剩下「21%」的不確定，等待優秀且舉足輕重的您來為我們補足，如您只是帶著打工的心態，請不要來！如希望找到環境好，福利佳，能力快速成長的公司，歡迎您來試試看。 【好好徵才】(以下五項前提，任一未具備者勿投履歷)1.對有金融科技有興趣與熱情，想參與最夯的金融科技專案。(您現在不需很懂金融，但要有興趣) 。2.注重細節及使用流程，能從使用者角度思考。3.對 Web、Mobile Web開發、新技術開發具高度興趣及熱忱。4.具主動、獨立作業與思考能力、執行能力強、勇於跳出框架思考的能力。5.能有良好溝通表達能力、擇善不固執及團隊精神。 【好好選擇】1.我們重視使用者為中及工作氣氛，在這講求快速迭代，讓團隊互助合作有成就感！鼓勵主動提案改善，不墨守成規，打造敏捷開發、活力無限、樂在工作的新思維團隊。、2.我們重視技術人才的培育與職涯發展，提供內部技術交流學習、外部訓練課程(公司出資)，透過不同階段工作安排與規劃，工作輪調機制，培育各領域儲備人才，讓每位員工擁有個人發展舞台與空間。3.我們重視員工生活，公司提供內外部各項參與社團活動、旅遊補助、電影欣賞等，讓您在工作之餘，可以安排個人休閒娛樂，享受工作，樂於生活。4.內部環境自由，可自由參與其他大數據、AI、投資理財等學習，不斷增加能力。 【好好薪資】除工資薪水外，另有定期績效獎金、年終獎金。我們鼓勵 Life-Work Balance！但，若你真有工作沒做完，想熱血加班，我們設有清楚的加班費制度(按照勞基法)。 提供高於一般行情的薪酬，給具價值的您，確切薪資於面試時，將依實際能力/作品/經驗進行為最終核定，工作年資對我們不是非常重要。 【上班地點】金融科技創新園區 (台北市中正區南海路1號13樓) [中正紀念堂一號出口，出站一分鐘內就到辦公室]',\n",
       "  '擅長工具': '',\n",
       "  '工作技能': '',\n",
       "  '其它條件': '加分條件 (非必備要件，具備則加分)：1. 具搜尋引擎及相關技術實務經驗。 2.不含學習時間，有超過一年以上後端開發經驗佳。3.懂雲端暨大數據資料分析相關應用。 也歡迎碩博士在校學生Apply，我們彈性的工時可以讓您兼顧學業與工作。[有相關開發經驗者優先錄取] (面試時需能Demo作品-金融相關尤佳)'},\n",
       " {'職位名稱': '【AI】程式設計師_唯晶科技股份有限公司',\n",
       "  '工作地點': '台北市內湖區瑞湖街158號',\n",
       "  '工作內容': '1. 模組功能的設計、開發與實施；2. 承擔產品經理或指導人佈置的工作任務；3. 承擔專案和需求的開發、單元測試、上線維護等任務；4. 編寫相關工作的需求分析檔案、配置文檔和程式說明；5. 運用機器學習算法實現業務建模；6. 完成上級主管分配的工作任務、並達到公司制度規定的考核要求；7. 機器學習或大數據項目經驗者優先錄取。',\n",
       "  '擅長工具': 'UML、Python、MySQL、Oracle、PostgreSQL',\n",
       "  '工作技能': '',\n",
       "  '其它條件': '1. 4年以上後端開發經驗；2. 熟悉Python、B/S開發模式，熟練使用 Django、Flask等主流框架；3. 熟悉SQL，使用過Postgresq、lMySQL、Oracle等任意一種資料庫;4. 熟悉Redis/MemCache，RabbitMQ/ActiveMQ/ZeroMQ，ZooKeeper等底層中介軟體及分散式技術；5. 精通機器學習 sklearn 與深度學習 tensorflow 建模與資料分析技術6. 掌握Linux作業系統常用命令，熟悉Nginx, Apache等應用伺服器中的至少一種7. 熟悉設計模式；掌握物件導向軟體分析、設計方法，並能熟練應用UML及工具進行設計8. 思路清晰、善於思考、能獨立分析和解決問題;9. 有良好的代碼習慣，要求結構清晰，命名規範，邏輯性強，代碼冗餘率低；10.熱衷於新技術，能夠適應快速和發展的開發環境；11.工作細緻認真，開放和積極的工作態度，有良好的團隊合作精神；12.有使用spark大資料平臺、具有數理統計、資料倉儲或人工智慧專案經驗優先。'},\n",
       " {'職位名稱': '網站後台開發工程師-python_正美企業股份有限公司',\n",
       "  '工作地點': '台北市南港區南港路三段52號9樓',\n",
       "  '工作內容': '部門主要服務範圍如下：1.產業溯源應用服務2.列印即需服務3.企業供應鏈門戶網站4.基於區塊鏈（blockchain）的供應鏈協同/金融 這項職務主要負責以下內容：1.網站系統的設計與開發2.與產品或專案人員協作，完成軟體專案及服務網站的開發及維護',\n",
       "  '擅長工具': 'Linux、PHP、Python',\n",
       "  '工作技能': '',\n",
       "  '其它條件': '1.２年以上動態網站的開發經驗2.精通Python，並至少掌握一種網頁框架（如Django/Web.py/Flask/Tornado等）3.深刻理解MVC開發模式，有Web相關專案開發經驗者優先考慮4.熟悉至少一種SQL資料庫5.邏輯清晰、自我要求高，及良好的團隊精神；'},\n",
       " {'職位名稱': 'Sr. Backend Engineer_雲動科技股份有限公司',\n",
       "  '工作地點': '台北市內湖區台北市內湖區瑞光路423號4樓',\n",
       "  '工作內容': 'Orbweb Inc. is looking for a backend developer to join our team to help build our IoT. With our hardware partners, we enable devices to be accessible and controllable from the cloud. Your responsibilities include:* Participate in brainstorming sessions for product features and system architecture* Developing/deploying microservices* Improve existing code quality and performance* Join team and dig into new technologies to make things happen Required Qualifications* Bachelors of Computer Science (or other relevant degree)* Familiar with modern backend development tech. stack and development flow.* Experience building Restful/Web APIs and microservices* Experience with multi-region applications and databases* In-depth knowledge of HTTP technologies (http2/sdpy, proxies, caching)* Experience with tech stacks: Python, Flask, Django, celery, MongoDB, Postgres, docker PLUS:* In-depth knowledge of REST API and related (Authentication, Authorization, CORS, etc)* Experience using deployment clusters, kubernetes* Experience using CI/CD* Experience using real-time protocols* Other programming languages: Golang, NodeJS* Open-source advocate  How to ApplyPlease submit the following here or to engineering@orbweb.com* CV/Resume* A link to your Github/Bitbucket if any',\n",
       "  '擅長工具': '',\n",
       "  '工作技能': '',\n",
       "  '其它條件': ''},\n",
       " {'職位名稱': 'Full-Stack Web Application Developer_美商_睿科網路科技有限公司',\n",
       "  '工作地點': '台北市南港區',\n",
       "  '工作內容': \"Great Tech! Great Team! Great Culture! A10 Networks is a market leader in Secure Applications Services. The future of application, cloud, security, and analytics is exploding at A10 Networks. Are you up for the challenge? Join us and make your impact on the future! A10 Networks seeks for a high caliber candidate as Full-Stack Web Developer in our Taiwan Design Center! What you'll be doing:‧ Maintain and improve aGalaxy TPS, part of a suite of software and services for provisioning, deploying, and monitoring DDoS detection and mitigation.‧ Work closely with Senior Manager, Director of Engineering and other leaders on the design and implementation of solutions to complex product features.‧ Work closely with QA on test plan review and execution.‧ Work closely with other cross functional teams and individual contributors on ensuring product security and compliance.‧ Design and document technical specifications for features or framework architecture. What we need to see:‧ Have working experience with web application development using Python, Django, Flask, and AngularJS.‧ Have working experience with one or more of the following: Apache HTTP, NGINX, Elasticsearch, RabbitMQ, Logstash, MySQL, HBase, OpenTSDB. Experiences in running them in clusters is especially desired.‧ Have working experience with building SPA with professional UX.‧ Have strong networking knowledge or a strong willingness to learn.‧ Understanding of CSS3, HTML5, RWD, ES5 & ES6.‧ Knowledge of designing and using REST APIs.‧ Experience with at least one of Unit Testing, E2E Testing, TDD, BDD, and Test Automation.‧ Fluent with microservices architecture such as Docker and Kubernetes.\",\n",
       "  '擅長工具': 'MySQL、DHTML、HTML',\n",
       "  '工作技能': '',\n",
       "  '其它條件': '‧ Have working experience with ReactJS, Redux, NodeJS, Webpack.‧ Experience in CSS preprocesser, e.g., LESS, SASS, PostCSS, CSSNext, or CSS Module.‧ Have experience with LinuxHA using corosync, pacemaker/heartbeat, and drbd.‧ Have experience with microservices architecture with Docker and Kubernetes.‧ Have experience with automated operaration installation using Kickstart or Preseed.‧ Have experience with packaging python and debian software.‧ Have experience with customizing Ubuntu or CentOS and system administration.‧ Have experience with multi-tenant architecture.‧ Keen on following the cutting-edge web front end technologies.‧ Excellent written and oral English.‧ Appreciation for UI design and quality.‧ Solid understanding or strong interest to learn topics in computer networks and network security.‧ Experience in CSS preprocesser, e.g., LESS, SASS, PostCSS, CSSNext, or CSS Module.'},\n",
       " {'職位名稱': '後端軟體工程師_Advantech_研華股份有限公司',\n",
       "  '工作地點': '台北市內湖區瑞光路26巷20弄1號',\n",
       "  '工作內容': '基於Cloud Platform環境下，開發網頁/行動應用之後端服務。設計具彈性可擴充的系統架構。考量資訊安全層面規劃穩固的服務框架。研究和探索IOT相關技術與前端確認API界接服務與資料格式定義\"',\n",
       "  '擅長工具': '',\n",
       "  '工作技能': '',\n",
       "  '其它條件': '工作技能與專長 1.熟悉Python or Node.js。具備2.MQTT / RESTful / AMQP 開發經驗。3.熟悉MVC開發架構，有Flask / Express等框架的使用經驗以及Web Socket經驗。4.有資料庫系統的開發經驗(MongoDB, PostgreSQL)5.具備壓力測試與系統優化能力。6.了解Git操作與版本控制。7.了解Scrum工作流程。其他條件 1.接觸過Golang / Java / C# (Nice to have)2.有Microsoft Azure / AWS 的實作經驗。（Nice to have）1.有Machine Learning / Data Mining的實作經驗。（Nice to have）2.有使用Docker相關經驗 （Nice to have）\"'},\n",
       " {'職位名稱': 'Python後端工程師(IoT物聯網)_易勝資訊股份有限公司',\n",
       "  '工作地點': '台北市松山區',\n",
       "  '工作內容': '1.開發具有高延展性、高穩定性的後端基礎架構 2.維護現有Python後端系統，並進行效能優化3.撰寫技術文件及客戶操作文件4.整合其他系統API5.撰寫unit test及服務部屬腳本(Jenkins)',\n",
       "  '擅長工具': 'Linux、Python',\n",
       "  '工作技能': '',\n",
       "  '其它條件': '1.兩年以上後端程式開發經驗2.熟悉Flask或其他Python開發框架 3.熟悉Git版本控制相關知識4..熟悉資料庫操作(MySQL/PostgreSQL)5.具有Container(Docker/K8s)使用經驗6.具有Linux環境開發經驗7.具備優秀的學習能力、學習熱忱與良好的人際交流與協作性公司福利'},\n",
       " {'職位名稱': 'Openstack Devop Engineer (月薪6W ~ 9W)_愛勝遊戲股份有限公司',\n",
       "  '工作地點': '台北市內湖區基湖路三巷9號5樓之3',\n",
       "  '工作內容': '1. 熟悉任一 Language Python/Golang/Bash Script2. Master in Linux3. 熟悉軟體定義網路(SDN)4. 3+ years of experience of server-side software engineering (C or Go or Python) 5. Develop, integrate and test OpenStack solution6. Understanding of the importance of smart metrics and alerting - Prometheus, influxdb or grafana 7. knows Flask is a plus',\n",
       "  '擅長工具': 'Python、Go',\n",
       "  '工作技能': '',\n",
       "  '其它條件': '以下為加分條件:a. 任一靜態語言一年以上的開發經驗(Java/C/C++/C#)b. 使用AWS SDK或Azure SDK的經驗c. Resful API的開發與整合經驗d. 熟悉git, svn等版本管理軟體e. 有數據分析相關經驗或統計背景f. good team player & quick learner'},\n",
       " {'職位名稱': '後端工程師_龎帝數位資訊有限公司',\n",
       "  '工作地點': '新北市新店區民權路108號4樓之B',\n",
       "  '工作內容': '1. 負責龎帝線上教學平台的測試、文件製作及部分功能開發2. 負責教學相關資源資料維護、後台系統的功能維護及改善3. 協助龎帝各平台產品後端設計、開發、維護和專案管理工作4. 協助軟體開發規劃，包含軟體系統架構分析與資料庫設計5. 與使用者、教學設計專家、教師、產品設計師、前端工程師等一起探討、設計並實現新世代教學產品應該具備的各項功能6. 透過數據及各種可及的回饋，快速迭代調整改善產品運作及維護端的效率及品質7. 與各國團隊協調溝通，共同達成任務',\n",
       "  '擅長工具': 'Python、MySQL',\n",
       "  '工作技能': '軟體工程系統開發',\n",
       "  '其它條件': '能力及條件- 熟悉 Python, 使用過 Python web framework (Django/Flask) - 熟悉 Linux 指令與操作- 熟悉資料庫架構規劃與 ORM 開發- 熟悉 SQL Database (MySQL/MariaDB/PostgreSQL) - 熟悉 Git 與 Git flow 加分- 使用雲端平台經驗 (AWS/Azure/GCP) - RESTful API 實務經驗- 具備(自動)測試及 CI/CD 實務經驗 - SEO 實務經驗- 具自然語言處理 (Natural Language Processing, NLP) 實務經驗或作品 - 對機器學習、深度學習、人工智慧有興趣、或具開發經驗 - 具備系統分析與軟體架構設計經驗，DevOps 實務經驗，可獨當一面進行系統設計開發至上線運作階段- Web 相關專案/社群參與開發的經驗及成果- 具備敏捷開發方法實務經驗- 其他有助於團隊共同開發之能力 (例如溝通能力、自主學習能力、指導後學以及帶領團隊的經驗)'},\n",
       " {'職位名稱': '智慧水務專長、電腦視覺AI專長工程師_興創知能股份有限公司',\n",
       "  '工作地點': '台北市中正區思源街18號3F',\n",
       "  '工作內容': '【智慧水務專長 】(水利工程或CAE專業背景優先)   (1)熟悉二維水文、水理模擬分析，若具備FEWS-Taiwan使用經驗更佳。   (2)具備LPWAN通訊架構概念 (NB-IoT, LoRA等)。   (3)具備水文觀測感測器、水利建造物感測器、河川水資源管理感測器規劃與分析經           驗者優先錄取。   (4)具備物聯網感測器開發經驗優先錄取 (或有使用Arduino與Raspberry Pi之經驗者          亦可)。   (5)具備機器學習(迴歸方法、分類方法、類神經網路等)使用經驗者優先錄取。 【電腦視覺AI專長】(資訊工程背景尤佳，若同時具有感測器開發經驗者優先錄取)   (1)AI演算法（人臉辨識、車型辨識、水位辨識、聲紋辨識）開發與佈署   (2)發展可商業化產品（結合空間資訊、氣象、土木、水利、交通、防災領域知識與A      I技術）   (3)AI相關雲端服務的前後端系統開發與資料庫設計   【其他要求】       1熟悉深度學習理論       2熟悉 Python 及至少一種深度學習框架       3熟悉影像處理工具與電腦視覺演算法       4獨立追蹤原文論文並學習新的演算法       5具備網站前後端（Django or Flask）經驗或學習意願',\n",
       "  '擅長工具': 'C++、FORTRAN、Java、Matlab、Python、Access、Excel、PowerPoint、Word、GIS',\n",
       "  '工作技能': '',\n",
       "  '其它條件': '1.認真負責、有效管理時間、創新學習、可配合團隊及獨立完成研發工作。2.具英文聽、說、讀、寫能力，可自主交談、獨立閱讀與撰寫論文，若具備TOEIC或英文檢定證書尤佳。3.具備專案管理能力，若具備國際專案管理師證照PMP尤佳。4.程式方面，除python須熟悉外，另須對matlab、R、fortran、Java、C++等語言至少有一種以上有使用或建置經驗。5.熟稔GIS (ArcGIS, Mapinfo, QGIS等)，有專案應用經驗者尤佳。'},\n",
       " {'職位名稱': 'Backend/DevOps Engineer_Tomofun_友愉股份有限公司',\n",
       "  '工作地點': '台北市松山區民權東路3段178號4樓',\n",
       "  '工作內容': '【 About the role 】:Does working on the generation architecture and application development get you motivated? Furbo Engineering is a high-performance culture marked by fearlessness and hyper-productivity. This position offers a great opportunity to work with other senior engineers on our flagship and supporting products. We have been building a great product for years and are looking to innovate even further. We are looking for prolific engineers to join our engineering team and continue revolutionizing the heart of our platform.We\\'re seeking strong 【Backend engineers】 looking to use their knowledge of building scalable, robust, and fault-tolerant services that support our unique rate-of-growth requirement. If you\\'re excited about cloud development, committed to thoughtful architecture design, and like tackling problems of unprecedented scale on a small, fast-moving team, you\\'ll fit right in here. 【 About the company 】:At Tomofun, we LOVE pets and technology. Our vision is to bring joy and innovation to every pet lover in the world. Headquartered in Taiwan, we’re building a one-of-a-kind global company that helps pets and pet parents stay connected through our innovative products. Our pioneer product, Furbo DogCamera, is the #1 best selling pet camera on Amazon US, Canada, UK, and Japan and also recommended by The Ellen Show as the #1 gift on every pet-lover’s Amazon wishlist. The learning curve is steep. But the work is exhilarating. Tomofun is on the cusp of a pet-tech boom and we’re looking for smart, innovative thinkers who aspire to incredible things. 【 What you\\'ll do 】：・Develop backend services・Deliver and deploy the latest features to our production users ・Design, maintain and scale our big data acquisition infrastructure・Assess the root cause of problem reports, replicate the situation in a test environment,and deploy fixes to production・Implement proper monitoring and alerts for running services 【 Who you are 】:・You\\'re an experienced developer in Python, Restful APIs, NoSQL/SQL, other scripting languages, Linux and have the confidence to easily pick up others・You\\'ve had production level experience designing / deploying / administering applications in the cloud・You\\'ve worked in a high-availability environment, providing 24x7 SaaS service・You love to embrace cutting edge techniques: AWS, docker container and so on・You have experience with the tools for infrastructure as code: Cloudformation, Terraform, Ansible and so on・You have experience with the CI/CD process and promoting code from developmentenvironments into production・You are experienced with monitoring production infrastructure systems and skilled atsetting notification thresholds・You follow test-driven development methods and take pride in your code・You possess excellent written and verbal communication skills・You possess excellent analytical and troubleshooting skills・Able to communicate freely in both English and Mandarin with your team 【 Perks 】: - You can bring your pet to the office so they will never be home alone again :) - The rare opportunity to work with an international team who have a passion to change the world - A LOT of free snacks and drinks for humans and pets! - Comfortable and creative working environment with sofa and kitchen. It’s just like your home! - Plenty of activities such as afternoon tea, pizza day & movie night, and birthday party!  【 Benefits 】: - There’re always adorable dogs and cats in the office. We love our \"pawesome” colleagues! - Unlimited vacation policy; work hard and take time off when you need it - Join our volunteer program — we are passionate about giving back to society - Medical insurance and free yearly health checkup - Company trip and employee outing program - Internal training workshop and external training subsidy to expand on your skill sets - Flexible working hours. No more clock in or out!',\n",
       "  '擅長工具': 'Linux、Python',\n",
       "  '工作技能': '',\n",
       "  '其它條件': '・Required tools：LinuxPlus: AWS, Docker container, Kubernetes, Database knowledge (NoSQL/SQL) ・Required skills：Python(flask)Plus: good to have other developing experience in different languages, e.g. Java, GO, Node.js ... etc'},\n",
       " {'職位名稱': 'Sr. Backend Engineer 資深後台軟體工程師_香港商群攜科技有限公司台灣分公司',\n",
       "  '工作地點': '台北市大安區敦化南路二段180號6樓',\n",
       "  '工作內容': '•負責\\xa0Backend\\xa0新功能開發與維護\\xa0 • Backend\\xa0架構設計以及性能最佳化\\xa0 •導入新技術提升\\xa0Backend\\xa0開發效率及品質\\xa0',\n",
       "  '擅長工具': 'Linux、Python、MySQL、PostgreSQL',\n",
       "  '工作技能': '軟體程式設計',\n",
       "  '其它條件': 'Required Qualifications:• 3+\\xa0years\\xa0of\\xa0experience\\xa0in\\xa0large\\xa0scale\\xa0service\\xa0development.\\xa0 • Experience\\xa0in\\xa0Django,\\xa0Flask,\\xa0and\\xa0container\\xa0service\\xa0development.\\xa0 • Experience\\xa0in\\xa0AWS\\xa0or\\xa0GCP\\xa0cloud\\xa0platform\\xa0deployment\\xa0and\\xa0management.\\xa0 • Experience\\xa0in\\xa0RDS,\\xa0NoSQL\\xa0database\\xa0e.g.\\xa0PostgreSQL,\\xa0DynamoDB,\\xa0Redis'},\n",
       " {'職位名稱': '前端數據工程師(Frontend Data Engineer)_霖園關係企業_神坊資訊股份有限公司',\n",
       "  '工作地點': '台北市大安區仁愛路四段296號16樓',\n",
       "  '工作內容': '【工作內容】主要職責：數據產品的網頁前端設計開發 職務說明：1.數據服務環境的網頁機制設計規劃與開發2.互動與分析網頁機制設計規劃與開發3.介接數據工程師開發的RestAPI ---------------------------------------------需具備以下條件：1.熟悉CSS與Javascript語言2.熟悉Python程式語言3.熟悉任一Python網站服務的框架，如Flask、Django、Pyramid 或其它4.愛好自我學習、探索與分享的態度',\n",
       "  '擅長工具': '',\n",
       "  '工作技能': '',\n",
       "  '其它條件': '符合其中條件者尤佳：1.熟悉分析繪圖，如Matplotlib、Bokeh、或D3視覺化繪圖套件2.熟悉Linux的程式開發環境與Shell Script的使用3.具備電商或品牌商領域的經驗'},\n",
       " {'職位名稱': '數位研發專業人員-Full Stack Software Engineer_國泰金控_國泰金融控股股份有限公司',\n",
       "  '工作地點': '台北市信義區松仁路7號',\n",
       "  '工作內容': '1. Design, build, and maintain efficient, reusable, and reliable code2. Build up an open banking APIs platform and integrate with open APIs3. Maintaining existing codebase, to include troubleshooting bugs and adding new features4. Ensure the best possible performance, quality, and responsiveness of the applications5. Building elegant web applications using HTML, CSS, JavaScript and other framework6. Collaborate with a team to define, design, and ship new features7. Participate in an Agile/SCRUM environment/team',\n",
       "  '擅長工具': '',\n",
       "  '工作技能': '',\n",
       "  '其它條件': '1. 3+ years of professional experience working with Python applications in production2. 2+ years of professional experience with HTML5, CSS, and JavaScript3. Have experience with Django, Flask or other web framework 4. Have experience build up CMS system with Open Source framework5. Have experience working with modern web technologies, including cloud computing platforms, relational databases, and RESTful servers.6. Familiarity with Relational Databases (Oracle, SQL Server, MySQL) and NoSQL Databases (MongoDB)7. Familiarity with design and implement RESTful APIs8. Proficient understanding of code versioning tools, such as Git9. Familiarity in Vue or React and a state management library like Vuex or Redux10. Experience with NodeJS11. Implementing automated testing platforms and unit tests12. Prior work in financial services or the FinTech sector13. Familiarity CI/CD process'},\n",
       " {'職位名稱': 'Web全端工程師_興創知能股份有限公司',\n",
       "  '工作地點': '台北市中正區思源街18號3F',\n",
       "  '工作內容': '1. 負責網站UI規劃，Web前後端程式開發撰寫。2. 物聯網與地理資訊系統整合開發。 必備條件：1. 熟悉Web開發與建置的相關概念，如JSON、AJAX、CRUD、CORS、CSR、SSR 與SPA等概念。 2. 熟悉Javascript、CSS3、HTML5與jQuery，並具備RWD網站開發經驗(如Bootstr ap的應用)。 3. 熟悉資料視覺化套件的應用(如plotly、c3、d3、highcharts、datatables.js與am charts等任一)。 4. 熟悉後端開發(如asp.net、或Python/Django/Flask與apache+php任一)，並熟悉資料庫SQL語法，並能依需求建立後端API與前端介接使用。  加分條件：1. 熟悉Web-GIS平台設計與建置經驗(以開源為主，如Leaflet、Openlayer與Mapb ox等)，若懂turf.js、geoserver的應用尤佳。 2. 有系統分析經驗者加分。',\n",
       "  '擅長工具': 'Python、Access、HTML、JavaScript、Excel、PowerPoint、Word、GIS',\n",
       "  '工作技能': '',\n",
       "  '其它條件': '1.認真負責、有效管理時間、創新學習、可配合團隊及獨立完成研發工作。 2.具英文聽、說、讀、寫能力，可自主交談、獨立閱讀，若具備TOEIC或英文檢定證書尤佳。'},\n",
       " {'職位名稱': 'Data Scientist 資料科學家_英屬開曼群島商萬里雲互聯股份有限公司台灣分公司',\n",
       "  '工作地點': '台北市信義區基隆路一段333號18樓',\n",
       "  '工作內容': 'CloudMile is a young start-up team which enables clients solving most mission-critical challenges by leveraging top-notch artificial intelligence, cloud and security technologies with leading vendors in the markets.As a “CloudMiler”, we thrive to be the leading Enterprise-grade Artificial Intelligence, cloud and security solutions providers in Asia. We are the First Google Premier Partner to acquire Infrastructure and machine learning Specializations in North Asia with strong investment in R&D and technologies.As a Data Scientist, he/she will collaborate with engineers and conduct machine learning solutions on industrial problems. This position’s responsibility includes working with stakeholders to identify opportunities for leveraging customer’s data to drive business solutions and develop custom data models and algorithms to apply to customer data sets. The right candidate will demonstrate the ability to work with a wide range of stakeholders and functional teams. Data Scientist【Job Description】 ✦ Cooperate with solution architects and sales to understand and assess customer machine learning use cases✦ Work with large, complex data sets. Solve difficult, non-routine analysis problems, applying advanced analytical methods as needed. Conduct end-to-end analysis that includes data gathering and requirements specification, processing, analysis, ongoing deliverables, and presentations.✦ Build and prototype analysis pipelines iteratively to provide insights at scale. Develop comprehensive understanding of data structures and metrics, advocating for changes where needed for both products development and sales activity.✦ Interact cross-functionally with a wide variety of people and teams. Work closely with engineers to identify opportunities for, design, and assess improvements for clients✦ Make business recommendations (e.g. cost-benefit, forecasting, experiment analysis) with effective presentations of findings at multiple levels of stakeholders through visual displays of quantitative information.✦ Research and develop analysis, forecasting, and optimization methods to improve customers current solution for particular use cases.✦ Conducting Machine Learning training sessions for end users and administrators【Minimum Qualification】 ✦ Master Degree in e.g., statistics, operations research, bioinformatics, economics, computational biology, computer science, mathematics, physics, electrical engineering, industrial engineering.✦ 3 years of programming experience in Python, R, C++, or JavaScript. ✦ 1+ years of programming experience in machine learning✦ 1+ years of practical machine learning use cases in particular industrial applications. ✦ Excellent organization and communication skills.【Preferred Qualification】 ✦ 1+ years of hands-on experience in Google cloud platform✦ Familiar with restful framework (Django, flask, falcon, etc)✦ Demonstrated skills in selecting the right statistical tools given a data analysis problem. ✦ Demonstrated effective written and verbal communication skills.✦ Demonstrated willingness to teach others and learn new techniques.',\n",
       "  '擅長工具': '',\n",
       "  '工作技能': '',\n",
       "  '其它條件': ''},\n",
       " {'職位名稱': '(研發設計類)-雲端工程師-智慧系統處_大同股份有限公司',\n",
       "  '工作地點': '台北市中山區中山北路三段22號',\n",
       "  '工作內容': '1. 建構雲端服務 (Azure, AWS, GCP) / 微服務2. 建構物聯網雲端監控系統',\n",
       "  '擅長工具': '',\n",
       "  '工作技能': '',\n",
       "  '其它條件': '基本能力：1. HTML5, CSS, RWD2. Javascript(Ajax), jQuery3. Python4. Python Django Web Framework5. Restful API加分項目：1. 大數據處理經驗2. Azure 服務建構經驗3. Python Flask Web Framework4. Linux 基本操作5. MS SQL Server 查詢'},\n",
       " {'職位名稱': '[遊戲應用部] Python 工程師_奇點數位科技有限公司',\n",
       "  '工作地點': '台北市內湖區陽光街321巷8號10樓',\n",
       "  '工作內容': '1. 遊戲伺服器端架構設計、邏輯開發、優化、維護 2. 遊戲伺服器端相關運維工具開發、優化、維護 3. 遊戲伺服器更新發佈以及故障處理',\n",
       "  '擅長工具': 'Linux、Python、MySQL',\n",
       "  '工作技能': '',\n",
       "  '其它條件': '1. 熟悉Python開發(Django, flask, tornado, celery)2. 熟悉資料庫應用(MySQL, Redis, MongoDB...)3. 熟悉Linux 指令與應用4. 熟悉git版本控制指令、流程。5. 態度積極,認真負責,良好的溝通及問題解決能力'},\n",
       " {'職位名稱': '軟體工程師 （NLP及圖片deep learning）_豪爾股份有限公司',\n",
       "  '工作地點': '台北市內湖區瑞光路513巷30號3樓',\n",
       "  '工作內容': '協助客戶透過資料解決商業問題，運用數據驅動公司價值圖片深度學習實作，系統完整串接。1.Python flask, nginx 等程式開發能2.熟Elastic search 及 postgresql 操作3.具備data mining/machine learning 特別是 決策樹、CNN及LSTM4.主動學習、細膩。',\n",
       "  '擅長工具': 'Python、Data Modeling、Database Management',\n",
       "  '工作技能': '軟體工程系統開發、韌體工程開發、功能測試(function test)、軟體程式設計、資料庫系統管理維護、資料庫程式設計',\n",
       "  '其它條件': '高度自我要求，自主成長者佳。'},\n",
       " {'職位名稱': 'Senior Software Developer_功典資訊股份有限公司',\n",
       "  '工作地點': '新北市新店區建國路276號2樓',\n",
       "  '工作內容': '職責要求： 1. 從事 Web 開發相關工作，主要使用 Python, Vue.js, Linux。2. 負責產品功能的開發和迭代，持續優化。3. 處理數據清整，導入匯出。 任職資格： - 良好的團隊合作意識，對寫程式，研發軟體系統有熱情。- [Python] 熟悉 Python 程式語言，使用過至少一種 python web 框架, 如 Django, Flask- [關聯式數據庫] 熟悉至少一種關聯式數據庫, 如 MySQL, MS-SQL- [F2E] 使用過至少一種前端框架, 如 Vue.js, ReactJS, Angular- [Linux] 熟悉 Linux 日常操作及維護指令- [CLOUD] 使用過至少一種主流雲端平台, 如 AWS, GCP, Azure 加分項目+ 使用過一些 devops 工具如: Jenkins, Docker+ 使用過 ORM library, 如 SQLAlchemy+ 熟悉大量發送 email 的相關知識',\n",
       "  '擅長工具': 'Linux、Python、JavaScript',\n",
       "  '工作技能': '軟體程式設計、資料庫系統管理維護、網路規劃管理',\n",
       "  '其它條件': ''},\n",
       " {'職位名稱': '知名科技公司誠徵Python 後端工程師_新加坡商艾得克有限公司台灣分公司',\n",
       "  '工作地點': '台北市松山區',\n",
       "  '工作內容': '1. 負責公司平台後端開發 2. 負責公司後台開發 3. 負責軟體之分析、設計以及程式撰寫。 4. 規劃執行軟體架構及模組之設計，並控管軟體設計進度。 5.. 進行軟體之測試與修改。 6. 規劃、執行與維護量產的產品。 7. 協助研發軟體新技術與新工具。',\n",
       "  '擅長工具': '',\n",
       "  '工作技能': '',\n",
       "  '其它條件': '1) 一年以上 Flask 網站開發經驗 2) 有自主學習能力、熱愛技術研究 2) 撰寫單元測試及 CI 經驗 3) 熟悉 gitflow 開發流程 4) 熟悉 HTML, CSS 及 JavaScript 5) 良好的技術相關英語能力 6) 態度積極認真，耐心負責，良好的團隊溝通及問題解決能力 7) 具電子商務概念者優先考慮三年以上開發 python 經驗  1) 熟 flask 框架開發與應用 2) 熟 sqlalchemy ORM 與 SQL Syntax 3) 熟 postgresql 資料儲存系統 4) 對 restful 格式有深刻了解，並能依其設計精神開發 api 5) 理解 html5、css、javascript 6) 使用 git, aws, slack, jenkins'},\n",
       " {'職位名稱': 'python程式開發工程師(台北)_友宏整合行銷有限公司',\n",
       "  '工作地點': '台北市南港區南港軟體園區三重路19-11號E棟3樓',\n",
       "  '工作內容': '1、具Python爬蟲、自動化程式開發能力 2、有用django或flask開發網站的經驗與作品 3、有深度學習模型建立經驗佳',\n",
       "  '擅長工具': 'Linux、Python',\n",
       "  '工作技能': '軟體程式設計',\n",
       "  '其它條件': ''},\n",
       " {'職位名稱': '後端工程師 Backend Engineer_iCHEF_資廚管理顧問股份有限公司',\n",
       "  '工作地點': '台北市松山區敦化北路145巷12號3樓',\n",
       "  '工作內容': '[iCHEF Engineering對工程師的期許]＊能實作出高效, 高擴展性和高可測試性的程式和設計 ＊能獨立並有效率地完成主要功能 ＊主動積極地解決問題並找尋可以改善的地方 ＊透過程式解決餐廳問題並藉由系統資料增加餐廳營收 ＊構建穩定的基礎結構符合跨國使用',\n",
       "  '擅長工具': 'Python、Ruby、MySQL',\n",
       "  '工作技能': '',\n",
       "  '其它條件': '＊2 年以上大型前端或後端架構開發經驗, 請附上曾經參與或自行開發的架構簡介 ＊熟悉動態語言，ex: Python / or Ruby / or Javascript＊熟悉 Web Framework，ex: Ruby on rails / or Django / or Flask＊1年以上雲端伺服器使用經驗，ex: AWS / or Google Cloud platform / or Azure＊1年以上關聯性資料庫使用經驗，ex: MySQL / or PostgreSQL＊熟悉 Restful APIs 如果你有...就太好了 （額外加分題）＊AngularJS, ReactJS, 的經驗 (加分)＊Open source project 的經驗 (加分)＊Scrum, TDD, BDD 的經驗 (加分)＊熟悉AI/MachineLearning (加分)＊資訊電機的學歷背景 (加分)'},\n",
       " {'職位名稱': '運維工程師_天旭國際科技有限公司',\n",
       "  '工作地點': '台北市信義區信義路五段7號15樓B室',\n",
       "  '工作內容': '1.\\t與後端開發、前端開發、及專案負責人溝通，完成網站部署並確保服務效能穩定及系統安全2.\\t開發與建置自動化部屬方案/系統，提升專案導入即部署流程 3.\\t開發與建置監控系統4.\\t研究、討論並解決攸關服務穩定性的問題，避免重複發生5.\\t為各種服務架設、環境建置撰寫流程與使用文檔',\n",
       "  '擅長工具': '',\n",
       "  '工作技能': '',\n",
       "  '其它條件': '1.\\t熟悉基礎網路知識架構、HTTP/HTTPS、TCP/IP、DNS、CDN。2.\\t孰悉Linux(Ubuntu, Centos)環境建置與性能調配 3.\\t孰悉NGINX、Apache等Web Server架設以及設定調校。4.\\t孰悉MySQL、Redis設定與調校 5.\\t孰悉Python、Shell、Bash、C、Perl中至少一種語言  6.\\t邏輯思維清晰、沉著冷靜、自律自學 7.\\t富責任感、團隊精神 加分項目：1.\\t具備架設監控系統經驗(Zabbix, Cacti, Nagios, etc.)。 2.\\t具備Ansible、Saltstack等自動化部署經驗。 3.\\t瞭解服務Load-balancing、HA概念4.\\t具備架設Log收集分析工具經驗(ELK,Splunk,etc)。 5.\\t孰悉GCP、AWS、Azure雲端服務。 6.\\t具備Python,JAVA後端系統開發經驗(Django,flask,etc)'},\n",
       " {'職位名稱': 'Junior Software Developer_功典資訊股份有限公司',\n",
       "  '工作地點': '新北市新店區建國路276號2樓',\n",
       "  '工作內容': '職責要求： 1. 從事 Web 開發相關工作，主要使用 Python, Vue.js, Linux。2. 負責產品功能的開發和迭代，持續優化。3. 處理數據清整，導入匯出。 任職資格： - 良好的團隊合作意識，對寫程式，研發軟體系統有熱情。- [Python] 熟悉 Python 程式語言，使用過至少一種 python web 框架, 如 Django, Flask- [關聯式數據庫] 熟悉至少一種關聯式數據庫, 如 MySQL, MS-SQL- [F2E] 使用過至少一種前端框架, 如 Vue.js, ReactJS, Angular- [Linux] 熟悉 Linux 日常操作及維護指令 加分項目+ 使用過一些 devops 工具如: Jenkins, Docker+ 使用過 ORM library, 如 SQLAlchemy+ 熟悉大量發送 email 的相關知識+ 使用過雲端平台, 如 AWS, GCP, Azure',\n",
       "  '擅長工具': 'Linux、Python、JavaScript',\n",
       "  '工作技能': '軟體程式設計',\n",
       "  '其它條件': ''},\n",
       " {'職位名稱': '資料分析研發工程師 (Python)_大數據股份有限公司',\n",
       "  '工作地點': '台北市中山區',\n",
       "  '工作內容': '本公司為專業社群資料分析廠商，提供網路社群分析大數據平台《KEYPO大數據關鍵引擎》，網羅社群與媒體，透過AI機器學習在海量資料中洞察網路口碑。推出粉專分析大數據平台《FANSDO粉絲行為追蹤器》，洞悉粉絲行為，透過大數據剖析粉專經營績效與最佳互動時機。 本職務專注於：開發分析系統，API，數據分析引擎與數位儀表板。對資料科學、大數據分析、人工智慧有興趣者。 必要技能- 熟悉 Python 語法- 有 Django Framework 開發經驗- 研發方向: 資料檢索、文字探勘、語意分析、資料視覺化- 熟 SQL- 有 Flask (或Falcon)使用與開發經驗 加分技能：- 懂得 Web Server 運作，熟 Nginx- 熟悉推薦演算法、NLP(自然語言處理)、語意分析方法；熟悉Deep Learning演算法，具備Big Data 分析經驗尤佳。- 具有 Linux (Ubuntu)環境下開發的經驗，熟悉docker。- 熟悉一套容器調度工具，Docker Swarm 或 Kubernetes 尤佳- 有 RESTful API 的開發經驗- 熟悉Redis、Elasticsearch、MongoDB、ArangoDB 或 PostgreSQL尤佳- 熟悉 Git flow 開發流程- 了解前端技術佳- 良好的溝通及問題解決能力。',\n",
       "  '擅長工具': 'Linux、OOP、Python、Data Modeling、ETL、RDBMS、Node.js、Django、Version Control、Data Architect',\n",
       "  '工作技能': '系統架構規劃、系統維護操作、軟體工程系統開發、軟體品質與保證、功能測試(function test)、問題追蹤處理(Bug tracking)、軟體整合測試、軟體程式設計、網路程式設計、模組化系統設計、資料庫程式設計、系統架構規劃與維護',\n",
       "  '其它條件': '1.有能力自主學習，熱愛技術研究2.主動改善產品與平台3.有耐心，具備團隊溝通能力4.對敏捷式開發、巨量資料分析有經驗或興趣'},\n",
       " {'職位名稱': '[和泰汽車集團  和泰聯網] 網頁全端開發工程師_和泰聯網股份有限公司',\n",
       "  '工作地點': '台北市中山區松江路433號12樓',\n",
       "  '工作內容': '<職務內容> 1.撰寫系統前端互動式UI介面， 提升用戶體驗打造優異使用者介面 2.撰寫Restful程式， 3.維護網站(Web Service)程式的開發、佈建、除錯等 4.與設計師、PM、Back-End合作，迭代產品需求，提升UI與UX體驗。 必要條件: 1. 熟悉HTML、CSS 、Leaflet2. 熟悉使用過 JavaScript 或 jQuery 的經驗 3. 熟悉端框架(Vue.js) 4. 熱愛前端開發，喜歡嘗試各種前端新技術，解決問題 5. 具備 Git 版本控制系統使用經驗6. 熟悉跨裝置與跨瀏覽器相容技術7. 前端資訊安全設計是開發必要條件8. 良好的溝通技巧與團隊合作(最重要)',\n",
       "  '擅長工具': 'HTML、JavaScript、jQuery、CSS、Django',\n",
       "  '工作技能': '軟體程式設計、網路程式設計、資料庫程式設計',\n",
       "  '其它條件': '加分條件1.\\t熟悉python flask 或 Django 架構2.\\t熟悉ORM程式設計技術 學歷要求：碩士以上，或學士具備三年以上工作經驗科系要求：資訊工程相關、電機電子工程相關 注意事項參加面試時請準備 [程式碼或系統作品展示]'},\n",
       " {'職位名稱': 'Python 全端網站工程師(集團總公司)_台一國際股份有限公司',\n",
       "  '工作地點': '台北市松山區民生東路三段129號10樓',\n",
       "  '工作內容': '使用 PYTHON 進行設計與開發，網站應用程式系統、報表自動產生與列印功能、資料收集、儲存、資料庫管理.',\n",
       "  '擅長工具': '',\n",
       "  '工作技能': '普通小型車',\n",
       "  '其它條件': '本工作將與IT團隊合作，以Python為開發基礎，結合公司內的生產機台數據、SAP ERP數據、讀卡機、網路攝影機、網路設備等...自動化管理，親手打造雲端大數據與自動化控制平台。PS.請在投遞履歷時，將線上作品網址，附在履歷中.(需有即時抓取資料的結果呈現)   或面試時請自行攜帶設備以呈現作品1.本工作務必熟悉 Python 腳本語言，及Python 之 Django或Flask 框架2.需熟悉資料庫，(如 MS SQL、MY SQL、Postgres SQL )3.具有獨立解決自己份內工作問題的能力4.有自我學習動機，能夠快速自行搜尋並吸收新知識，與使用新工具的能力'},\n",
       " {'職位名稱': 'Google Cloud Platform 數據工程師 (Data Engineer)_英屬開曼群島商萬里雲互聯股份有限公司台灣分公司',\n",
       "  '工作地點': '台北市信義區基隆路一段333號18樓',\n",
       "  '工作內容': 'CloudMile is a young start-up team which enables clients solving most mission-critical challenges by leveraging top-notch artificial intelligence, cloud and security technologies with leading vendors in the markets.As a “CloudMiler”, we thrive to be the leading Enterprise-grade Artificial Intelligence, cloud and security solutions providers in Asia. We are the First Google Premier Partner to acquire Infrastructure and machine learning Specializations in North Asia with strong investment in R&D and technologies. 【Job Description】 ✦ Cooperate with sales to understand and assess customer requirements✦ Enables data-driven decision making by collecting, transforming and visualizing data. ✦ Designs, builds, maintains and troubleshoots data processing systems with a particular emphasis on the security, reliability, fault-tolerance, scalability, fidelity, and efficiency of such system.✦ Conducting GCP training sessions for end users and administrators✦ Discover data acquisition and improvement opportunities.  【Minimum Qualification】 ✦ Bachelor’s Degree or equivalent experience required ✦ 3 years of programming experience in Python, C++, or JavaScript. ✦ 3 years of hands-on experience with Apache Hadoop, Spark, Apache Beam, or Elasticsearch✦ 1 year of programming experience in machine learning (Tensorflow, keras, etc...)✦ Familiar Restful framework (Django, flask, falcon, etc)✦ Excellent organization and communication skills. 【Preferred Qualification】 ✦ 1 year of programming experience in cloud platform (AWS, Google, Azure, etc..)✦ Hands-on experience with Hadoop, Spark, Apache Beam, Elasticsearch✦ Participating in the Agile DevOps design, development, testing, and release of new capabilities and features with a focus on release and post-production support. ✦ Familiar with frontend/backend development✦ Obtained Google Data Engineer certificate',\n",
       "  '擅長工具': '',\n",
       "  '工作技能': '',\n",
       "  '其它條件': ''},\n",
       " {'職位名稱': '數據平台專業人員- Frontend Data Engineer (集團合作相關業務)_國泰金控_國泰金融控股股份有限公司',\n",
       "  '工作地點': '台北市信義區',\n",
       "  '工作內容': '1.數據服務環境的網頁機制設計規劃與開發2.互動與分析網頁機制設計規劃與開發3.介接數據工程師開發的 RestAPI',\n",
       "  '擅長工具': '',\n",
       "  '工作技能': '',\n",
       "  '其它條件': '1.愛好自我學習、探索與分享的態度2.熟悉 CSS 與 Javascript 語言3.熟悉 Python 程式語言4.熟悉任一 Python 網站服務的框架，如 Flask、Django、Pyramid 或其它'},\n",
       " {'職位名稱': '數據平台專業人員-Full Stack Engineer_國泰金控_國泰金融控股股份有限公司',\n",
       "  '工作地點': '台北市信義區',\n",
       "  '工作內容': '1. 數據服務環境的網頁機制設計規劃與開發2. 互動與分析網頁機制設計規劃與開發3. 介接數據工程師開發的 RestAPI',\n",
       "  '擅長工具': '',\n",
       "  '工作技能': '',\n",
       "  '其它條件': '1. 愛好自我學習、探索與分享的態度2. 熟悉 HTNL,CSS 與 Javascript 語言3. 熟悉 Python 程式語言4. 熟悉任一 Python 網站服務的框架，如 Flask、Django、Pyramid 或其它5. 熟悉分析繪圖，如 Matplotlib、Bokeh、或 D3 視覺化繪圖套件6. 熟悉 Linux 的程式開發環境與 Shell Script 的使用7. 具備電商或品牌商領域的經驗'},\n",
       " {'職位名稱': '後端軟體工程師_臺智生醫股份有限公司',\n",
       "  '工作地點': '台北市大安區敦化南路二段40號3樓',\n",
       "  '工作內容': '[工作內容]1. 負責管理系統/自動化基因檢測報告生成系統後端程式開發、設計、維護2. 資料庫系統規劃、建立、管理3. RESTful API建立並與前端工程師協同開發4. 資訊相關事項處理5. 參與生物醫學大數據、AI、IoT應用開發 [技能需求]1. 熟悉python程式設計2. 熟悉SQL語法，具備資料庫操作、管理經驗3. 曾有非關聯式資料庫操作經驗(如：MongoDB)4. 熟悉Linux系統操作5. 熟悉Git進行版本控管進行協同開發 [加分條件]1. 具有Django/Flask框架開發經驗者尤佳2. 熟悉於雲端平台操作尤佳3. 善與夥伴溝通互動，樂於學習各種新技術',\n",
       "  '擅長工具': 'Linux、Python、RDBMS',\n",
       "  '工作技能': '',\n",
       "  '其它條件': ''},\n",
       " {'職位名稱': 'Python 後端資深工程師_金永利科技有限公司',\n",
       "  '工作地點': '台北市松山區八德路3段164號2樓之5',\n",
       "  '工作內容': '1.  負責公司平台後端開發2.  負責公司後台開發3.  負責軟體之分析、設計以及程式撰寫。4.  規劃執行軟體架構及模組之設計，並控管軟體設計進度。5..  進行軟體之測試與修改。6.  規劃、執行與維護量產的產品。7.  協助研發軟體新技術與新工具。',\n",
       "  '擅長工具': '',\n",
       "  '工作技能': '',\n",
       "  '其它條件': '1) 一年以上 Flask 網站開發經驗 2) 有自主學習能力、熱愛技術研究 2) 撰寫單元測試及 CI 經驗 3) 熟悉 Gitflow 開發流程 4) 熟悉 HTML, CSS 及 JavaScript 5) 良好的技術相關英語能力 6) 態度積極認真，耐心負責，良好的團隊溝通及問題解決能力 7) 具電子商務概念者優先考慮有開發 python 經驗 1) 熟 Flask 框架開發與應用2)  熟 SQLAlchemy ORM 與 SQL Syntax3)  熟 PostgreSQL 資料儲存系統4)  對  RESTful 格式有深刻了解，並能依其設計精神開發 API5)  理解 HTML5、CSS、Java Script6)  使用 Git, AWS, Slack, Jenkins'},\n",
       " {'職位名稱': 'Python軟體開發工程師_淮南寰宇股份有限公司',\n",
       "  '工作地點': '新北市三重區重新路四段97號20樓',\n",
       "  '工作內容': '1.承接專案主管交付功能項目開發。2.撰寫架構化API接口與前端系統溝通。3.商務邏輯撰寫與網路設備溝通。4.必要時，協同專案經理與會客戶端溝通說明專案項目。',\n",
       "  '擅長工具': '',\n",
       "  '工作技能': '',\n",
       "  '其它條件': '1.本職缺為集團子公司代徵，相關福利制度依子公司規定。2.曾執行Python專案相關工作經驗1年以上。3.熟悉Python 3 & OOP、Git、MySQL or MariaDB, T-SQL、flask、Nginx web framework。4.具備專案開發執行力、良好的溝通協作能力、優良抗壓及情緒管理能力。'},\n",
       " {'職位名稱': '軟體工程師（伺服器）_鈦甲數位科技股份有限公司',\n",
       "  '工作地點': '台北市內湖區瑞光路583巷31號2樓',\n",
       "  '工作內容': '工作內容：- 開發遊戲伺服器。- 協助營運部署伺服器。 需求條件：- 1 年以上伺服器開發經驗。- 熟悉任一程式語言。包括但不限於 Python、PHP、C#。- 熟悉任一 RDBMS。包括但不限於 MySQL。- 熟悉任一版本控制系統。包括但不限於 Git。 加分條件：- 熟悉任一 Python Web Framework。包括但不限於 Flask。- 有系統架構與設計經驗。- 熟悉資料庫最佳化。- 熟悉資訊安全。- 熟悉任一雲端平台，包括但不限於 GCP、AWS。',\n",
       "  '擅長工具': '',\n",
       "  '工作技能': '',\n",
       "  '其它條件': '- 溝通能力良好。- 願意學習，樂於分享。'},\n",
       " {'職位名稱': '資深網頁前端開發工程師(製造業雲端解決方案)_杰倫智能科技股份有限公司',\n",
       "  '工作地點': '台北市信義區',\n",
       "  '工作內容': '此職務需要在一個現有的雲端平台上進行架構設計和帶領團隊進行開發所以需要具備以下技術條件1. 具備HTML, DIV Layout, CSS, JavaScript等互動網頁設計能力2. 具備使用React.js or Angular.js or Vue.js 開發網頁前端的專案3. 具備與後端工程師合作開發經驗尤佳。4. 具備Node.js, Spring MVC, Spring Boot, Flask相關開發經驗尤佳5. 具備開發應用程式存取資料庫(MySQL、MongoDB、Neo4j)相關經驗尤佳我們主要的客戶為製造業，針對客戶的產品研發到生產製造，提供了一個完整的解決方案，並且能為客戶帶來價值',\n",
       "  '擅長工具': 'Java、JSP、JDBC、HTML、JavaScript',\n",
       "  '工作技能': '系統架構規劃、系統整合分析、軟體工程系統開發、軟體程式設計、網路程式設計、資料庫程式設計、資料庫軟體應用',\n",
       "  '其它條件': '懂以下技術者更佳Hteml5CSS3Vue.JSNode.JS'},\n",
       " {'職位名稱': 'Python Web Developer_Corp. IT(台北內湖)_台達電子工業股份有限公司 _DELTA ELECTRONICS INC.',\n",
       "  '工作地點': '台北市內湖區瑞光路186號',\n",
       "  '工作內容': 'We are looking for a Python Web Developer responsible for managing the network of data and automatic Delta network. Your primary focus will be the development of all server-side logic, ensuring high performance and responsiveness to requests from the front-end. You will also be responsible for integrating the front-end elements built by your co-workers into the application; therefore, a basic understanding of front-end technologies and Software Defined Network(SDN) is necessary as well. ※Responsibilities•\\tWriting reusable, testable, and efficient code•\\tDesign and implementation of low-latency, high-availability, and performant network applications•\\tIntegration of user-facing elements developed by front-end developers with server side logic•\\tImplementation of security and data protection•\\tIntegration of data storage solutions ※Skills And Qualifications•\\tExpert in Python, with knowledge of at least one Python web framework such as Django, Flask, etc.•\\tFamiliarity with some ORM (Object Relational Mapper) libraries•\\tAble to integrate multiple data sources and databases into one system•\\tUnderstanding of the threading limitations of Python, and multi-process architecture•\\tGood understanding of server-side templating languages, such as Jinja 2, Mako, etc.•\\tBasic understanding of front-end technologies, such as JavaScript, HTML5, and CSS3•\\tUnderstanding of accessibility and security compliance•\\tKnowledge of user authentication and authorization between multiple systems, servers, and environments•\\tUnderstanding of fundamental design principles behind a scalable application•\\tFamiliarity with event-driven programming in Python•\\tUnderstanding of the differences between multiple delivery platforms, such as mobile vs desktop, and optimizing output to match the specific platform•\\tProficient understanding of code versioning tools, such as Git, Mercurial or SVN.',\n",
       "  '擅長工具': '',\n",
       "  '工作技能': '',\n",
       "  '其它條件': '※ExperienceWork on developer over 3 years※Familiar toolsPython, Django'},\n",
       " {'職位名稱': 'Python開發工程師(cloud)(APRD2053/APRD2054)_英屬蓋曼群島商防特網股份有限公司台灣分公司',\n",
       "  '工作地點': '台北市內湖區新湖二路329號2樓',\n",
       "  '工作內容': 'Job Responsibilities:This person will participate in the development and maintenance of the cloud based application. The candidate will be responsible for the design, implementation and maintenance or core platform modules of the appliances. This position requires software development skills focusing on Cloud service, such as AWS/Azure/GCP. Ownership of significant areas of the code for both new feature/functionality development as well as to maintain/redesign of the existing areas of the products. Continuous focus and contribution in the areas of performance, availability & scalability, reliability, and maintainability of the product. Requirements:•         Good programming skill in Python•         Experience in Python Web Framework Django or Flask•         Experience with SQL/NoSQL databases such as MySQL and MongoDB;•         Experience with Docker(ECS/Kubernetes);•         Experience with AWS Services',\n",
       "  '擅長工具': 'Python、MS SQL',\n",
       "  '工作技能': '',\n",
       "  '其它條件': ''},\n",
       " {'職位名稱': 'AD30068 Sr. Software Engineer_華碩電腦股份有限公司',\n",
       "  '工作地點': '台北市北投區',\n",
       "  '工作內容': '1.\\t雲端Data Platform 加值軟體開發與維護2.\\t地端Hadoop Data Pipeline開發與維護3.\\tOpenStack API開發與平台維運4.\\tMicro-service 平台使用與維運5.\\t新技術與解決方案的導入',\n",
       "  '擅長工具': 'Java、Oracle、JavaScript',\n",
       "  '工作技能': '',\n",
       "  '其它條件': '*具備RESTful API開發能力. Backend以Java為主, 如有以下經驗加分:     (1) Java: Spring Boot, Spring Data, 熟悉Lambda語法.     (2) Python: Flask, Celery     (3) NodeJS: 有開發npm package經驗.* 有DevOps經驗, 參與CI/CD Pipeline建置* 熟悉Linux Shell, Docker, 用過Configuration Management Tool: 如Ansible, Chef.*Datastore經驗, SQL: Oracle, NoSQL: Mongodb, Redis, ElasticsearchNice to have:• Experience in Openstack, Kubernetes.• Experience in Distrubuted Database: Greenpulm, MongoDB.• Experience in AWS, GCP or Azure.• Experience in Data pipeline, like Logstash, Kafka, Spark.• Experience in Monitoring Tools: ELK stack, Grafana, Graphite, Prometheus.*薪資會依學經歷背景及相關工作經驗核薪'}]"
      ]
     },
     "execution_count": 128,
     "metadata": {},
     "output_type": "execute_result"
    }
   ],
   "source": [
    "data"
   ]
  },
  {
   "cell_type": "code",
   "execution_count": null,
   "metadata": {},
   "outputs": [],
   "source": []
  },
  {
   "cell_type": "code",
   "execution_count": 95,
   "metadata": {},
   "outputs": [],
   "source": [
    "timestamp=datetime.now().strftime('%m%d-%H%M%S')\n",
    "\n",
    "with open(f'data/{keyword}-{timestamp}.json', 'w') as f:\n",
    "    json.dump(data, f)"
   ]
  },
  {
   "cell_type": "code",
   "execution_count": 97,
   "metadata": {},
   "outputs": [],
   "source": [
    "from collections import Counter"
   ]
  },
  {
   "cell_type": "code",
   "execution_count": 119,
   "metadata": {},
   "outputs": [
    {
     "data": {
      "text/plain": [
       "[('台北市信義區', 10),\n",
       " ('台北市內湖區', 9),\n",
       " ('台北市松山區', 7),\n",
       " ('台北市中正區', 5),\n",
       " ('新北市新店區', 4),\n",
       " ('台北市南港區', 3),\n",
       " ('台北市大安區', 3),\n",
       " ('台北市中山區', 3),\n",
       " ('新北市汐止區', 1),\n",
       " ('新北市三重區', 1),\n",
       " ('台北市北投區', 1)]"
      ]
     },
     "execution_count": 119,
     "metadata": {},
     "output_type": "execute_result"
    }
   ],
   "source": [
    "Counter(i['工作地點'][:6] for i in data).most_common()"
   ]
  },
  {
   "cell_type": "code",
   "execution_count": 103,
   "metadata": {},
   "outputs": [
    {
     "data": {
      "text/plain": [
       "Counter({'新北市汐止區': 1,\n",
       "         '台北市中正區': 5,\n",
       "         '台北市信義區': 10,\n",
       "         '新北市新店區': 4,\n",
       "         '台北市松山區': 7,\n",
       "         '台北市內湖區': 9,\n",
       "         '台北市南港區': 3,\n",
       "         '台北市大安區': 3,\n",
       "         '台北市中山區': 3,\n",
       "         '新北市三重區': 1,\n",
       "         '台北市北投區': 1})"
      ]
     },
     "execution_count": 103,
     "metadata": {},
     "output_type": "execute_result"
    }
   ],
   "source": [
    "locations=[]\n",
    "for d in data:\n",
    "    locations.append(d['工作地點'][:6])\n",
    "c=Counter(locations)\n",
    "c"
   ]
  },
  {
   "cell_type": "code",
   "execution_count": 108,
   "metadata": {},
   "outputs": [
    {
     "data": {
      "text/plain": [
       "47"
      ]
     },
     "execution_count": 108,
     "metadata": {},
     "output_type": "execute_result"
    }
   ],
   "source": [
    "sum(dict(c).values())"
   ]
  },
  {
   "cell_type": "code",
   "execution_count": 109,
   "metadata": {
    "collapsed": true
   },
   "outputs": [
    {
     "data": {
      "text/plain": [
       "['__add__',\n",
       " '__and__',\n",
       " '__class__',\n",
       " '__contains__',\n",
       " '__delattr__',\n",
       " '__delitem__',\n",
       " '__dict__',\n",
       " '__dir__',\n",
       " '__doc__',\n",
       " '__eq__',\n",
       " '__format__',\n",
       " '__ge__',\n",
       " '__getattribute__',\n",
       " '__getitem__',\n",
       " '__gt__',\n",
       " '__hash__',\n",
       " '__iadd__',\n",
       " '__iand__',\n",
       " '__init__',\n",
       " '__init_subclass__',\n",
       " '__ior__',\n",
       " '__isub__',\n",
       " '__iter__',\n",
       " '__le__',\n",
       " '__len__',\n",
       " '__lt__',\n",
       " '__missing__',\n",
       " '__module__',\n",
       " '__ne__',\n",
       " '__neg__',\n",
       " '__new__',\n",
       " '__or__',\n",
       " '__pos__',\n",
       " '__reduce__',\n",
       " '__reduce_ex__',\n",
       " '__repr__',\n",
       " '__setattr__',\n",
       " '__setitem__',\n",
       " '__sizeof__',\n",
       " '__str__',\n",
       " '__sub__',\n",
       " '__subclasshook__',\n",
       " '__weakref__',\n",
       " '_keep_positive',\n",
       " 'clear',\n",
       " 'copy',\n",
       " 'elements',\n",
       " 'fromkeys',\n",
       " 'get',\n",
       " 'items',\n",
       " 'keys',\n",
       " 'most_common',\n",
       " 'pop',\n",
       " 'popitem',\n",
       " 'setdefault',\n",
       " 'subtract',\n",
       " 'update',\n",
       " 'values']"
      ]
     },
     "execution_count": 109,
     "metadata": {},
     "output_type": "execute_result"
    }
   ],
   "source": [
    "dir(c)"
   ]
  },
  {
   "cell_type": "code",
   "execution_count": 111,
   "metadata": {},
   "outputs": [
    {
     "data": {
      "text/plain": [
       "[('台北市信義區', 10),\n",
       " ('台北市內湖區', 9),\n",
       " ('台北市松山區', 7),\n",
       " ('台北市中正區', 5),\n",
       " ('新北市新店區', 4),\n",
       " ('台北市南港區', 3),\n",
       " ('台北市大安區', 3),\n",
       " ('台北市中山區', 3),\n",
       " ('新北市汐止區', 1),\n",
       " ('新北市三重區', 1),\n",
       " ('台北市北投區', 1)]"
      ]
     },
     "execution_count": 111,
     "metadata": {},
     "output_type": "execute_result"
    }
   ],
   "source": [
    "c.most_common()"
   ]
  },
  {
   "cell_type": "code",
   "execution_count": null,
   "metadata": {},
   "outputs": [],
   "source": []
  },
  {
   "cell_type": "code",
   "execution_count": null,
   "metadata": {},
   "outputs": [],
   "source": [
    "(location for location in "
   ]
  },
  {
   "cell_type": "code",
   "execution_count": null,
   "metadata": {},
   "outputs": [],
   "source": []
  },
  {
   "cell_type": "code",
   "execution_count": null,
   "metadata": {},
   "outputs": [],
   "source": []
  },
  {
   "cell_type": "code",
   "execution_count": null,
   "metadata": {},
   "outputs": [],
   "source": [
    "https://www.104.com.tw/jobs/search/?ro=0&isnew=3&keyword=kkbox&area=6001002000%2C6001001000&order=1&asc=0&page=1&mode=s&jobsource=2018indexpoc"
   ]
  },
  {
   "cell_type": "code",
   "execution_count": null,
   "metadata": {},
   "outputs": [],
   "source": []
  },
  {
   "cell_type": "code",
   "execution_count": null,
   "metadata": {},
   "outputs": [],
   "source": []
  },
  {
   "cell_type": "code",
   "execution_count": 137,
   "metadata": {},
   "outputs": [],
   "source": [
    "uuurr=\\\n",
    "'https://www.104.com.tw/jobs/search/?ro=0&isnew=3&keyword=kkbox&area=6001002000%2C6001001000&order=1&asc=0&page=1&mode=s&jobsource=2018indexpoc'"
   ]
  },
  {
   "cell_type": "code",
   "execution_count": 138,
   "metadata": {},
   "outputs": [],
   "source": [
    "kkbox=get_page_urls(uuurr)"
   ]
  },
  {
   "cell_type": "code",
   "execution_count": 139,
   "metadata": {},
   "outputs": [
    {
     "data": {
      "text/plain": [
       "['https://www.104.com.tw/job/?jobno=6jbcp&jobsource=2018indexpoc',\n",
       " 'https://www.104.com.tw/job/?jobno=6jarr&jobsource=2018indexpoc',\n",
       " 'https://www.104.com.tw/job/?jobno=6jasv&jobsource=2018indexpoc',\n",
       " 'https://www.104.com.tw/job/?jobno=6jcfj&jobsource=2018indexpoc',\n",
       " 'https://www.104.com.tw/job/?jobno=6jarc&jobsource=2018indexpoc',\n",
       " 'https://www.104.com.tw/job/?jobno=6jasj&jobsource=2018indexpoc',\n",
       " 'https://www.104.com.tw/job/?jobno=6jars&jobsource=2018indexpoc',\n",
       " 'https://www.104.com.tw/job/?jobno=4aqtr&jobsource=2018indexpoc',\n",
       " 'https://www.104.com.tw/job/?jobno=6gwn1&jobsource=2018indexpoc',\n",
       " 'https://www.104.com.tw/job/?jobno=6ft06&jobsource=2018indexpoc',\n",
       " 'https://www.104.com.tw/job/?jobno=5mgyh&jobsource=joblist_morej',\n",
       " 'https://www.104.com.tw/job/?jobno=5sye8&jobsource=joblist_morej',\n",
       " 'https://www.104.com.tw/job/?jobno=4kkx4&jobsource=joblist_morej',\n",
       " 'https://www.104.com.tw/job/?jobno=6i9jy&jobsource=joblist_morej',\n",
       " 'https://www.104.com.tw/job/?jobno=6fvc5&jobsource=joblist_morej',\n",
       " 'https://www.104.com.tw/job/?jobno=4q436&jobsource=joblist_morej']"
      ]
     },
     "execution_count": 139,
     "metadata": {},
     "output_type": "execute_result"
    }
   ],
   "source": [
    "kkbox"
   ]
  },
  {
   "cell_type": "code",
   "execution_count": 44,
   "metadata": {},
   "outputs": [
    {
     "data": {
      "text/plain": [
       "85.5631939637284"
      ]
     },
     "execution_count": 44,
     "metadata": {},
     "output_type": "execute_result"
    }
   ],
   "source": [
    "random.uniform(1,100)"
   ]
  },
  {
   "cell_type": "code",
   "execution_count": 15,
   "metadata": {},
   "outputs": [
    {
     "data": {
      "text/plain": [
       "88"
      ]
     },
     "execution_count": 15,
     "metadata": {},
     "output_type": "execute_result"
    }
   ],
   "source": [
    "len(job_urls)"
   ]
  },
  {
   "cell_type": "code",
   "execution_count": 23,
   "metadata": {},
   "outputs": [],
   "source": [
    "aa=[1,2,3]"
   ]
  },
  {
   "cell_type": "code",
   "execution_count": 20,
   "metadata": {},
   "outputs": [
    {
     "data": {
      "text/plain": [
       "['[', '1', ',', '2', ',', '3', ']']"
      ]
     },
     "execution_count": 20,
     "metadata": {},
     "output_type": "execute_result"
    }
   ],
   "source": [
    "list(aa)"
   ]
  },
  {
   "cell_type": "code",
   "execution_count": 21,
   "metadata": {},
   "outputs": [],
   "source": [
    "import json"
   ]
  },
  {
   "cell_type": "code",
   "execution_count": 24,
   "metadata": {},
   "outputs": [
    {
     "data": {
      "text/plain": [
       "'[1, 2, 3]'"
      ]
     },
     "execution_count": 24,
     "metadata": {},
     "output_type": "execute_result"
    }
   ],
   "source": [
    "json.dumps(aa)"
   ]
  },
  {
   "cell_type": "code",
   "execution_count": 25,
   "metadata": {},
   "outputs": [],
   "source": [
    "with open('data.json', 'w') as f:\n",
    "    json.dump(aa, f)"
   ]
  },
  {
   "cell_type": "code",
   "execution_count": 120,
   "metadata": {},
   "outputs": [],
   "source": [
    "uuu='https://www.104.com.tw/job/?jobno=5y8ex'\n",
    "ppp=url_to_soup(uuu)"
   ]
  },
  {
   "cell_type": "code",
   "execution_count": 129,
   "metadata": {},
   "outputs": [
    {
     "data": {
      "text/plain": [
       "<!DOCTYPE html>\n",
       "<!--[if lt IE 7]>     <html class=\"lt-ie9 lt-ie8 lt-ie7\"> <![endif]--><!--[if IE 7]>        <html class=\"lt-ie9 lt-ie8\"> <![endif]--><!--[if IE 8]>        <html class=\"lt-ie9\"> <![endif]--><!--[if gt IE 8]><!--><html lang=\"zh-tw\"><!--<![endif]-->\n",
       "<head>\n",
       "<meta charset=\"utf-8\"/>\n",
       "<meta content=\"IE=edge\" http-equiv=\"X-UA-Compatible\"/>\n",
       "<meta content=\"no-cache\" http-equiv=\"pragma\"/>\n",
       "<meta content=\"no-cache\" http-equiv=\"cache-control\"/>\n",
       "<meta content=\"Backend Developer_帥哥科技有限公司 - 104人力銀行\" property=\"og:title\"/>\n",
       "<meta content=\"必備技能:\n",
       "1.In-depth knowledge of Python, NodeJS\n",
       "2.Experience with Python web frameworks ie. flask/Django/tornado\n",
       "3.Utilized work queues for background processing\n",
       "4.In-depth knowledge of Mongo and Redis\n",
       "5.Excellent understanding of HTTP\n",
       "6.Experience developing REST APIs\n",
       "7.Designed for modular systems\n",
       "8.Worked with a cloud environment\n",
       "9.Excellent communication and organizational skills\" property=\"og:description\"/>\n",
       "<meta content=\"https://static.104.com.tw/logo/104logo_200x200_fbogT2.png\" property=\"og:image\"/>\n",
       "<meta content=\"https://static.104.com.tw/logo/104logo_200x200_fbogW2.png\" property=\"og:image\"/>\n",
       "<meta content=\"https://static.104.com.tw/logo/104logo_200x200_fbogM2.png\" property=\"og:image\"/>\n",
       "<link href=\"https://www.104.com.tw/job/?jobno=5y8ex\" rel=\"canonical\"/>\n",
       "<link href=\"https://m.104.com.tw/job/5y8ex\" media=\"handheld\" rel=\"alternate\"/>\n",
       "<link href=\"https://m.104.com.tw/job/5y8ex\" media=\"only screen and (max-width: 640px)\" rel=\"alternate\"/>\n",
       "<link href=\"android-app://com.m104/m104/job?j=4d4b452a5f6d4a2139333b64313f37608393b436c35373f683d433b1e1e1e1e620473b613270j00\" rel=\"alternate\"/>\n",
       "<link href=\"ios-app://437817158/m104/job?j=4d4b452a5f6d4a2139333b64313f37608393b436c35373f683d433b1e1e1e1e620473b613270j00\" rel=\"alternate\"/>\n",
       "<meta content=\"index, follow,noarchive\" name=\"robots\"/>\n",
       "<meta content=\"帥哥科技有限公司,Backend Developer,軟體設計工程師,必備技能:\n",
       "1.In-depth knowledge of Python, NodeJS\n",
       "2.Experience with Python web frameworks ie. flask/Django/tornado\n",
       "3.Utilized work queues for background processing\n",
       "4.In-depth knowledge of Mongo and Redis\n",
       "5.Excellent understanding of HTTP\n",
       "6.Experience developing REST APIs\n",
       "7.Designed for modular systems\n",
       "8.Worked with a cloud environment\n",
       "9.Excellent communication and organizational skills\" name=\"description\"/>\n",
       "<meta content=\"Backend Developer,帥哥科技有限公司,軟體設計工程師,工作,職業,職務,求職,104,人力銀行\" name=\"keywords\"/>\n",
       "<link href=\"https://static.104.com.tw/104main/jb/css/common.css?v=20181226\" rel=\"stylesheet\" type=\"text/css\"/>\n",
       "<link href=\"https://static.104.com.tw/104main/jb/css/job.css?v=20181226\" rel=\"stylesheet\" type=\"text/css\"/>\n",
       "<link href=\"https://static.104.com.tw/104main/libs/cli/common-ui/1.0.0/css/iconfont.min.css?v=20181226\" rel=\"stylesheet\" type=\"text/css\"/>\n",
       "<script src=\"https://static.104.com.tw/104main/js/jquery/jquery.min.js?v=20181226\" type=\"text/javascript\"></script>\n",
       "<script src=\"https://static.104.com.tw/104main/jb/js/jbajax.js?v=20181226\" type=\"text/javascript\"></script>\n",
       "<script charset=\"UTF-8\" src=\"https://static.104.com.tw/104main/jb/js/swf_output.js?v=20181226\" type=\"text/javascript\"></script>\n",
       "<script src=\"https://aidma.104.com.tw/js/e104aidma_json.php?wid=2&amp;cid=87\" type=\"text/javascript\"></script>\n",
       "<script charset=\"UTF-8\" src=\"https://static.104.com.tw/bubble/js/mainjs.js?by=jbbar&amp;v=20181226\" type=\"text/javascript\"></script>\n",
       "<script charset=\"UTF-8\" type=\"text/javascript\">\n",
       "/*<![CDATA[*/\n",
       "var aidma = {\"bid\":643,\"wid\":2,\"cid\":87}\n",
       "var jlocation=[25.0390882,121.5664701,'台北市信義區松高路'];\n",
       "var jcate = {'軟體設計工程師' : ['https://pda.104.com.tw/my104/assist/analysisdetail?JOBCAT=2007001004', 'https://www.104.com.tw/jobbank/joblist/joblist.cfm?cat=2007001004']}\n",
       "var g_baseUrl='/job';\n",
       "var g_staticUrl='https://static.104.com.tw/104main';\n",
       "var g_mainUrl='https://www.104.com.tw';\n",
       "/*]]>*/\n",
       "</script>\n",
       "<title>Backend Developer_帥哥科技有限公司 - 104人力銀行</title>\n",
       "<!--[if lt IE 9]>\n",
       "<script src=\"https://static.104.com.tw/104main/js/html5shiv.js\"></script>\n",
       "<![endif]-->\n",
       "<!-- Google Tag Manager-->\n",
       "<script>(function(w,d,s,l,i){w[l]=w[l]||[];w[l].push(\n",
       "{'gtm.start': new Date().getTime(),event:'gtm.js'}\n",
       ");var f=d.getElementsByTagName(s)[0],\n",
       "j=d.createElement(s),dl=l!='dataLayer'?'&l='+l:'';j.async=true;j.src=\n",
       "'https://www.googletagmanager.com/gtm.js?id='+i+dl;f.parentNode.insertBefore(j,f);\n",
       "})(window,document,'script','dataLayer','GTM-P379T3');</script>\n",
       "<!-- End Google Tag Manager -->\n",
       "</head>\n",
       "<body>\n",
       "<!-- Google Tag Manager (noscript)-->\n",
       "<noscript><iframe height=\"0\" src=\"https://www.googletagmanager.com/ns.html?id=GTM-P379T3\" style=\"display:none;visibility:hidden\" width=\"0\"></iframe></noscript>\n",
       "<!-- End Google Tag Manager (noscript) -->\n",
       "<div id=\"globalbar\"><div id=\"bar_m104\"><div id=\"global_bk\"></div></div></div>\n",
       "<header id=\"hd-min\">\n",
       "<h1><a href=\"https://www.104.com.tw\" title=\"104人力銀行\"><img alt=\"104 人力銀行\" src=\"https://static.104.com.tw/logo/104logo_o_119x24.png\"/></a></h1>\n",
       "</header>\n",
       "<script>\n",
       "        //\n",
       "        var examComputeAppInitData = {\n",
       "            Url: 'https://www.104.com.tw/job/AjaxExam',\n",
       "        }\n",
       "    </script>\n",
       "<div class=\"wrap\" id=\"job\">\n",
       "<article class=\"main\">\n",
       "<header class=\"header mb-0 static\">\n",
       "<div class=\"center\">\n",
       "<h1>\n",
       "                        Backend Developer                        <span class=\"company\">\n",
       "<a class=\"cn\" href=\"https://www.104.com.tw/jobbank/custjob/index.php?r=cust&amp;j=425048713a3c446d363840693e443c1f22f2f2f71463c402624j50&amp;jobsource=\" target=\"_blank\">帥哥科技有限公司</a>\n",
       "<a href=\"https://www.104.com.tw/jobbank/custjob/index.php?r=cust&amp;j=425048713a3c446d363840693e443c1f22f2f2f71463c402624j50&amp;jobsource=#info06\" target=\"_blank\">本公司其他工作</a>\n",
       "</span>\n",
       "</h1>\n",
       "<div class=\"function\">\n",
       "<button class=\"jb-btn jb-btn-outline jb-btn-has-icon\" id=\"saveJobBtn\"><i class=\"jb-icon-favor-default\"></i>儲存</button>\n",
       "<button class=\"jb-btn jb-btn-primary jb-btn-has-icon\" disabled=\"\" id=\"saveJobBtn_ajaxLoadDiv\" style=\"display:none;\"><i class=\"jbi-s-loading\"></i>處理中...</button>\n",
       "<button class=\"jb-btn jb-btn-primary jb-btn-has-icon\" id=\"applyJobBtn\" onclick=\"mail_to_company('https://www.104.com.tw/jobs/apply/form?channel=104apply',1)\"><i class=\"jb-icon-mail-disable\"></i>應徵</button>\n",
       "<button class=\"jb-btn jb-btn-primary jb-btn-has-icon\" disabled=\"\" id=\"applyJobBtn_ajaxLoadDiv\" style=\"display: none;\"><i class=\"jbi-s-loading\"></i>處理中...</button>\n",
       "<div class=\"sub\">\n",
       "<a href=\"https://www.104.com.tw/jobs/apply/analysis?jobsource=&amp;j=4d4b452a5f6d4a2139333b64313f37608393b436c35373f683d433b1e1e1e1e620473b613270j00&amp;jobact=&amp;channel=104rpt\" target=\"_blank\">\n",
       "<img alt=\"兩週內應徵人數 5人以下\" src=\"https://static.104.com.tw/104main/jb/img/frame/electrical_1.gif\"/>0~5人應徵</a>\n",
       "<a href=\"https://www.facebook.com/share.php?u=https%3A%2F%2Fwww.104.com.tw%2Fjob%2F%3Fjobno%3D5y8ex%26jobsource%3D104_social_f%26fn%3D1\" onmousedown=\"adc(2,'155180');\" target=\"_blank\">FB 分享</a>\n",
       "<a href=\"https://www.104.com.tw/jobbank/send_friend/recommendjob.cfm\" onclick=\"mail_to_friend('https://www.104.com.tw/jobbank/send_friend/recommendjob.cfm');return false;\">轉寄</a>\n",
       "<a href=\"https://www.104.com.tw/question_admin/reaction.cfm?j=4d4b452a5f6d4a2139333b64313f37608393b436c35373f683d433b1e1e1e1e620473b613270j00\" target=\"_blank\">檢舉</a>\n",
       "</div>\n",
       "</div>\n",
       "</div>\n",
       "</header>\n",
       "<!-- 測評 -->\n",
       "<div class=\"exam exam--outer\">\n",
       "<span class=\"exam_text\">\n",
       "                    計算屬於你的工作適合度\n",
       "                </span>\n",
       "<a class=\"jb-btn jb-btn-link jb-btn-has-icon exam_btn-login\" href=\"https://www.104.com.tw/jobs/search/showLogin?checkService=1&amp;return_url=https%3A%2F%2Fwww.104.com.tw%2Fjob%2F%3Fjobno%3D5y8ex\">\n",
       "                    請點此登入\n",
       "                </a>\n",
       "<button class=\"jb-btn jb-btn-text jb-btn-has-icon exam_btn-info\" data-exam-popup-btn=\"\">\n",
       "<i class=\"jb-icon-info\"></i>\n",
       "                    適合度說明\n",
       "                    <i class=\"jb-icon-down\"></i>\n",
       "</button>\n",
       "<div class=\"exam_popup\">\n",
       "<div class=\"exam\">\n",
       "<span class=\"exam_text\">\n",
       "                            適合度：適合度包含專業能力與性格特質兩個面向\n",
       "                        </span>\n",
       "<button class=\"jb-btn jb-btn-text jb-btn-has-icon exam_btn-info\" data-exam-popup-btn=\"\">\n",
       "<i class=\"jb-icon-info\"></i>\n",
       "                            適合度說明\n",
       "                            <i class=\"jb-icon-down\"></i>\n",
       "</button>\n",
       "</div>\n",
       "<div class=\"exam_popup_body\">\n",
       "<div class=\"exam_intro\">\n",
       "<div class=\"exam_intro_container\">\n",
       "<table class=\"exam_intro_table\">\n",
       "<thead>\n",
       "<tr>\n",
       "<td></td>\n",
       "<td>專業能力</td>\n",
       "<td>性格特質</td>\n",
       "</tr>\n",
       "</thead>\n",
       "<tbody>\n",
       "<tr>\n",
       "<td>不太適合​</td>\n",
       "<td>\n",
       "<i class=\"jb-icon-profession jb-icon--active\"></i>\n",
       "<i class=\"jb-icon-profession\"></i>\n",
       "<i class=\"jb-icon-profession\"></i>\n",
       "</td>\n",
       "<td>\n",
       "<i class=\"jb-icon-character jb-icon--active\"></i>\n",
       "<i class=\"jb-icon-character\"></i>\n",
       "<i class=\"jb-icon-character\"></i>\n",
       "</td>\n",
       "</tr>\n",
       "<tr>\n",
       "<td>適合​</td>\n",
       "<td>\n",
       "<i class=\"jb-icon-profession jb-icon--active\"></i>\n",
       "<i class=\"jb-icon-profession jb-icon--active\"></i>\n",
       "<i class=\"jb-icon-profession\"></i>\n",
       "</td>\n",
       "<td>\n",
       "<i class=\"jb-icon-character jb-icon--active\"></i>\n",
       "<i class=\"jb-icon-character jb-icon--active\"></i>\n",
       "<i class=\"jb-icon-character\"></i>\n",
       "</td>\n",
       "</tr>\n",
       "<tr>\n",
       "<td>非常適合​</td>\n",
       "<td>\n",
       "<i class=\"jb-icon-profession jb-icon--active\"></i>\n",
       "<i class=\"jb-icon-profession jb-icon--active\"></i>\n",
       "<i class=\"jb-icon-profession jb-icon--active\"></i>\n",
       "</td>\n",
       "<td>\n",
       "<i class=\"jb-icon-character jb-icon--active\"></i>\n",
       "<i class=\"jb-icon-character jb-icon--active\"></i>\n",
       "<i class=\"jb-icon-character jb-icon--active\"></i>\n",
       "</td>\n",
       "</tr>\n",
       "<tr>\n",
       "<td>無法分析​</td>\n",
       "<td>履歷不完整​</td>\n",
       "<td>無職業適性測驗結果​</td>\n",
       "</tr>\n",
       "</tbody>\n",
       "<tfoot>\n",
       "<tr>\n",
       "<td colspan=\"3\">\n",
       "<hr class=\"exam_intro_table_space\"/>\n",
       "<b>專業能力：</b>依據學歷、經歷、證照及技能等描述，與職務的要求比對的符合度分數。\n",
       "                                                <br/>\n",
       "<b>性格特質：</b>依據104性格評量，比對此工作典型從業人員的適合程度。\n",
       "                                            </td>\n",
       "</tr>\n",
       "</tfoot>\n",
       "</table>\n",
       "</div>\n",
       "<div class=\"exam_control\">\n",
       "<button class=\"jb-btn jb-btn-primary jb-btn-has-icon\" data-exam-popup-btn=\"\">我瞭解了</button>\n",
       "</div>\n",
       "</div>\n",
       "</div>\n",
       "</div>\n",
       "</div>\n",
       "<!-- 測評 end-->\n",
       "<div class=\"grid-left\">\n",
       "<main class=\"main\">\n",
       "<section class=\"info\">\n",
       "<h2>工作內容</h2>\n",
       "<div class=\"content\">\n",
       "<p>必備技能:\n",
       "<br/>1.In-depth knowledge of Python, NodeJS\n",
       "<br/>2.Experience with Python web frameworks ie. flask/Django/tornado\n",
       "<br/>3.Utilized work queues for background processing\n",
       "<br/>4.In-depth knowledge of Mongo and Redis\n",
       "<br/>5.Excellent understanding of HTTP\n",
       "<br/>6.Experience developing REST APIs\n",
       "<br/>7.Designed for modular systems\n",
       "<br/>8.Worked with a cloud environment\n",
       "<br/>9.Excellent communication and organizational skills</p>\n",
       "<dl>\n",
       "<dt>職務類別：</dt>\n",
       "<dd class=\"cate\">\n",
       "<span>軟體設計工程師</span> <div class=\"dialog-layer arrow-top\" id=\"jcate\">\n",
       "<div class=\"dl-arrow\">\n",
       "<div class=\"dl-arwout\"></div>\n",
       "<div class=\"dl-arwin\"></div>\n",
       "</div>\n",
       "<button class=\"button text dl-close\" title=\"關閉\"><span class=\"jbi-s15-close-small\"></span></button>\n",
       "<div class=\"dl-content\">\n",
       "<strong>認識「<span class=\"jname\"></span>」職務</strong>\n",
       "<ul>\n",
       "<li><a href=\"\" onmousedown=\"adc(2,'153921');\" target=\"_blank\">詳細職類分析(工作內容、薪資分布..)</a></li>\n",
       "<li><a href=\"\" onmousedown=\"adc(2,'151321');\" target=\"_blank\">更多相關工作</a></li>\n",
       "</ul>\n",
       "</div>\n",
       "</div>\n",
       "</dd>\n",
       "<dt>工作待遇：</dt>\n",
       "<dd class=\"salary\">待遇面議                                                                                    （<span class=\"ofsalary\" id=\"sslary\">經常性薪資</span>達4萬元或以上）\n",
       "\n",
       "                                            <div class=\"dialog-layer arrow-top\" id=\"jsalary\" style=\"display:none\">\n",
       "<div class=\"dl-arrow\">\n",
       "<div class=\"dl-arwout\"></div>\n",
       "<div class=\"dl-arwin\"></div>\n",
       "</div>\n",
       "<button class=\"button text dl-close\" title=\"關閉\"><span class=\"jbi-s15-close-small\"></span></button>\n",
       "<div class=\"dl-content\">\n",
       "<strong>經常性薪資</strong>\n",
       "                                                    經常性薪資包括本薪、按月給付的固定津貼及獎金、按月發放<br/>\n",
       "                                                    的工作（生產、績效、業績）獎金、全勤獎金及其他經常性<br/>\n",
       "                                                    給與。詳見<a href=\"http://laborpedia.evta.gov.tw/link1.asp?did=C111&amp;result=yes\" target=\"_blank\">勞動力發展辭典</a>。\n",
       "                                                </div>\n",
       "</div>\n",
       "<a class=\"icon-notice\" href=\"https://www.104.com.tw/question_admin/reaction.cfm?j=4d4b452a5f6d4a2139333b64313f37608393b436c35373f683d433b1e1e1e1e620473b613270j00\" id=\"iconnotice\" target=\"_blank\">檢舉不實</a>\n",
       "</dd>\n",
       "<dt>工作性質：</dt>\n",
       "<dd>全職</dd>\n",
       "<dt>上班地點：</dt>\n",
       "<dd class=\"addr\">\n",
       "                                        台北市信義區松高路<span class=\"jbi-s15-map map\" onmousedown=\"adc(3,'155176');\"></span>\n",
       "<div class=\"dialog-layer arrow-top\" id=\"gmap\">\n",
       "<div class=\"dl-arrow\">\n",
       "<div class=\"dl-arwout\"></div>\n",
       "<div class=\"dl-arwin\"></div>\n",
       "</div>\n",
       "<button class=\"button text dl-close\" title=\"關閉\"><span class=\"jbi-s15-close-small\"></span></button>\n",
       "<div class=\"dl-content\">\n",
       "<a class=\"button\" href=\"https://www.104.com.tw/jobbank/map/index.cfm?search_mode=s_job\" onclick=\"document.mapjobform.submit();return false;\" onmousedown=\"adc(3,'155178');\"><span class=\"jbi-s15-map-gray\"></span>地圖找工作</a>\n",
       "<div id=\"map-api\"><iframe frameborder=\"0\" height=\"450\" scrolling=\"no\" src=\"\" width=\"590\"></iframe></div>\n",
       "</div>\n",
       "</div>\n",
       "</dd>\n",
       "<dt>管理責任：</dt>\n",
       "<dd>不需負擔管理責任</dd>\n",
       "<dt>出差外派：</dt>\n",
       "<dd>無需出差外派</dd>\n",
       "<dt>上班時段：</dt>\n",
       "<dd>日班</dd>\n",
       "<dt>休假制度：</dt>\n",
       "<dd>依公司規定</dd>\n",
       "<dt>可上班日：</dt>\n",
       "<dd>不限</dd>\n",
       "<dt>需求人數：</dt>\n",
       "<dd>1 人</dd>\n",
       "</dl>\n",
       "</div>\n",
       "</section>\n",
       "<section class=\"info\">\n",
       "<h2>條件要求</h2>\n",
       "<div class=\"content\">\n",
       "<dl>\n",
       "<dt>接受身份：</dt>\n",
       "<dd>上班族、應屆畢業生、原住民【<a href=\"http://law.moj.gov.tw/LawClass/LawAll.aspx?PCode=D0130006\" target=\"_blank\">相關法令</a>】、二度就業</dd>\n",
       "<dt>工作經歷：</dt>\n",
       "<dd>不拘</dd>\n",
       "<dt>學歷要求：</dt>\n",
       "<dd>專科以上</dd>\n",
       "<dt>科系要求：</dt>\n",
       "<dd>不拘</dd>\n",
       "<dt>語文條件：</dt>\n",
       "<dd><ul>\n",
       "<li><span class=\"learnlink\"><a href=\"https://learn.104.com.tw/00/work_english.htm?from=104job\" target=\"_blank\" title=\"想學英文嗎? \">英文</a></span> -- 聽 /中等、說 /中等、讀 /中等、寫 /精通</li>\n",
       "</ul></dd>\n",
       "<dt>擅長工具：</dt>\n",
       "<dd class=\"tool\">不拘</dd>\n",
       "<dt>工作技能：</dt>\n",
       "<dd class=\"tool\">不拘</dd>\n",
       "<dt>其他條件：</dt>\n",
       "<dd>加分項目：\n",
       "<br/> <br/>1.Worked with Python asyncio\n",
       "<br/>2.Experience developing in Go\n",
       "<br/>3.Event driven architecture\n",
       "<br/>4.Experience working with cluster environments and/or containers. ie. Kubernetes, Docker\n",
       "<br/>5.Development flow utilizing CI/CD\n",
       "<br/>6.Experience working with distributed systems\n",
       "<br/>7.Experience working with realtime APIs\n",
       "<br/>8.Able to communicate in English</dd>\n",
       "</dl>\n",
       "</div>\n",
       "</section>\n",
       "<section class=\"info\">\n",
       "<h2>公司福利</h2>\n",
       "<div class=\"content\">\n",
       "<p>＃你的上班狀況\n",
       "<br/>1. 我們擁有彈性的工時制度，讓您可以充分調整自己的上班時間，不用為了趕上班跟別人捷運人擠人，搶uBike。\n",
       "<br/>2. 比照台灣法律，讓你享受充分的週休二日假期（部分工作需輪班，此以當月休假數為主）\n",
       "<br/>3. 讓你工作也有文青風，我們提供Apple系列筆電，不怕電腦中毒，成為你最時尚的配件\n",
       "<br/>4. 工作地點座落市政府捷運站旁，讓你下班可以直接逛文青書店、拍網美美食照\n",
       "<br/>5. 幫你省錢，我們提供免費午餐、好吃的零食、咖啡、飲料喝到飽；而且還有不定期的公司聚餐喲\n",
       "<br/> <br/>＃你的休息時候\n",
       "<br/>1. 下班讓你去健身運動，我們幫你出錢（每月提供運動健身補助）\n",
       "<br/>2. 三節時刻又有多出來的紅包可以買零食（年終獎金、中秋、端午禮金）\n",
       "<br/>3. 不想健身的話，讓你可以去增加自我的專業與知識（提供年度職能進修補助）\n",
       "<br/>4. 擔心你的健康，我們讓你每年可以當個健康寶寶（提供年度健康檢查補助）</p>\n",
       "</div>\n",
       "</section>\n",
       "<section class=\"info\">\n",
       "<h2>聯絡方式</h2>\n",
       "<div class=\"content\">\n",
       "<dl>\n",
       "<dt>聯絡人：</dt>\n",
       "<dd>劉先生</dd>\n",
       "</dl>\n",
       "<p class=\"aware\">\n",
       "</p>\n",
       "</div>\n",
       "</section>\n",
       "<time class=\"update\">更新日期：2019-02-25</time>\n",
       "<section class=\"note\">\n",
       "<p>104人力銀行提醒您</p>\n",
       "<p>履歷關閉時仍可投遞履歷喔！面試時請遵守求職禮儀準時赴約並小心安全<a class=\"note-link js-note\" href=\"javascript:void(0)\">職場安全提醒<i class=\"jb-icon-down\"></i></a></p>\n",
       "<ul class=\"js-note-list\">\n",
       "<li>應徵時下新興職務（如 網紅/直播主/模特兒）時，請主動向徵才企業了解契約內容，留意是否需要事先負擔攝影、宣傳等費用，以及付費方式。</li>\n",
       "<li>面試前三要點：確認公司是否合法、告知親友面試地點、留意職缺內容有無不實。</li>\n",
       "<li>不繳錢、不購買、不辦卡、不簽約、不交證件、不留機敏個資(如 身份證字號、存摺帳號、金融密碼等)。</li>\n",
       "<li>不要在非辦公時間(如 深夜)、非公司所在處或異常偏僻地點(如 郊區、旅館、密閉空間等)面試。</li>\n",
       "<li>不隨意加Line等通訊軟體，多用104平台連繫來保障自己。</li>\n",
       "<li>您有權拒絕面試中任何讓您不舒服的不當動作、接觸、語言。</li>\n",
       "<li>求職安全專線：[勞動部] 0800-085-151 [104人力銀行] 02-29126104轉2或<a href=\"https://www.104.com.tw/question_admin/reaction.cfm\" target=\"_blank\">來信詢問</a></li>\n",
       "</ul>\n",
       "</section>\n",
       "</main>\n",
       "<aside class=\"side\">\n",
       "<h2 class=\"hide\">與Backend Developer相關的工作</h2>\n",
       "<section class=\"block recommend\" id=\"personalJob\" style=\"display:none;\">\n",
       "<h3>推薦工作</h3>\n",
       "<p class=\"logout\">104 智能管家依據您平常儲存、應徵工作的喜好，為您推薦工作！<br/>請先登入<a href=\"https://www.104.com.tw/jobs/search/showLogin?return_url=https%3A%2F%2Fpda.104.com.tw%2Fmy104%2Fmate%2Flist%3FitemNo%3Do4i506z5k4w5g5t5%26jobsource%3Djob_p\" target=\"_blank\">My104 會員中心</a></p>\n",
       "</section>\n",
       "<!-- 放置 aidma 原生廣告 -->\n",
       "<div id=\"aidma-job\"></div>\n",
       "<section class=\"block\" id=\"similarJob\" style=\"display:none;\"><h3>看過此工作的人也看以下工作</h3></section>\n",
       "</aside>\n",
       "</div>\n",
       "<div class=\"grid-right\">\n",
       "<section class=\"supply history\">\n",
       "<h2>瀏覽工作紀錄</h2>\n",
       "<button class=\"button text clear\" onclick=\"javascript:clearHistoryLogs('jobRecContentV1');return false;\" type=\"button\">清除</button>\n",
       "<div class=\"content\">\n",
       "<ul id=\"jobRecContentV1\"><li></li></ul>\n",
       "</div>\n",
       "</section>\n",
       "</div>\n",
       "<div class=\"clearfix\"></div>\n",
       "<a class=\"button text back-top\" href=\"#\" title=\"返回頁面頂端\"><span class=\"jbi-s18-arrow-top\"></span></a>\n",
       "</article>\n",
       "</div>\n",
       "<!--  地圖找工作按鈕  -->\n",
       "<form action=\"https://www.104.com.tw/jobbank/map/index.cfm?search_mode=s_job\" method=\"post\" name=\"mapjobform\" target=\"newwk\">\n",
       "<input name=\"sel_loc1\" type=\"hidden\" value=\"6001001007\"/>\n",
       "<input name=\"inp_loc1\" type=\"hidden\" value=\"松高路\"/>\n",
       "<input name=\"sel_loc_name1\" type=\"hidden\" value=\"台北市信義區\"/>\n",
       "<input name=\"sel_loc2\" type=\"hidden\" value=\"0\"/>\n",
       "</form>\n",
       "<!-- -->\n",
       "<form id=\"jobform\" method=\"post\" name=\"jobform\">\n",
       "<input name=\"jobleng\" type=\"hidden\" value=\"1\"/>\n",
       "<input name=\"jobleng1\" type=\"hidden\" value=\"1\"/>\n",
       "<input name=\"custno\" type=\"hidden\" value=\"130000000110024\"/>\n",
       "<input name=\"cookie_name\" type=\"hidden\" value=\"f9995289\"/>\n",
       "<input name=\"jobno\" type=\"hidden\" value=\"9995289\"/>\n",
       "<input name=\"role\" type=\"hidden\" value=\"1\"/>\n",
       "<input name=\"ar_custno\" type=\"hidden\" value=\"130000000110024\"/>\n",
       "<input name=\"coname\" type=\"hidden\" value=\"帥哥科技有限公司\"/>\n",
       "<input name=\"ar_jobno\" type=\"hidden\"/>\n",
       "<input name=\"cookie_names\" type=\"hidden\" value=\"9995289\"/>\n",
       "<input name=\"pass\" type=\"hidden\"/>\n",
       "<input name=\"id\" type=\"hidden\"/>\n",
       "</form>\n",
       "<!-- Gjob-->\n",
       "<!--Google JobPosting---><script type=\"application/ld+json\">{\"@context\":\"http:\\/\\/schema.org\",\"@type\":\"JobPosting\",\"baseSalary\":{\"@type\":\"MonetaryAmount\",\"currency\":\"TWD\",\"value\":{\"@type\":\"QuantitativeValue\",\"value\":\"40000\",\"unitText\":\"MONTH\"}},\"datePosted\":\"2019-02-25\",\"description\":\"必備技能:\\r\\n1.In-depth knowledge of Python, NodeJS\\r\\n2.Experience with Python web frameworks ie. flask\\/Django\\/tornado\\r\\n3.Utilized work queues for background processing\\r\\n4.In-depth knowledge of Mongo and Redis\\r\\n5.Excellent understanding of HTTP\\r\\n6.Experience developing REST APIs\\r\\n7.Designed for modular systems\\r\\n8.Worked with a cloud environment\\r\\n9.Excellent communication and organizational skills\",\"employmentType\":\"FULL_TIME\",\"hiringOrganization\":{\"@type\":\"Organization\",\"name\":\"帥哥科技有限公司\"},\"identifier\":{\"@type\":\"PropertyValue\",\"name\":\"帥哥科技有限公司\",\"value\":\"5y8ex\"},\"jobLocation\":{\"@type\":\"Place\",\"address\":{\"@type\":\"PostalAddress\",\"streetAddress\":\"松高路\",\"addressLocality\":\"台北市信義區\",\"addressRegion\":\"台灣\",\"addressCountry\":\"TW\"}},\"title\":\"Backend Developer\",\"url\":\"https:\\/\\/www.104.com.tw\\/job\\/?jobno=5y8ex&jobsource=googlejobs\",\"validThrough\":\"2018-12-09\",\"educationRequirements\":\"專科以上\",\"experienceRequirements\":\"不拘\",\"industry\":\"電腦軟體服務業\",\"workHours\":\"日班\",\"responsibilities\":\"不需負擔管理責任\",\"skills\":\"\"}</script> <!-- Gjob-->\n",
       "<footer id=\"ft-thin\">\n",
       "<div class=\"bar\">\n",
       "<button class=\"button text cs\" type=\"button\"><span class=\"jbi-s18-tel\"></span>104 客服</button>\n",
       "<div class=\"dialog-layer arrow-bottom\" id=\"custom-service\">\n",
       "<div class=\"dl-arrow\">\n",
       "<div class=\"dl-arwout\"></div>\n",
       "<div class=\"dl-arwin\"></div>\n",
       "</div>\n",
       "<button class=\"button text dl-close\" title=\"關閉\"><span class=\"jbi-s15-close-small\"></span></button>\n",
       "<div class=\"dl-content\">\n",
       "<div class=\"char user\">\n",
       "<div class=\"identify\"><span class=\"jbi-s18-user\"></span>我是求職者</div>\n",
       "<div class=\"contact\">\n",
       "<dl>\n",
       "<dt>求職服務專線</dt>\n",
       "<dd>02-2912-6104 轉2</dd>\n",
       "<dd>02-7703-3104 轉2</dd>\n",
       "</dl>\n",
       "<div class=\"mail\"><a href=\"https://www.104.com.tw/question_admin/reaction.cfm\" target=\"_blank\"><span class=\"jbi-s18-mail\"></span>意見回饋</a></div>\n",
       "<div class=\"safety\"><a href=\"javascript:void(0)\" onclick=\"window.open('https://www.104.com.tw/public/pda/pop_safety.htm','','scrollbars=yes,width=500,height=480')\"><span class=\"jbi-s15-care\"></span>職場安全諮詢專線</a></div>\n",
       "</div>\n",
       "</div>\n",
       "<div class=\"char company\">\n",
       "<div class=\"identify\"><span class=\"jbi-s18-building\"></span>我是求才廠商</div>\n",
       "<div class=\"contact\">\n",
       "<dl>\n",
       "<dt>廠商求才專線</dt>\n",
       "<dd>\n",
       "<ul>\n",
       "<li>台北 02-2912-6104</li>\n",
       "<li>       02-7703-3104</li>\n",
       "<li>台中 04-3700-6104</li>\n",
       "<li>上海 86-21-50277104 轉1</li>\n",
       "</ul>\n",
       "</dd>\n",
       "</dl>\n",
       "<div class=\"mail\"><a href=\"https://www.104.com.tw/redirect/vip_message.htm\" target=\"_blank\"><span class=\"jbi-s18-mail\"></span>意見回饋</a></div>\n",
       "</div>\n",
       "</div>\n",
       "<div class=\"clearfix\"></div>\n",
       "<div class=\"time\">服務時間：週一至週五9:00~19:00</div>\n",
       "</div>\n",
       "</div>\n",
       "<a class=\"tel\" href=\"javascript:void(0)\" onclick=\"window.open('https://www.104.com.tw/public/pda/pop_safety.htm','','scrollbars=yes,width=500,height=480')\"><span class=\"jbi-s15-care\"></span>職場安全諮詢專線</a>\n",
       "<div class=\"clearfix\"></div>\n",
       "</div>\n",
       "<div class=\"copyright\">\n",
       "104 人力銀行網站由一零四資訊股份有限公司創設。建議瀏覽器版本為 IE11.0 以上<br/>本網站內容享有著作權，禁止侵害，違者必究。 © 2019 104 Corporation All Rights Reserved.\n",
       "</div>\n",
       "</footer>\n",
       "<!-- Start Alexa Certify Javascript -->\n",
       "<script type=\"text/javascript\">\n",
       "_atrk_opts = {\n",
       "atrk_acct:\"lRlHh1awVK00wf\", domain:\"104.com.tw\",dynamic: true};\n",
       "(function() {\n",
       "\tvar as = document.createElement('script'); as.type = 'text/javascript'; as.async = true; as.src = \"https://d31qbv1cthcecs.cloudfront.net/atrk.js\"; var s = document.getElementsByTagName('script')[0];s.parentNode.insertBefore(as, s);\n",
       "})();\n",
       "</script>\n",
       "<noscript><img alt=\"\" height=\"1\" src=\"https://d5nxst8fruw4z.cloudfront.net/atrk.gif?account=lRlHh1awVK00wf\" style=\"display:none\" width=\"1\"/></noscript>\n",
       "<!-- End Alexa Certify Javascript --><script charset=\"UTF-8\" src=\"https://static.104.com.tw/104main/jb/js/frame.js?v=20181226\" type=\"text/javascript\"></script>\n",
       "<script charset=\"UTF-8\" src=\"https://static.104.com.tw/104main/jb/js/job.js?v=20181226\" type=\"text/javascript\"></script>\n",
       "<script charset=\"UTF-8\" src=\"https://static.104.com.tw/104main/libs/mit/vue/2.5.17/vue.min.js?v=20181226\" type=\"text/javascript\"></script>\n",
       "<script charset=\"UTF-8\" src=\"https://static.104.com.tw/104main/jb/js/job.rewrite.js?v=20181226\" type=\"text/javascript\"></script>\n",
       "<script charset=\"UTF-8\" src=\"https://static.104.com.tw/104main/jb/js/setHistoryLogsObject.js?v=20181226\" type=\"text/javascript\"></script>\n",
       "<script charset=\"UTF-8\" src=\"https://static.104.com.tw/104main/jb/js/SharedObjectAPI.js?v=20181226\" type=\"text/javascript\"></script>\n",
       "<script charset=\"UTF-8\" src=\"https://static.104.com.tw/104main/jb/js/ui/image-error.js?v=20181226\" type=\"text/javascript\"></script>\n",
       "<script charset=\"UTF-8\" src=\"https://static.104.com.tw/104main/jb/js/nccLog.js?v=20181226\" type=\"text/javascript\"></script>\n",
       "<script charset=\"UTF-8\" src=\"https://static.104.com.tw/104main/jb/js/custjob.js?v=20181226\" type=\"text/javascript\"></script>\n",
       "<script charset=\"UTF-8\" src=\"https://static.104.com.tw/104main/jb/js/custjob.rewrite.js?v=20181226\" type=\"text/javascript\"></script>\n",
       "<script charset=\"UTF-8\" src=\"https://static.104.com.tw/104main/jb/js/adclick.js?v=20181226\" type=\"text/javascript\"></script>\n",
       "<script charset=\"UTF-8\" type=\"text/javascript\">\n",
       "/*<![CDATA[*/\n",
       "setTimeout(function(){setHistoryLogs('Backend Developer@@@5y8ex@@@/job/?jobno=5y8ex@@@帥哥科技有限公司', 'jobRecContentV1')}, 1000);\n",
       "$(document).ready(function() {$('#personalJob').show(); jbAjax({dataType:\"json\", type: \"GET\", url: \"/job/AjaxSimilar?jobno=5y8ex&jobsource=&u=pnz7rp\",success: renderJobs});initSaveJob({status:\"200\",data:{message:\"儲存工作\", newUrl: \"/job/AjaxSaveJob?jobno=5y8ex&type=insert&u=pnz7rp\",newType : \"insert\"}});});\n",
       "/*]]>*/\n",
       "</script>\n",
       "</body>\n",
       "</html>"
      ]
     },
     "execution_count": 129,
     "metadata": {},
     "output_type": "execute_result"
    }
   ],
   "source": [
    "ppp"
   ]
  },
  {
   "cell_type": "code",
   "execution_count": 130,
   "metadata": {},
   "outputs": [],
   "source": [
    "url_1=\\\n",
    "'https://www.104.com.tw/jobs/search/?ro=0&kwop=7&keyword=php&area=6001002000%2C6001001000&order=1&asc=0&page=3&mode=s&jobsource=2018indexpoc'"
   ]
  },
  {
   "cell_type": "code",
   "execution_count": 125,
   "metadata": {
    "collapsed": true
   },
   "outputs": [
    {
     "name": "stdout",
     "output_type": "stream",
     "text": [
      "https://www.104.com.tw/jobs/search/?ro=0&keyword=php&area=6001002000%2C6001001000&order=1&asc=0&page=1&mode=s&jobsource=2018indexpoc 處理中\n",
      "本頁有 25 個職缺\n",
      "已加入job_urls清單\n",
      "https://www.104.com.tw/jobs/search/?ro=0&keyword=php&area=6001002000%2C6001001000&order=1&asc=0&page=2&mode=s&jobsource=2018indexpoc 處理中\n",
      "本頁有 20 個職缺\n",
      "已加入job_urls清單\n",
      "https://www.104.com.tw/jobs/search/?ro=0&keyword=php&area=6001002000%2C6001001000&order=1&asc=0&page=3&mode=s&jobsource=2018indexpoc 處理中\n",
      "本頁有 20 個職缺\n",
      "已加入job_urls清單\n",
      "https://www.104.com.tw/jobs/search/?ro=0&keyword=php&area=6001002000%2C6001001000&order=1&asc=0&page=4&mode=s&jobsource=2018indexpoc 處理中\n",
      "本頁有 20 個職缺\n",
      "已加入job_urls清單\n",
      "https://www.104.com.tw/jobs/search/?ro=0&keyword=php&area=6001002000%2C6001001000&order=1&asc=0&page=5&mode=s&jobsource=2018indexpoc 處理中\n",
      "本頁有 20 個職缺\n",
      "已加入job_urls清單\n",
      "https://www.104.com.tw/jobs/search/?ro=0&keyword=php&area=6001002000%2C6001001000&order=1&asc=0&page=6&mode=s&jobsource=2018indexpoc 處理中\n",
      "本頁有 20 個職缺\n",
      "已加入job_urls清單\n",
      "https://www.104.com.tw/jobs/search/?ro=0&keyword=php&area=6001002000%2C6001001000&order=1&asc=0&page=7&mode=s&jobsource=2018indexpoc 處理中\n",
      "本頁有 20 個職缺\n",
      "已加入job_urls清單\n",
      "https://www.104.com.tw/jobs/search/?ro=0&keyword=php&area=6001002000%2C6001001000&order=1&asc=0&page=8&mode=s&jobsource=2018indexpoc 處理中\n",
      "本頁有 20 個職缺\n",
      "已加入job_urls清單\n",
      "https://www.104.com.tw/jobs/search/?ro=0&keyword=php&area=6001002000%2C6001001000&order=1&asc=0&page=9&mode=s&jobsource=2018indexpoc 處理中\n",
      "本頁有 20 個職缺\n",
      "已加入job_urls清單\n",
      "https://www.104.com.tw/jobs/search/?ro=0&keyword=php&area=6001002000%2C6001001000&order=1&asc=0&page=10&mode=s&jobsource=2018indexpoc 處理中\n",
      "本頁有 20 個職缺\n",
      "已加入job_urls清單\n",
      "共10頁\n",
      "總共收集 205 個職缺網址\n",
      "完成\n"
     ]
    }
   ],
   "source": [
    "maps=get_all_urls(url_1)"
   ]
  },
  {
   "cell_type": "code",
   "execution_count": 132,
   "metadata": {},
   "outputs": [],
   "source": [
    "page=get_page_urls(url_1)"
   ]
  },
  {
   "cell_type": "code",
   "execution_count": 133,
   "metadata": {},
   "outputs": [
    {
     "data": {
      "text/plain": [
       "['https://www.104.com.tw/job/?jobno=6f3mm&jobsource=2018indexpoc',\n",
       " 'https://www.104.com.tw/job/?jobno=6fhfp&jobsource=2018indexpoc',\n",
       " 'https://www.104.com.tw/job/?jobno=417q4&jobsource=2018indexpoc',\n",
       " 'https://www.104.com.tw/job/?jobno=5tbum&jobsource=2018indexpoc',\n",
       " 'https://www.104.com.tw/job/?jobno=6e5wc&jobsource=2018indexpoc',\n",
       " 'https://www.104.com.tw/job/?jobno=422lq&jobsource=2018indexpoc',\n",
       " 'https://www.104.com.tw/job/?jobno=6etvb&jobsource=2018indexpoc',\n",
       " 'https://www.104.com.tw/job/?jobno=68fa6&jobsource=2018indexpoc',\n",
       " 'https://www.104.com.tw/job/?jobno=5403n&jobsource=2018indexpoc',\n",
       " 'https://www.104.com.tw/job/?jobno=5duh3&jobsource=2018indexpoc',\n",
       " 'https://www.104.com.tw/job/?jobno=4jihi&jobsource=2018indexpoc',\n",
       " 'https://www.104.com.tw/job/?jobno=6fvyh&jobsource=2018indexpoc',\n",
       " 'https://www.104.com.tw/job/?jobno=5l8ii&jobsource=2018indexpoc',\n",
       " 'https://www.104.com.tw/job/?jobno=6hylz&jobsource=2018indexpoc',\n",
       " 'https://www.104.com.tw/job/?jobno=6iwdk&jobsource=2018indexpoc',\n",
       " 'https://www.104.com.tw/job/?jobno=6d93v&jobsource=2018indexpoc',\n",
       " 'https://www.104.com.tw/job/?jobno=3b9yx&jobsource=2018indexpoc',\n",
       " 'https://www.104.com.tw/job/?jobno=6br2h&jobsource=2018indexpoc',\n",
       " 'https://www.104.com.tw/job/?jobno=40pnv&jobsource=2018indexpoc',\n",
       " 'https://www.104.com.tw/job/?jobno=6j2d4&jobsource=2018indexpoc']"
      ]
     },
     "execution_count": 133,
     "metadata": {},
     "output_type": "execute_result"
    }
   ],
   "source": [
    "page"
   ]
  },
  {
   "cell_type": "code",
   "execution_count": null,
   "metadata": {},
   "outputs": [],
   "source": []
  }
 ],
 "metadata": {
  "kernelspec": {
   "display_name": "Python 3",
   "language": "python",
   "name": "python3"
  },
  "language_info": {
   "codemirror_mode": {
    "name": "ipython",
    "version": 3
   },
   "file_extension": ".py",
   "mimetype": "text/x-python",
   "name": "python",
   "nbconvert_exporter": "python",
   "pygments_lexer": "ipython3",
   "version": "3.6.7"
  }
 },
 "nbformat": 4,
 "nbformat_minor": 2
}
