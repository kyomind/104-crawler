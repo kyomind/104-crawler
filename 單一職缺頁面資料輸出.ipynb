{
 "cells": [
  {
   "cell_type": "code",
   "execution_count": 2,
   "metadata": {},
   "outputs": [],
   "source": [
    "import requests\n",
    "from bs4 import BeautifulSoup\n",
    "import time"
   ]
  },
  {
   "cell_type": "markdown",
   "metadata": {},
   "source": [
    "### 測試版"
   ]
  },
  {
   "cell_type": "code",
   "execution_count": 3,
   "metadata": {},
   "outputs": [],
   "source": [
    "job_url='https://www.104.com.tw/jobbank/custjob/index.php?r=job&j=4e4c456d3a6e4b2358343c665030386193a3c446d363840693e443c1f1f1f1f642463c402a67j01&jobsource=freshman2009'\n",
    "\n",
    "head = {'User-Agent':'Mozilla/5.0 (Windows NT 10.0; Win64; x64) \\\n",
    "AppleWebKit/537.36 (KHTML, like Gecko) Chrome/60.0.3112.90 Safari/537.36',\n",
    "        'Accept-Language':'zh-TW,zh;q=0.8,en-US;q=0.6,en;q=0.4'} \n",
    "\n",
    "resp = requests.get(job_url, headers = head)\n",
    "soup=BeautifulSoup(resp.text)"
   ]
  },
  {
   "cell_type": "markdown",
   "metadata": {},
   "source": [
    "### input版"
   ]
  },
  {
   "cell_type": "code",
   "execution_count": 31,
   "metadata": {},
   "outputs": [
    {
     "name": "stdout",
     "output_type": "stream",
     "text": [
      "請輸入職缺頁面網址 https://www.104.com.tw/job/?jobno=68svl&jobsource=freshman2009\n",
      "輸入成功\n"
     ]
    }
   ],
   "source": [
    "job_url=input('請輸入職缺頁面網址 ')\n",
    "\n",
    "head = {'User-Agent':'Mozilla/5.0 (Windows NT 10.0; Win64; x64) AppleWebKit/537.36 (KHTML, like Gecko) Chrome/60.0.3112.90 Safari/537.36',\n",
    "        'Accept-Language':'zh-TW,zh;q=0.8,en-US;q=0.6,en;q=0.4'} \n",
    "try:\n",
    "    resp = requests.get(job_url, headers = head)\n",
    "    soup=BeautifulSoup(resp.text)\n",
    "except Exception as e:\n",
    "    print(e,'輸入資料有誤，請輸入正確格式網址',sep='\\n')\n",
    "else:\n",
    "    print('輸入成功')"
   ]
  },
  {
   "cell_type": "code",
   "execution_count": 20,
   "metadata": {},
   "outputs": [],
   "source": [
    "job={}\n",
    "# job_keys=['職位名稱','工作地點','工作內容','擅長工具','工作技能','其它條件']"
   ]
  },
  {
   "cell_type": "code",
   "execution_count": 27,
   "metadata": {},
   "outputs": [
    {
     "data": {
      "text/plain": [
       "{'職位名稱': 'RR-Robot軟體開發工程師_新世代機器人暨人工智慧股份有限公司',\n",
       " '工作地點': '1. 機器人軟體平台開發2.服務型機器人手臂開發3.馬達控制系統開發4. 感測器應用5.影像辨識實務應用'}"
      ]
     },
     "execution_count": 27,
     "metadata": {},
     "output_type": "execute_result"
    }
   ],
   "source": [
    "job['職位名稱']=soup.find_all('meta')[4]['content'].rstrip(' - 104人力銀行')\n",
    "job"
   ]
  },
  {
   "cell_type": "code",
   "execution_count": 28,
   "metadata": {},
   "outputs": [
    {
     "data": {
      "text/plain": [
       "{'職位名稱': 'RR-Robot軟體開發工程師_新世代機器人暨人工智慧股份有限公司', '工作地點': '新北市深坑區北深路三段147號'}"
      ]
     },
     "execution_count": 28,
     "metadata": {},
     "output_type": "execute_result"
    }
   ],
   "source": [
    "job['工作地點']=soup.find('dd','addr').text.strip().split()[0]\n",
    "job"
   ]
  },
  {
   "cell_type": "code",
   "execution_count": 29,
   "metadata": {},
   "outputs": [
    {
     "data": {
      "text/plain": [
       "{'職位名稱': 'RR-Robot軟體開發工程師_新世代機器人暨人工智慧股份有限公司',\n",
       " '工作地點': '新北市深坑區北深路三段147號',\n",
       " '工作內容': '1. 機器人軟體平台開發2.服務型機器人手臂開發3.馬達控制系統開發4. 感測器應用5.影像辨識實務應用'}"
      ]
     },
     "execution_count": 29,
     "metadata": {},
     "output_type": "execute_result"
    }
   ],
   "source": [
    "job['工作內容']=''.join(soup.find('p').stripped_strings)\n",
    "job"
   ]
  },
  {
   "cell_type": "code",
   "execution_count": 30,
   "metadata": {},
   "outputs": [
    {
     "data": {
      "text/plain": [
       "{'職位名稱': 'RR-Robot軟體開發工程師_新世代機器人暨人工智慧股份有限公司',\n",
       " '工作地點': '新北市深坑區北深路三段147號',\n",
       " '工作內容': '1. 機器人軟體平台開發2.服務型機器人手臂開發3.馬達控制系統開發4. 感測器應用5.影像辨識實務應用',\n",
       " '擅長工具': 'Linux、MCU'}"
      ]
     },
     "execution_count": 30,
     "metadata": {},
     "output_type": "execute_result"
    }
   ],
   "source": [
    "job['擅長工具']=soup.select('.info')[1].find_all('dd')[-3].text\n",
    "job"
   ]
  },
  {
   "cell_type": "code",
   "execution_count": 31,
   "metadata": {},
   "outputs": [
    {
     "data": {
      "text/plain": [
       "{'職位名稱': 'RR-Robot軟體開發工程師_新世代機器人暨人工智慧股份有限公司',\n",
       " '工作地點': '新北市深坑區北深路三段147號',\n",
       " '工作內容': '1. 機器人軟體平台開發2.服務型機器人手臂開發3.馬達控制系統開發4. 感測器應用5.影像辨識實務應用',\n",
       " '擅長工具': 'Linux、MCU',\n",
       " '工作技能': '不拘'}"
      ]
     },
     "execution_count": 31,
     "metadata": {},
     "output_type": "execute_result"
    }
   ],
   "source": [
    "job['工作技能']=soup.select('.info')[1].find_all('dd')[-2].text\n",
    "job"
   ]
  },
  {
   "cell_type": "code",
   "execution_count": 35,
   "metadata": {},
   "outputs": [
    {
     "data": {
      "text/plain": [
       "{'職位名稱': 'RR-Robot軟體開發工程師_新世代機器人暨人工智慧股份有限公司',\n",
       " '工作地點': '新北市深坑區北深路三段147號',\n",
       " '工作內容': '1. 機器人軟體平台開發2.服務型機器人手臂開發3.馬達控制系統開發4. 感測器應用5.影像辨識實務應用',\n",
       " '擅長工具': 'Linux、MCU',\n",
       " '工作技能': '不拘',\n",
       " '其它條件': '1. 對於機器人運動學有經驗者佳2. 對於多軸控制器統有經驗者佳3. 對於機械手臂路徑規畫、順應性控制、障礙物閃避有興趣者佳4. 熟悉ROS 平台者佳5. 對Linux平台熟知者尤佳6. 對於MCU程式撰寫有經驗者佳7. 具馬達控制系統經驗者佳8. 對於影像辨識有經驗者佳'}"
      ]
     },
     "execution_count": 35,
     "metadata": {},
     "output_type": "execute_result"
    }
   ],
   "source": [
    "job['其它條件']=''.join(soup.select('.info')\\\n",
    "                    [1].find_all('dd')[-1].stripped_strings)\n",
    "job"
   ]
  },
  {
   "cell_type": "markdown",
   "metadata": {},
   "source": [
    "### 整合"
   ]
  },
  {
   "cell_type": "code",
   "execution_count": 35,
   "metadata": {},
   "outputs": [],
   "source": [
    "def from_jobsoup_load_desc(jobsoup):\n",
    "    job={}\n",
    "    job['職位名稱']=jobsoup.find_all('meta')[4]['content'].rstrip(' - 104人力銀行')\n",
    "    job['工作地點']=jobsoup.find('dd','addr').text.strip().split()[0]\n",
    "    job['工作內容']=jobsoup.find('p').text.replace('\\r','')\n",
    "    job['擅長工具']=jobsoup.select('.info')[1].find_all('dd')[-3].text\n",
    "    job['工作技能']=jobsoup.select('.info')[1].find_all('dd')[-2].text\n",
    "    job['其它條件']=jobsoup.select('.info')[1].find_all('dd')[-1].text.replace('\\r','')\n",
    "    for k,v in job.items():\n",
    "        if v in ('不拘','未填寫'):\n",
    "            job[k]=''\n",
    "    return job"
   ]
  },
  {
   "cell_type": "code",
   "execution_count": 32,
   "metadata": {},
   "outputs": [],
   "source": [
    "job=from_jobsoup_load_desc(soup)"
   ]
  },
  {
   "cell_type": "code",
   "execution_count": 26,
   "metadata": {},
   "outputs": [],
   "source": [
    "for k,v in job.items():\n",
    "    if v in ('不拘','未填寫'):\n",
    "        job[k]=''"
   ]
  },
  {
   "cell_type": "code",
   "execution_count": 33,
   "metadata": {},
   "outputs": [
    {
     "data": {
      "text/plain": [
       "{'職位名稱': '視覺算法工程師_大陸商北京零零無限科技有限公司',\n",
       " '工作地點': '台北市內湖區瑞光路618號2樓之1',\n",
       " '工作內容': '該職位屬於算法團隊，致力於前沿算法相關的產品研發，以及與機器人科技的深度融合。1、負責 圖像視覺算法相關的科技難點攻關與前瞻預研；並與其他感知控制系統融合，形成機器人全新應用場景的解決方案。2、算法研究包括但不限於：圖像處理，目標檢測及追蹤，人臉/人體識別，機器學習/深度學習或强化學習等。',\n",
       " '擅長工具': '',\n",
       " '工作技能': '',\n",
       " '其它條件': \"崗位要求：1、2年以上電腦視覺算法或有相關工作經驗；2、要求有優良的數學功底，在電腦視覺、圖像處理，機器學習、統計學等方面有較深入的研究，有革新現有機器人算法的理想和使命感；3、熟悉電腦視覺和處理的常用方法（物體分割、識別、檢測、跟踪等）；熟悉深度學習原理和基本模型，熟練使用TensorFlow、Caffe2、Pytorch等常用深度學習框架，並能够靈活地解决實際問題；4、熟練掌握C/C++/Python/Matlab語言，有較强的演算法分析和實現能力；5、有在電腦視覺（CVPR，ICCV，ECCV，PAMI），機器學習（ICML，NIPS，ICLR）等相關會議或雜誌發表相關論文者優先；6、學習領悟能力强，有自我驅動和獨立解决問題的能力。 Our Product: Hover Camera is a brand of easy-to-use self- ﬂying cameras. Its ﬂagship, Hover Camera Passport, is the world's first consumer-friendly, safe, and portable flying camera. Embedded artificial intelligence enables smart-phone free flying with features like auto-follow and gesture control to capture breath-taking moments of yourself on-the-go indoors and out. Hover Camera Passport was launched in 2016 to rave reviews (The Ultimate Selfie Camera - TechCrunch) and in partnership with Apple in 2017.榮獲無數國際獎項包括知名的- 紅點設計獎- IF產品設計獎- CES最佳創新獎 如果你想做點酷的東西，歡迎您加入零零團隊！\"}"
      ]
     },
     "execution_count": 33,
     "metadata": {},
     "output_type": "execute_result"
    }
   ],
   "source": [
    "job"
   ]
  },
  {
   "cell_type": "code",
   "execution_count": 34,
   "metadata": {},
   "outputs": [
    {
     "data": {
      "text/plain": [
       "dict_items([('職位名稱', '視覺算法工程師_大陸商北京零零無限科技有限公司'), ('工作地點', '台北市內湖區瑞光路618號2樓之1'), ('工作內容', '該職位屬於算法團隊，致力於前沿算法相關的產品研發，以及與機器人科技的深度融合。1、負責 圖像視覺算法相關的科技難點攻關與前瞻預研；並與其他感知控制系統融合，形成機器人全新應用場景的解決方案。2、算法研究包括但不限於：圖像處理，目標檢測及追蹤，人臉/人體識別，機器學習/深度學習或强化學習等。'), ('擅長工具', ''), ('工作技能', ''), ('其它條件', \"崗位要求：1、2年以上電腦視覺算法或有相關工作經驗；2、要求有優良的數學功底，在電腦視覺、圖像處理，機器學習、統計學等方面有較深入的研究，有革新現有機器人算法的理想和使命感；3、熟悉電腦視覺和處理的常用方法（物體分割、識別、檢測、跟踪等）；熟悉深度學習原理和基本模型，熟練使用TensorFlow、Caffe2、Pytorch等常用深度學習框架，並能够靈活地解决實際問題；4、熟練掌握C/C++/Python/Matlab語言，有較强的演算法分析和實現能力；5、有在電腦視覺（CVPR，ICCV，ECCV，PAMI），機器學習（ICML，NIPS，ICLR）等相關會議或雜誌發表相關論文者優先；6、學習領悟能力强，有自我驅動和獨立解决問題的能力。 Our Product: Hover Camera is a brand of easy-to-use self- ﬂying cameras. Its ﬂagship, Hover Camera Passport, is the world's first consumer-friendly, safe, and portable flying camera. Embedded artificial intelligence enables smart-phone free flying with features like auto-follow and gesture control to capture breath-taking moments of yourself on-the-go indoors and out. Hover Camera Passport was launched in 2016 to rave reviews (The Ultimate Selfie Camera - TechCrunch) and in partnership with Apple in 2017.榮獲無數國際獎項包括知名的- 紅點設計獎- IF產品設計獎- CES最佳創新獎 如果你想做點酷的東西，歡迎您加入零零團隊！\")])"
      ]
     },
     "execution_count": 34,
     "metadata": {},
     "output_type": "execute_result"
    }
   ],
   "source": [
    "job.items()"
   ]
  },
  {
   "cell_type": "code",
   "execution_count": 36,
   "metadata": {},
   "outputs": [],
   "source": [
    "from urllib.parse import unquote"
   ]
  },
  {
   "cell_type": "code",
   "execution_count": 37,
   "metadata": {},
   "outputs": [],
   "source": [
    "url = unquote('https://www.104.com.tw/jobs/search/?keyword=%E6%A9%9F%E5%99%A8%E4%BA%BA&jobsource=2018indexpoc&ro=0&order=1')"
   ]
  },
  {
   "cell_type": "code",
   "execution_count": 38,
   "metadata": {},
   "outputs": [
    {
     "data": {
      "text/plain": [
       "'https://www.104.com.tw/jobs/search/?keyword=機器人&jobsource=2018indexpoc&ro=0&order=1'"
      ]
     },
     "execution_count": 38,
     "metadata": {},
     "output_type": "execute_result"
    }
   ],
   "source": [
    "url"
   ]
  }
 ],
 "metadata": {
  "kernelspec": {
   "display_name": "Python 3",
   "language": "python",
   "name": "python3"
  },
  "language_info": {
   "codemirror_mode": {
    "name": "ipython",
    "version": 3
   },
   "file_extension": ".py",
   "mimetype": "text/x-python",
   "name": "python",
   "nbconvert_exporter": "python",
   "pygments_lexer": "ipython3",
   "version": "3.6.7"
  }
 },
 "nbformat": 4,
 "nbformat_minor": 2
}
