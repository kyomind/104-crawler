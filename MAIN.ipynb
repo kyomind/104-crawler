{
 "cells": [
  {
   "cell_type": "markdown",
   "metadata": {},
   "source": [
    "## 第一階段：取得所有必要的職缺網址"
   ]
  },
  {
   "cell_type": "code",
   "execution_count": 16,
   "metadata": {},
   "outputs": [],
   "source": [
    "from datetime import datetime\n",
    "import json\n",
    "import random\n",
    "import re\n",
    "import time\n",
    "from urllib.parse import unquote, quote\n",
    "\n",
    "from bs4 import BeautifulSoup\n",
    "import requests"
   ]
  },
  {
   "cell_type": "code",
   "execution_count": 140,
   "metadata": {
    "scrolled": true
   },
   "outputs": [
    {
     "name": "stdout",
     "output_type": "stream",
     "text": [
      "請輸入搜尋頁面網址 https://www.104.com.tw/jobs/search/?ro=0&keyword=%E8%B3%87%E6%96%99%E5%B7%A5%E7%A8%8B%E5%B8%AB&area=6001002000%2C6001001000&jobsource=2018indexpoc\n"
     ]
    }
   ],
   "source": [
    "search_url = input('請輸入搜尋頁面網址 ')"
   ]
  },
  {
   "cell_type": "code",
   "execution_count": 86,
   "metadata": {
    "scrolled": true
   },
   "outputs": [
    {
     "name": "stdout",
     "output_type": "stream",
     "text": [
      "請輸入關鍵字 資料工程師\n"
     ]
    }
   ],
   "source": [
    "kw = input('請輸入關鍵字 ')\n",
    "search_url = \\\n",
    "f'https://www.104.com.tw/jobs/search/?ro=0&kwop=7&keyword={quote(kw)}&area=\\\n",
    "6001002000%2C6001001000&order=11&asc=0&page=1&mode=s&jobsource=2018indexpoc'"
   ]
  },
  {
   "cell_type": "code",
   "execution_count": 48,
   "metadata": {},
   "outputs": [],
   "source": [
    "def url_to_soup(url):\n",
    "    head = {'User-Agent':'Mozilla/5.0 (Windows NT 10.0; Win64; x64) AppleWebKit/537.36 (KHTML, like Gecko) Chrome/60.0.3112.90 Safari/537.36',\n",
    "        'Accept-Language':'zh-TW,zh;q=0.8,en-US;q=0.6,en;q=0.4'} \n",
    "    resp = requests.get(url, headers=head)\n",
    "    soup = BeautifulSoup(resp.text)\n",
    "    return soup"
   ]
  },
  {
   "cell_type": "code",
   "execution_count": 19,
   "metadata": {},
   "outputs": [],
   "source": [
    "def get_page_urls(search_url):\n",
    "    soup = url_to_soup(search_url)\n",
    "    jobs = soup.select('.js-job-link')\n",
    "    page_urls = []\n",
    "    for job in jobs:\n",
    "        try:\n",
    "            page_urls.append('https:' + job['href'].split('&')[0])\n",
    "        except:\n",
    "            page_urls.append('https:' + job['href'])\n",
    "    return page_urls"
   ]
  },
  {
   "cell_type": "code",
   "execution_count": 22,
   "metadata": {},
   "outputs": [],
   "source": [
    "def get_all_urls(search_url):\n",
    "    job_urls = []\n",
    "    for page in range(1, 151):\n",
    "        if 'page=' in search_url:\n",
    "#           用 f-string 就不必使用 str(page)了，因為page必轉為str\n",
    "            search_url = re.sub(r'page=\\d*', f'page={page}',\n",
    "                                search_url)\n",
    "        else:\n",
    "            search_url = search_url + f'&page={page}'\n",
    "            \n",
    "        print(f'{page}頁', end='\\t')\n",
    "        \n",
    "        try:\n",
    "            page_urls = get_page_urls(search_url)\n",
    "        except BaseException as err:\n",
    "            print(err)\n",
    "            break\n",
    "            \n",
    "        job_urls.extend(page_urls)\n",
    "        \n",
    "        if len(page_urls) < 20:\n",
    "            break\n",
    "        time.sleep(random.uniform(4, 10))\n",
    "\n",
    "    print('')\n",
    "    print('總共收集', len(job_urls), '個職缺網址')\n",
    "    print('完成')\n",
    "    return job_urls"
   ]
  },
  {
   "cell_type": "code",
   "execution_count": 87,
   "metadata": {
    "scrolled": false
   },
   "outputs": [
    {
     "name": "stdout",
     "output_type": "stream",
     "text": [
      "1頁\t2頁\t3頁\t4頁\t5頁\t6頁\t7頁\t8頁\t9頁\t10頁\t11頁\t12頁\t13頁\t14頁\t15頁\t16頁\t17頁\t18頁\t19頁\t20頁\t21頁\t22頁\t23頁\t24頁\t25頁\t26頁\t27頁\t28頁\t29頁\t30頁\t31頁\t32頁\t33頁\t34頁\t35頁\t36頁\t37頁\t38頁\t39頁\t40頁\t41頁\t42頁\t43頁\t44頁\t45頁\t46頁\t47頁\t48頁\t49頁\t50頁\t51頁\t52頁\t53頁\t54頁\t55頁\t56頁\t57頁\t58頁\t59頁\t60頁\t61頁\t62頁\t63頁\t64頁\t65頁\t66頁\t67頁\t68頁\t69頁\t70頁\t71頁\t72頁\t73頁\t74頁\t75頁\t76頁\t77頁\t78頁\t79頁\t80頁\t81頁\t82頁\t83頁\t84頁\t85頁\t86頁\t87頁\t88頁\t89頁\t90頁\t91頁\t92頁\t93頁\t94頁\t95頁\t96頁\t97頁\t98頁\t99頁\t100頁\t101頁\t102頁\t103頁\t104頁\t105頁\t106頁\t107頁\t108頁\t109頁\t110頁\t111頁\t112頁\t113頁\t114頁\t115頁\t116頁\t117頁\t118頁\t119頁\t120頁\t121頁\t122頁\t123頁\t124頁\t125頁\t126頁\t127頁\t128頁\t129頁\t130頁\t131頁\t132頁\t133頁\t134頁\t135頁\t136頁\t137頁\t138頁\t139頁\t140頁\t141頁\t142頁\t143頁\t144頁\t145頁\t146頁\t147頁\t148頁\t149頁\t150頁\t\n",
      "總共收集 3010 個職缺網址\n",
      "完成\n"
     ]
    }
   ],
   "source": [
    "result = get_all_urls(search_url)"
   ]
  },
  {
   "cell_type": "markdown",
   "metadata": {},
   "source": [
    "### 將結果寫入JSON檔"
   ]
  },
  {
   "cell_type": "markdown",
   "metadata": {},
   "source": [
    "#### 先從網址取出關鍵字"
   ]
  },
  {
   "cell_type": "code",
   "execution_count": 88,
   "metadata": {},
   "outputs": [
    {
     "data": {
      "text/plain": [
       "'資料工程師'"
      ]
     },
     "execution_count": 88,
     "metadata": {},
     "output_type": "execute_result"
    }
   ],
   "source": [
    "keyword_raw = re.search(r'keyword=[^&]*', search_url).group().split('=')[1]\n",
    "keyword = unquote(keyword_raw)\n",
    "keyword"
   ]
  },
  {
   "cell_type": "markdown",
   "metadata": {},
   "source": [
    "#### 記錄當下時間，以指定格式"
   ]
  },
  {
   "cell_type": "code",
   "execution_count": 89,
   "metadata": {},
   "outputs": [
    {
     "data": {
      "text/plain": [
       "'0429-0951'"
      ]
     },
     "execution_count": 89,
     "metadata": {},
     "output_type": "execute_result"
    }
   ],
   "source": [
    "timestamp = datetime.now().strftime('%m%d-%H%M')\n",
    "timestamp"
   ]
  },
  {
   "cell_type": "code",
   "execution_count": 90,
   "metadata": {},
   "outputs": [
    {
     "data": {
      "text/plain": [
       "3010"
      ]
     },
     "execution_count": 90,
     "metadata": {},
     "output_type": "execute_result"
    }
   ],
   "source": [
    "len(result)"
   ]
  },
  {
   "cell_type": "code",
   "execution_count": 91,
   "metadata": {},
   "outputs": [
    {
     "data": {
      "text/plain": [
       "2848"
      ]
     },
     "execution_count": 91,
     "metadata": {},
     "output_type": "execute_result"
    }
   ],
   "source": [
    "result_set = set(result)\n",
    "len(result_set)"
   ]
  },
  {
   "cell_type": "code",
   "execution_count": 92,
   "metadata": {},
   "outputs": [
    {
     "data": {
      "text/plain": [
       "2847"
      ]
     },
     "execution_count": 92,
     "metadata": {},
     "output_type": "execute_result"
    }
   ],
   "source": [
    "result_set.discard('https:javascript:void(0);')\n",
    "result_tuple = tuple(result_set)\n",
    "len(result_tuple)"
   ]
  },
  {
   "cell_type": "code",
   "execution_count": 93,
   "metadata": {},
   "outputs": [],
   "source": [
    "with open(f'job_urls/{keyword}-{timestamp}.json', 'w') as f:\n",
    "    json.dump(result_tuple, f)"
   ]
  },
  {
   "cell_type": "markdown",
   "metadata": {},
   "source": [
    "### (選填)從檔案取得job_urls與關鍵字"
   ]
  },
  {
   "cell_type": "code",
   "execution_count": 36,
   "metadata": {},
   "outputs": [
    {
     "name": "stdout",
     "output_type": "stream",
     "text": [
      "請輸入檔名 資料工程師-0428-0059\n"
     ]
    },
    {
     "data": {
      "text/plain": [
       "2995"
      ]
     },
     "execution_count": 36,
     "metadata": {},
     "output_type": "execute_result"
    }
   ],
   "source": [
    "fromfile = input('請輸入檔名 ')\n",
    "with open(f'job_urls/{fromfile}.json', encoding='utf8') as file:\n",
    "    result_tuple = json.load(file)\n",
    "keyword = fromfile.split('-')[0]\n",
    "len(result_tuple)"
   ]
  },
  {
   "cell_type": "markdown",
   "metadata": {},
   "source": [
    "### 要排除重複的job_urls檔"
   ]
  },
  {
   "cell_type": "code",
   "execution_count": 94,
   "metadata": {},
   "outputs": [
    {
     "name": "stdout",
     "output_type": "stream",
     "text": [
      "請輸入檔名 data engineer-0428-2051×Python-0428-0245×後端工程師-0428-2020\n"
     ]
    },
    {
     "data": {
      "text/plain": [
       "5835"
      ]
     },
     "execution_count": 94,
     "metadata": {},
     "output_type": "execute_result"
    }
   ],
   "source": [
    "filename = input('請輸入檔名 ')\n",
    "with open(f'job_urls/{filename}.json', encoding='utf8') as file:\n",
    "    urls = json.load(file)\n",
    "len(urls)"
   ]
  },
  {
   "cell_type": "markdown",
   "metadata": {},
   "source": [
    "### 合併複數job_urls檔"
   ]
  },
  {
   "cell_type": "code",
   "execution_count": 81,
   "metadata": {},
   "outputs": [
    {
     "name": "stdout",
     "output_type": "stream",
     "text": [
      "請輸入檔名1：data engineer-0428-2051\n"
     ]
    },
    {
     "data": {
      "text/plain": [
       "3001"
      ]
     },
     "execution_count": 81,
     "metadata": {},
     "output_type": "execute_result"
    }
   ],
   "source": [
    "filename1 = input('請輸入檔名1：')\n",
    "with open(f'job_urls/{filename1}.json', encoding='utf8') as file:\n",
    "    urls1 = json.load(file)\n",
    "len(urls1)"
   ]
  },
  {
   "cell_type": "code",
   "execution_count": 82,
   "metadata": {},
   "outputs": [
    {
     "name": "stdout",
     "output_type": "stream",
     "text": [
      "請輸入檔名2：Python-0428-0245×後端工程師-0428-2020\n"
     ]
    },
    {
     "data": {
      "text/plain": [
       "3524"
      ]
     },
     "execution_count": 82,
     "metadata": {},
     "output_type": "execute_result"
    }
   ],
   "source": [
    "filename2 = input('請輸入檔名2：')\n",
    "with open(f'job_urls/{filename2}.json', encoding='utf8') as file:\n",
    "    urls2 = json.load(file)\n",
    "len(urls2)"
   ]
  },
  {
   "cell_type": "code",
   "execution_count": 13,
   "metadata": {},
   "outputs": [
    {
     "name": "stdout",
     "output_type": "stream",
     "text": [
      "請輸入檔名3：後端工程師-0425-2321\n"
     ]
    },
    {
     "data": {
      "text/plain": [
       "1503"
      ]
     },
     "execution_count": 13,
     "metadata": {},
     "output_type": "execute_result"
    }
   ],
   "source": [
    "filename3 = input('請輸入檔名3：')\n",
    "with open(f'job_urls/{filename3}.json', encoding='utf8') as file:\n",
    "    urls3 = json.load(file)\n",
    "len(urls3)"
   ]
  },
  {
   "cell_type": "code",
   "execution_count": 14,
   "metadata": {},
   "outputs": [
    {
     "data": {
      "text/plain": [
       "6752"
      ]
     },
     "execution_count": 14,
     "metadata": {},
     "output_type": "execute_result"
    }
   ],
   "source": [
    "urls1.extend(urls2)\n",
    "urls1.extend(urls3)\n",
    "len(urls1)"
   ]
  },
  {
   "cell_type": "code",
   "execution_count": 83,
   "metadata": {},
   "outputs": [
    {
     "data": {
      "text/plain": [
       "6525"
      ]
     },
     "execution_count": 83,
     "metadata": {},
     "output_type": "execute_result"
    }
   ],
   "source": [
    "urls1.extend(urls2)\n",
    "len(urls1)"
   ]
  },
  {
   "cell_type": "code",
   "execution_count": 84,
   "metadata": {},
   "outputs": [
    {
     "data": {
      "text/plain": [
       "5835"
      ]
     },
     "execution_count": 84,
     "metadata": {},
     "output_type": "execute_result"
    }
   ],
   "source": [
    "urls_tuple = tuple(set(urls1))\n",
    "len(urls_tuple)"
   ]
  },
  {
   "cell_type": "code",
   "execution_count": 45,
   "metadata": {},
   "outputs": [],
   "source": [
    "with open(f'job_urls/{filename1}×{filename2}×{filename3}.json', 'w') as f:\n",
    "    json.dump(urls_tuple, f)"
   ]
  },
  {
   "cell_type": "code",
   "execution_count": 85,
   "metadata": {},
   "outputs": [],
   "source": [
    "with open(f'job_urls/{filename1}×{filename2}.json', 'w') as f:\n",
    "    json.dump(urls_tuple, f)"
   ]
  },
  {
   "cell_type": "code",
   "execution_count": 95,
   "metadata": {},
   "outputs": [],
   "source": [
    "block = ('前端', '測試', '分析', 'front', 'php', 'java', 'asp', 'c#', 'ios', \n",
    "        'android', 'react', 'vue', 'angular', 'ux', 'ui', 'rail',\n",
    "        'ruby', '.net', 'core', 'test', '視覺', '資安', '網頁設計', 'html',\n",
    "        'css', 'jquery', '影像', '行政', 'manager', '韌體', 'c+', 'unity',\n",
    "        '硬體', '介面', 'qa', 'quality', '維護', '研發替代役', 'designer',\n",
    "        '美術', '物聯網', 'iot', '介面設計', '嵌入', 'devops', 'scientist',\n",
    "        '人工智', '圖像', '算法', 'hardware', '硬體', '品質', 'lte', '實習',\n",
    "        '科學家', 'firmware', 'sre', 'reliability', '可靠性', 'embed', '顧問',\n",
    "        'vr', '助理', '自動駕', '深度學習', 'nlp', '工讀', 'intern', '兼職',\n",
    "        '襄理', '副理', '經理', 'fae', 'bot', 'crm', '主管', '主任', 'analyst',\n",
    "        '網管', 'integr', 'pm', '3d', '動畫', '行銷', '研究員', '機率', '特效',\n",
    "        'mis', '光學', '約聘', '總監', 'algorithm','檢測', '支援', '客服', '製作人',\n",
    "        'erp', '網站設計', '編輯', '專員', '總監', '小編', '機器人', '企劃', 'node',\n",
    "        '補習班', '證券', '老師', '自動化', '機器學習', '講師', 'learning', '教師',\n",
    "        '交易員', '驗證', '汽車', '財務工程', '傳銷', '業務', '平面設計', '美編',\n",
    "        'dba', '譯者', '人壽', '期貨', '安全', '助教', 'ic設計', 'app ')\n",
    "\n",
    "# app(只用加1個空隔) 遊戲 bi"
   ]
  },
  {
   "cell_type": "code",
   "execution_count": 96,
   "metadata": {},
   "outputs": [],
   "source": [
    "def urls_to_data(result, block, block_urls):\n",
    "    print(datetime.now().strftime('%H:%M:%S'))\n",
    "    print(f'開始處理，總共有 {len(result)} 個項目')\n",
    "    block_list = block\n",
    "    data = []\n",
    "    item = 1\n",
    "    number = 1\n",
    "    for url in result:\n",
    "        blocked = False\n",
    "        job = {}\n",
    "        \n",
    "        if url in block_urls:\n",
    "            print('◆', end='\\t')\n",
    "            number = number + 1\n",
    "            continue\n",
    "        \n",
    "        try:\n",
    "            soup = url_to_soup(url)\n",
    "            job['資料編號'] = f'第 {item} 項'\n",
    "            job['職位網址'] = f' {url} '            \n",
    "            job['職位名稱'] = soup.find_all('meta')[4]['content'].rstrip(\n",
    "                ' - 104人力銀行')\n",
    "            \n",
    "            if 'python' in job['職位名稱'].lower():\n",
    "                pass\n",
    "            else:\n",
    "#                 blocked = any(( item for item in block_list \n",
    "#                                if item in job['職位名稱'].lower()))\n",
    "                for term in block_list:\n",
    "                    if term in job['職位名稱'].lower():\n",
    "                        blocked = True\n",
    "                        break\n",
    "            if blocked:\n",
    "                print('×', end='\\t')\n",
    "                number = number + 1\n",
    "                time.sleep(random.uniform(3, 9))\n",
    "                continue\n",
    "\n",
    "            job['工作地點'] = soup.find('dd', 'addr').text.strip().split()[0]\n",
    "            job['工作內容'] = soup.find('p').text.replace('\\r', '').replace(\n",
    "                '\\t', '').replace('\\u3000', '').replace('\\xa0', '')\n",
    "            job['工作內容'] = job['工作內容'][:280]\n",
    "            \n",
    "            job['擅長工具'] = soup.select('.info')[1].find_all('dd')[-3].text\n",
    "            job['工作技能'] = soup.select('.info')[1].find_all('dd')[-2].text\n",
    "            job['其它條件'] = soup.select('.info')[1].find_all(\n",
    "                'dd')[-1].text.replace('\\r', '').replace('\\t', '').replace(\n",
    "                '\\u3000', '').replace('\\xa0', '')\n",
    "            job['其它條件'] = job['其它條件'][:280]\n",
    "            \n",
    "        except:\n",
    "            print('××', end='\\t')\n",
    "            number = number + 1\n",
    "            time.sleep(random.uniform(3, 9))\n",
    "            continue\n",
    "\n",
    "        for k, v in job.items():\n",
    "            if v in ('不拘', '未填寫'):\n",
    "                job[k] = ''\n",
    "        data.append(job)\n",
    "        print(number, end='\\t')\n",
    "        item = item + 1\n",
    "        number = number + 1\n",
    "        time.sleep(random.uniform(3, 9))\n",
    "    print('')\n",
    "    print(f'完成，實際抓取 {len(data)} 個項目')\n",
    "    print(datetime.now().strftime('%H:%M:%S'))\n",
    "    return data"
   ]
  },
  {
   "cell_type": "code",
   "execution_count": 98,
   "metadata": {
    "scrolled": true
   },
   "outputs": [
    {
     "name": "stdout",
     "output_type": "stream",
     "text": [
      "09:52:35\n",
      "開始處理，總共有 2847 個項目\n",
      "1\t◆\t◆\t4\t◆\t◆\t7\t◆\t9\t10\t×\t×\t13\t14\t15\t×\t◆\t×\t×\t20\t×\t×\t×\t×\t×\t×\t◆\t×\t×\t×\t31\t32\t◆\t×\t35\t×\t◆\t◆\t×\t40\t41\t×\t×\t×\t×\t46\t◆\t×\t49\t50\t×\t×\t×\t◆\t55\t◆\t×\t◆\t×\t◆\t×\t◆\t×\t64\t×\t×\t67\t◆\t×\t◆\t×\t×\t73\t×\t×\t×\t×\t78\t79\t×\t81\t×\t83\t×\t◆\t◆\t×\t◆\t◆\t×\t×\t92\t93\t94\t×\t×\t×\t98\t99\t×\t×\t◆\t×\t×\t105\t106\t×\t×\t109\t×\t◆\t112\t×\t◆\t◆\t116\t×\t×\t◆\t×\t×\t◆\t◆\t◆\t×\t126\t127\t×\t×\t×\t×\t◆\t◆\t×\t×\t×\t137\t◆\t×\t×\t×\t×\t×\t×\t×\t◆\t×\t◆\t149\t×\t151\t152\t◆\t◆\t×\t156\t157\t◆\t×\t×\t×\t162\t×\t164\t◆\t166\t◆\t168\t169\t×\t◆\t172\t◆\t174\t◆\t◆\t177\t◆\t179\t×\t◆\t◆\t183\t×\t185\t×\t×\t×\t◆\t×\t191\t×\t×\t◆\t195\t×\t197\t×\t199\t◆\t×\t◆\t203\t◆\t×\t×\t207\t×\t◆\t210\t211\t×\t×\t×\t◆\t◆\t217\t×\t◆\t×\t◆\t222\t223\t◆\t225\t226\t×\t◆\t◆\t230\t231\t×\t233\t×\t235\t236\t◆\t×\t×\t240\t◆\t×\t243\t×\t×\t◆\t247\t248\t×\t×\t×\t◆\t◆\t◆\t255\t◆\t×\t×\t259\t260\t261\t262\t◆\t×\t×\t×\t×\t×\t×\t270\t×\t×\t×\t×\t◆\t×\t277\t◆\t×\t◆\t×\t◆\t283\t×\t×\t×\t×\t288\t289\t×\t291\t◆\t◆\t×\t×\t×\t297\t298\t×\t×\t◆\t◆\t×\t◆\t◆\t◆\t×\t×\t×\t×\t◆\t312\t◆\t×\t×\t◆\t◆\t318\t×\t×\t321\t322\t◆\t◆\t325\t326\t×\t328\t◆\t◆\t331\t332\t×\t334\t335\t336\t×\t×\t×\t340\t×\t×\t×\t◆\t×\t×\t×\t348\t×\t350\t351\t352\t◆\t×\t355\t356\t357\t358\t◆\t◆\t361\t×\t◆\t◆\t◆\t×\t367\t368\t×\t◆\t×\t372\t◆\t374\t×\t×\t◆\t◆\t◆\t×\t◆\t◆\t×\t×\t◆\t386\t◆\t388\t389\t×\t×\t◆\t◆\t394\t◆\t396\t◆\t×\t399\t◆\t×\t×\t×\t404\t×\t×\t×\t408\t◆\t◆\t×\t×\t413\t×\t415\t×\t×\t418\t×\t×\t×\t×\t◆\t×\t×\t◆\t427\t◆\t×\t430\t×\t432\t×\t×\t×\t◆\t×\t◆\t×\t440\t×\t442\t×\t444\t445\t◆\t◆\t×\t◆\t×\t×\t×\t×\t◆\t×\t◆\t◆\t×\t×\t×\t×\t◆\t×\t464\t×\t◆\t×\t◆\t×\t×\t471\t◆\t×\t◆\t×\t×\t◆\t×\t×\t◆\t×\t◆\t483\t◆\t×\t×\t◆\t×\t489\t◆\t×\t×\t493\t×\t◆\t◆\t◆\t×\t499\t×\t◆\t×\t×\t×\t×\t506\t507\t×\t509\t×\t511\t◆\t513\t◆\t◆\t516\t517\t◆\t◆\t520\t◆\t×\t523\t×\t525\t◆\t◆\t×\t◆\t×\t531\t×\t×\t534\t×\t◆\t◆\t◆\t×\t540\t541\t◆\t543\t544\t×\t×\t◆\t×\t×\t550\t◆\t×\t553\t×\t×\t×\t557\t◆\t×\t560\t◆\t◆\t×\t×\t×\t×\t×\t×\t◆\t◆\t×\t×\t×\t574\t575\t×\t577\t◆\t×\t×\t×\t582\t583\t◆\t×\t◆\t◆\t×\t◆\t590\t×\t×\t×\t×\t595\t×\t597\t598\t×\t600\t×\t◆\t603\t604\t605\t×\t×\t608\t609\t×\t◆\t◆\t×\t◆\t◆\t×\t×\t×\t◆\t×\t×\t×\t623\t◆\t×\t×\t×\t×\t×\t◆\t631\t×\t633\t634\t×\t636\t637\t638\t639\t640\t×\t642\t643\t◆\t645\t×\t647\t◆\t649\t◆\t◆\t◆\t653\t×\t×\t656\t◆\t×\t×\t660\t661\t×\t×\t◆\t×\t◆\t667\t×\t◆\t×\t◆\t×\t×\t×\t675\t×\t×\t678\t×\t×\t◆\t×\t◆\t684\t◆\t◆\t×\t◆\t×\t◆\t◆\t×\t×\t694\t×\t×\t×\t◆\t◆\t◆\t701\t702\t◆\t×\t705\t×\t×\t◆\t◆\t×\t×\t×\t×\t◆\t×\t716\t◆\t◆\t×\t720\t×\t◆\t×\t×\t725\t◆\t×\t×\t×\t◆\t◆\t732\t733\t×\t◆\t×\t×\t×\t◆\t×\t×\t×\t×\t×\t◆\t◆\t×\t748\t◆\t◆\t751\t752\t×\t754\t×\t◆\t757\t758\t×\t×\t◆\t◆\t×\t764\t◆\t×\t◆\t×\t×\t×\t×\t◆\t◆\t×\t×\t◆\t◆\t×\t779\t◆\t×\t×\t◆\t×\t◆\t×\t×\t◆\t×\t×\t◆\t◆\t793\t◆\t×\t796\t797\t798\t×\t×\t801\t◆\t◆\t804\t805\t×\t×\t808\t809\t◆\t×\t◆\t×\t×\t×\t×\t×\t818\t◆\t◆\t◆\t822\t823\t824\t◆\t×\t×\t828\t◆\t×\t831\t◆\t◆\t◆\t×\t×\t◆\t838\t839\t840\t×\t×\t×\t×\t845\t846\t◆\t×\t×\t×\t◆\t×\t◆\t×\t◆\t◆\t×\t858\t859\t×\t861\t862\t◆\t×\t865\t866\t867\t×\t×\t870\t871\t×\t×\t◆\t×\t876\t877\t◆\t879\t×\t×\t◆\t×\t◆\t885\t◆\t×\t◆\t◆\t◆\t×\t×\t893\t×\t895\t896\t◆\t×\t899\t◆\t×\t902\t×\t×\t×\t×\t×\t×\t×\t910\t×\t×\t×\t◆\t915\t×\t×\t918\t◆\t◆\t×\t922\t×\t924\t◆\t926\t×\t928\t×\t930\t931\t×\t×\t×\t◆\t×\t×\t×\t◆\t×\t941\t942\t×\t×\t×\t946\t×\t×\t×\t950\t◆\t◆\t◆\t◆\t955\t×\t×\t×\t◆\t×\t◆\t×\t◆\t×\t×\t×\t×\t968\t×\t×\t×\t◆\t×\t◆\t×\t◆\t977\t◆\t×\t×\t981\t×\t×\t×\t◆\t◆\t◆\t×\t◆\t×\t×\t×\t993\t×\t995\t996\t997\t×\t999\t×\t×\t◆\t×\t1004\t◆\t◆\t×\t◆\t×\t◆\t×\t1012\t1013\t×\t×\t◆\t1017\t◆\t1019\t◆\t×\t1022\t×\t×\t◆\t1026\t×\t×\t×\t×\t1031\t×\t◆\t◆\t◆\t×\t1037\t1038\t×\t×\t×\t1042\t×\t×\t1045\t◆\t1047\t×\t×\t×\t◆\t×\t×\t1054\t×\t1056\t×\t1058\t1059\t×\t×\t×\t◆\t1064\t×\t1066\t◆\t×\t1069\t◆\t×\t◆\t◆\t×\t◆\t×\t1077\t1078\t×\t◆\t1081\t×\t×\t1084\t◆\t◆\t1087\t◆\t◆\t×\t×\t×\t×\t×\t1095\t◆\t1097\t◆\t1099\t1100\t◆\t×\t×\t◆\t◆\t1106\t1107\t1108\t×\t1110\t◆\t◆\t1113\t1114\t×\t×\t◆\t×\t×\t1120\t1121\t◆\t×\t1124\t×\t◆\t◆\t◆\t1129\t×\t◆\t◆\t◆\t×\t◆\t1136\t×\t1138\t×\t◆\t×\t◆\t×\t×\t1145\t1146\t×\t×\t×\t1150\t◆\t×\t◆\t◆\t×\t×\t×\t◆\t◆\t1160\t1161\t1162\t1163\t×\t×\t1166\t1167\t◆\t×\t1170\t1171\t×\t◆\t◆\t◆\t×\t×\t◆\t×\t◆\t×\t1182\t◆\t×\t×\t◆\t×\t×\t1189\t1190\t1191\t×\t1193\t1194\t1195\t×\t×\t1198\t×\t◆\t×\t◆\t×\t◆\t◆\t1206\t1207\t◆\t◆\t×\t1211\t×\t1213\t×\t×\t1216\t×\t◆\t1219\t◆\t×\t◆\t◆\t×\t×\t◆\t1227\t×\t×\t×\t1231\t×\t◆\t◆\t×\t◆\t1237\t1238\t1239\t×\t×\t×\t×\t×\t1245\t×\t×\t×\t×\t1250\t◆\t×\t1253\t×\t1255\t×\t×\t1258\t◆\t1260\t◆\t×\t◆\t1264\t×\t1266\t×\t1268\t1269\t◆\t1271\t1272\t×\t◆\t×\t1276\t×\t×\t×\t◆\t◆\t◆\t1283\t1284\t1285\t1286\t◆\t×\t×\t1290\t1291\t×\t1293\t×\t×\t◆\t◆\t×\t×\t×\t◆\t1302\t×\t×\t1305\t◆\t1307\t1308\t1309\t×\t×\t1312\t×\t×\t1315\t1316\t×\t◆\t×\t◆\t◆\t1322\t×\t×\t×\t×\t×\t◆\t◆\t◆\t×\t1332\t◆\t×\t◆\t×\t×\t×\t1339\t×\t◆\t◆\t1343\t×\t◆\t1346\t◆\t1348\t◆\t1350\t◆\t◆\t×\t×\t1355\t×\t×\t◆\t1359\t◆\t×\t◆\t1363\t◆\t◆\t1366\t◆\t×\t×\t×\t1371\t1372\t×\t1374\t×\t×\t1377\t1378\t1379\t×\t×\t×\t◆\t◆\t×\t◆\t1387\t1388\t×\t1390\t◆\t1392\t1393\t1394\t1395\t◆\t1397\t×\t1399\t◆\t×\t×\t◆\t◆\t1405\t1406\t1407\t◆\t◆\t◆\t×\t×\t×\t1414\t×\t1416\t◆\t1418\t×\t◆\t×\t◆\t◆\t×\t◆\t1426\t×\t×\t◆\t◆\t×\t1432\t×\t×\t×\t1436\t◆\t1438\t◆\t1440\t×\t1442\t×\t×\t×\t×\t1447\t×\t◆\t◆\t1451\t×\t1453\t×\t◆\t1456\t1457\t×\t◆\t◆\t×\t×\t1463\t×\t◆\t1466\t◆\t◆\t1469\t×\t◆\t1472\t×\t×\t◆\t1476\t1477\t◆\t◆\t×\t×\t×\t×\t1484\t×\t×\t×\t×\t◆\t◆\t×\t1492\t◆\t◆\t×\t◆\t×\t◆\t◆\t×\t×\t◆\t×\t1504\t×\t◆\t1507\t1508\t◆\t×\t◆\t×\t×\t◆\t1515\t×\t◆\t1518\t×\t1520\t×\t1522\t◆\t×\t×\t◆\t1527\t1528\t1529\t×\t◆\t×\t×\t1534\t×\t×\t1537\t×\t×\t◆\t×\t1542\t1543\t×\t◆\t◆\t◆\t×\t×\t1550\t×\t×\t1553\t◆\t◆\t◆\t1557\t×\t×\t×\t◆\t◆\t×\t×\t◆\t×\t×\t1568\t◆\t◆\t◆\t×\t◆\t×\t×\t1576\t×\t×\t1579\t×\t◆\t◆\t×\t×\t×\t×\t◆\t◆\t×\t×\t1591\t◆\t×\t1594\t×\t1596\t×\t1598\t◆\t◆\t1601\t◆\t◆\t×\t×\t◆\t×\t1608\t◆\t×\t1611\t◆\t1613\t×\t1615\t◆\t×\t◆\t×\t×\t◆\t1622\t1623\t×\t×\t×\t×\t1628\t◆\t◆\t1631\t×\t×\t×\t×\t1636\t×\t◆\t1639\t×\t1641\t◆\t×\t◆\t1645\t◆\t×\t×\t◆\t×\t◆\t×\t×\t×\t×\t×\t1657\t×\t◆\t◆\t◆\t◆\t◆\t1664\t◆\t1666\t1667\t1668\t◆\t×\t1671\t×\t◆\t1674\t◆\t×\t◆\t◆\t×\t◆\t×\t1682\t×\t1684\t◆\t×\t◆\t◆\t1689\t1690\t◆\t1692\t1693\t◆\t×\t◆\t◆\t×\t×\t×\t×\t×\t×\t×\t1705\t1706\t◆\t1708\t×\t1710\t×\t1712\t×\t×\t1715\t◆\t1717\t◆\t×\t◆\t×\t×\t1723\t×\t◆\t◆\t◆\t×\t1729\t◆\t◆\t◆\t1733\t1734\t◆\t×\t×\t×\t1739\t1740\t1741\t×\t1743\t×\t1745\t×\t1747\t×\t1749\t×\t1751\t1752\t1753\t1754\t×\t◆\t1757\t◆\t◆\t×\t◆\t◆\t×\t×\t1765\t1766\t◆\t1768\t◆\t◆\t1771\t×\t◆\t1774\t×\t◆\t×\t×\t◆\t1780\t×\t×\t1783\t1784\t×\t1786\t1787\t×\t×\t1790\t◆\t×\t1793\t◆\t1795\t×\t×\t◆\t×\t1800\t×\t×\t×\t×\t1805\t×\t×\t×\t×\t1810\t1811\t×\t×\t◆\t1815\t1816\t◆\t1818\t1819\t×\t◆\t1822\t×\t×\t◆\t1826\t×\t1828\t◆\t×\t×\t×\t◆\t×\t×\t◆\t×\t×\t◆\t1840\t1841\t×\t×\t1844\t1845\t1846\t1847\t1848\t×\t×\t1851\t×\t1853\t×\t×\t◆\t1857\t×\t×\t×\t×\t1862\t◆\t×\t1865\t◆\t◆\t×\t×\t1870\t×\t1872\t×\t×\t×\t◆\t◆\t1878\t1879\t1880\t1881\t×\t1883\t×\t×\t1886\t◆\t×\t1889\t×\t×\t1892\t×\t×\t1895\t×\t×\t×\t◆\t◆\t×\t1902\t×\t×\t1905\t◆\t◆\t1908\t◆\t1910\t◆\t◆\t×\t×\t1915\t1916\t×\t◆\t1919\t1920\t×\t×\t×\t1924\t1925\t◆\t1927\t1928\t1929\t×\t1931\t×\t1933\t×\t×\t◆\t◆\t×\t1939\t×\t×\t×\t×\t1944\t×\t1946\t×\t◆\t1949\t1950\t×\t×\t◆\t×\t×\t1956\t×\t◆\t1959\t×\t◆\t1962\t1963\t◆\t×\t1966\t1967\t1968\t1969\t◆\t1971\t1972\t×\t×\t×\t×\t◆\t◆\t×\t1980\t×\t×\t×\t1984\t◆\t◆\t×\t×\t×\t×\t×\t1992\t×\t×\t◆\t×\t×\t×\t◆\t2000\t×\t×\t2003\t×\t×\t×\t×\t×\t2009\t2010\t×\t2012\t×\t◆\t2015\t×\t×\t◆\t◆\t◆\t×\t×\t×\t◆\t◆\t◆\t×\t2028\t×\t◆\t2031\t×\t2033\t×\t×\t×\t×\t×\t×\t◆\t2041\t2042\t2043\t2044\t×\t2046\t×\t2048\t◆\t2050\t◆\t◆\t×\t×\t×\t◆\t2057\t×\t2059\t×\t×\t×\t×\t×\t×\t◆\t◆\t×\t◆\t×\t◆\t×\t×\t2074\t×\t×\t◆\t×\t×\t×\t2081\t2082\t◆\t×\t2085\t2086\t◆\t2088\t×\t2090\t×\t◆\t×\t◆\t×\t2096\t×\t×\t2099\t◆\t◆\t2102\t2103\t×\t◆\t◆\t×\t×\t◆\t◆\t×\t×\t◆\t◆\t◆\t×\t×\t2118\t◆\t◆\t×\t×\t◆\t◆\t◆\t×\t×\t×\t2129\t×\t2131\t2132\t2133\t×\t2135\t×\t×\t×\t◆\t◆\t2141\t×\t◆\t◆\t×\t2146\t2147\t2148\t×\t2150\t×\t2152\t×\t2154\t2155\t×\t×\t◆\t×\t2160\t×\t2162\t2163\t2164\t2165\t×\t×\t2168\t◆\t◆\t2171\t◆\t×\t2174\t×\t×\t2177\t◆\t×\t×\t2181\t◆\t◆\t×\t2185\t◆\t×\t×\t×\t×\t×\t2192\t×\t×\t2195\t×\t×\t◆\t2199\t2200\t×\t◆\t×\t×\t◆\t×\t2207\t×\t2209\t×\t×\t◆\t×\t◆\t◆\t×\t×\t×\t◆\t×\t◆\t2222\t×\t×\t×\t×\t×\t×\t2229\t2230\t×\t×\t◆\t◆\t◆\t◆\t×\t×\t×\t2240\t×\t2242\t◆\t◆\t2245\t×\t×\t◆\t◆\t◆\t2251\t×\t◆\t×\t◆\t◆\t×\t◆\t◆\t×\t×\t×\t×\t×\t×\t×\t◆\t◆\t◆\t2270\t×\t◆\t◆\t◆\t2275\t×\t◆\t2278\t×\t◆\t×\t◆\t×\t×\t2285\t2286\t×\t2288\t◆\t2290\t×\t◆\t2293\t2294\t◆\t◆\t×\t×\t×\t◆\t×\t×\t×\t×\t◆\t×\t×\t2308\t×\t◆\t2311\t×\t×\t◆\t×\t×\t2317\t2318\t◆\t×\t◆\t◆\t2323\t◆\t2325\t◆\t×\t×\t2329\t◆\t2331\t◆\t◆\t◆\t◆\t2336\t×\t2338\t◆\t×\t×\t◆\t×\t×\t◆\t2346\t×\t2348\t◆\t2350\t2351\t2352\t×\t×\t◆\t×\t2357\t◆\t×\t2360\t◆\t◆\t◆\t◆\t×\t×\t◆\t×\t◆\t×\t×\t2372\t2373\t×\t×\t×\t×\t×\t2379\t×\t◆\t◆\t×\t×\t×\t2386\t×\t2388\t◆\t×\t2391\t◆\t◆\t×\t◆\t×\t×\t2398\t×\t×\t×\t2402\t◆\t2404\t×\t2406\t2407\t×\t2409\t×\t2411\t×\t◆\t◆\t◆\t×\t×\t2418\t×\t◆\t◆\t◆\t◆\t×\t×\t2426\t2427\t2428\t×\t◆\t◆\t×\t×\t◆\t×\t2436\t×\t◆\t×\t×\t×\t2442\t×\t×\t×\t×\t×\t×\t◆\t×\t×\t2452\t◆\t◆\t×\t◆\t×\t2458\t◆\t×\t◆\t2462\t2463\t◆\t2465\t×\t◆\t◆\t◆\t×\t×\t2472\t◆\t×\t×\t2476\t◆\t◆\t×\t◆\t×\t◆\t×\t2484\t2485\t×\t◆\t×\t×\t◆\t2491\t×\t◆\t◆\t2495\t×\t×\t◆\t××\t2500\t◆\t×\t◆\t×\t2505\t◆\t×\t2508\t×\t2510\t×\t2512\t◆\t2514\t×\t×\t×\t×\t2519\t2520\t2521\t◆\t◆\t2524\t×\t×\t2527\t×\t2529\t×\t×\t2532\t◆\t2534\t2535\t×\t×\t◆\t×\t◆\t2541\t×\t×\t×\t2545\t◆\t2547\t×\t2549\t2550\t2551\t2552\t◆\t2554\t◆\t◆\t×\t×\t◆\t◆\t×\t×\t×\t×\t×\t2566\t2567\t2568\t◆\t×\t×\t◆\t◆\t◆\t◆\t×\t2577\t2578\t2579\t×\t2581\t◆\t◆\t2584\t×\t◆\t×\t×\t◆\t×\t×\t2592\t2593\t×\t◆\t2596\t◆\t×\t◆\t×\t×\t×\t◆\t2604\t◆\t×\t◆\t×\t◆\t2610\t◆\t×\t×\t◆\t◆\t◆\t2617\t×\t×\t×\t×\t◆\t2623\t×\t×\t◆\t×\t×\t2629\t◆\t×\t×\t◆\t×\t×\t2636\t×\t2638\t◆\t◆\t×\t◆\t×\t2644\t◆\t×\t×\t◆\t×\t×\t×\t×\t2653\t×\t2655\t×\t◆\t◆\t×\t×\t×\t◆\t2663\t×\t×\t×\t×\t2668\t×\t2670\t◆\t2672\t×\t◆\t2675\t×\t◆\t×\t×\t◆\t2681\t◆\t×\t◆\t×\t××\t×\t◆\t2689\t×\t2691\t◆\t2693\t×\t×\t◆\t2697\t2698\t◆\t×\t×\t×\t×\t2704\t2705\t◆\t×\t◆\t2709\t2710\t×\t◆\t×\t◆\t×\t◆\t2717\t×\t×\t×\t×\t×\t2723\t×\t×\t◆\t◆\t2728\t×\t2730\t×\t×\t×\t◆\t2735\t◆\t2737\t×\t◆\t×\t◆\t×\t2743\t2744\t◆\t×\t◆\t2748\t×\t×\t2751\t◆\t◆\t×\t◆\t×\t2757\t×\t2759\t2760\t×\t×\t2763\t2764\t×\t◆\t2767\t×\t◆\t◆\t×\t×\t2773\t◆\t2775\t2776\t×\t×\t◆\t2780\t2781\t2782\t2783\t×\t×\t◆\t×\t×\t×\t×\t◆\t◆\t2793\t×\t2795\t2796\t◆\t2798\t◆\t2800\t×\t×\t2803\t×\t◆\t2806\t◆\t2808\t2809\t×\t◆\t2812\t◆\t×\t×\t×\t×\t×\t2819\t2820\t×\t◆\t×\t◆\t×\t2826\t×\t×\t◆\t◆\t2831\t2832\t×\t×\t◆\t×\t×\t2838\t×\t×\t◆\t2842\t◆\t2844\t◆\t×\t×\t\n",
      "完成，實際抓取 799 個項目\n",
      "13:33:58\n"
     ]
    }
   ],
   "source": [
    "data = urls_to_data(result_tuple, block=block, block_urls=urls)"
   ]
  },
  {
   "cell_type": "code",
   "execution_count": 61,
   "metadata": {},
   "outputs": [
    {
     "data": {
      "text/plain": [
       "[{'資料編號': '第 1 項',\n",
       "  '職位網址': ' https://www.104.com.tw/job/?jobno=6l7zj ',\n",
       "  '職位名稱': '大數據資料庫工程師 | 東方線上股份有限公司 | 台北市大安區',\n",
       "  '工作地點': '台北市大安區信義路四段306號7樓',\n",
       "  '工作內容': '1. 資料庫資料維護、處理。2. 資料庫備份、異地備援機制維護。3. 資料庫後端程式分析開發。4. 輔助與支援行銷研究業務。',\n",
       "  '擅長工具': '伺服器網站管理維護、作業系統基本操作、資料備份與復原、資料庫系統管理維護、資料庫程式設計、資料庫軟體應用',\n",
       "  '工作技能': 'MySQL CMA',\n",
       "  '其它條件': '1. 對工作細心、認真負責、邏輯佳。2. 對大數據/巨量分析有熱忱者。3. 熟資料庫SQL 語法。4. 熟悉MySQL資料庫安裝、設定及操作實務經驗2年(含)以上。5. 具有MySQL CMA證照優先。6. 對消費性商品有市場敏感度者佳。'},\n",
       " {'資料編號': '第 2 項',\n",
       "  '職位網址': ' https://www.104.com.tw/job/?jobno=6ddcs ',\n",
       "  '職位名稱': '軟體專案管理師 | 大鵬科技股份有限公司 | 台北市內湖區',\n",
       "  '工作地點': '台北市內湖區新湖二路258號',\n",
       "  '工作內容': '負責Smart Home/IoT系統專案的規劃與執行，包含撰寫專案開發文件與規格書，管控專案進度、執行與追蹤檢討，跨部門協調與UX/UI/開發工程師/軟體測試工程師緊密協作，製作管理報表與相關文件整理歸檔。 負責Smart Home系統測試工作的計畫與執行，包含App, Web, Mobile Web以及未來可能出現的各種前端平台與後端系統；必須掌握軟體設計規格，與開發工程師/UX/UI緊密協作，規劃test plan，與test case，實際進行測試項目的執行與管理。 應徵條件：邏輯清晰，具備基礎網路知識與文書處理能力熟悉專案規劃及執行進度管理熟悉test plan規劃， test cas',\n",
       "  '擅長工具': '',\n",
       "  '工作技能': '',\n",
       "  '其它條件': '應徵條件：邏輯清晰，具備基礎網路知識與文書處理能力熟悉專案規劃及執行進度管理熟悉test plan規劃， test case設計及測試執行管理熟悉iPhone /iPad/Android/Web application操作相關軟體專案UI/UX以及測試經驗者佳'},\n",
       " {'資料編號': '第 3 項',\n",
       "  '職位網址': ' https://www.104.com.tw/job/?jobno=6lcfd ',\n",
       "  '職位名稱': 'Streaming系統工程師 | 日新軟體股份有限公司 | 台北市內湖區',\n",
       "  '工作地點': '台北市內湖區洲子街55號7樓',\n",
       "  '工作內容': '依所負責之功能或專案進行系統安裝與規劃，研究串流技術之實用與新技術之測試分析與導入；具有網路概念、架設、維運相關知識，能對網路與伺服器故障判定與排除異常狀況。1.多媒體影音串流技術開發與設定 2.串流新技術及OpenSource的研究與導入3.Linux系統安裝與各種套件設定、調校與最佳化(多媒體播放/網路/其他) 4.瞭解如何處理影音Codec Format與轉碼5.Streaming Server維護管理6.熟Linux(RHEL or CentOS)、Windows等各種套件安裝與設定7.熟悉AWS與其它雲端服務架構與設定 8.可依專案需求撰寫ShellScript優先考慮9.具trou',\n",
       "  '擅長工具': 'Linux、C、C++、Java、Perl、PHP、Python、MySQL、AWS、JavaScript、Node.js',\n",
       "  '工作技能': '',\n",
       "  '其它條件': '1.具大流量串流架構設計經驗 2.Nodejs、MySQL、PHP、Javascript、JAVA、C/C++、FFmpeg、Python、Perl、GO lang3.HLS, DASH, WebSocket, RTMP, WebRTC, RTSP, HTTP Progressive, MPEG-TS, MP4, FLV, WebM, H.264, HEVC, MPEG1, VPX, AAC, OPUS'}]"
      ]
     },
     "execution_count": 61,
     "metadata": {},
     "output_type": "execute_result"
    }
   ],
   "source": [
    "data"
   ]
  },
  {
   "cell_type": "code",
   "execution_count": 99,
   "metadata": {},
   "outputs": [],
   "source": [
    "timestamp = datetime.now().strftime('%m%d-%H%M')\n",
    "\n",
    "with open(f'data/{keyword}-{timestamp}.json', 'w') as f:\n",
    "    json.dump(data, f)"
   ]
  },
  {
   "cell_type": "code",
   "execution_count": null,
   "metadata": {},
   "outputs": [],
   "source": []
  },
  {
   "cell_type": "code",
   "execution_count": 100,
   "metadata": {},
   "outputs": [],
   "source": [
    "from collections import Counter"
   ]
  },
  {
   "cell_type": "code",
   "execution_count": 101,
   "metadata": {},
   "outputs": [
    {
     "data": {
      "text/plain": [
       "[('台北市內湖區', 148),\n",
       " ('台北市中山區', 90),\n",
       " ('台北市松山區', 58),\n",
       " ('台北市大安區', 57),\n",
       " ('新北市中和區', 47),\n",
       " ('台北市中正區', 42),\n",
       " ('新北市三重區', 39),\n",
       " ('新北市汐止區', 39),\n",
       " ('台北市信義區', 37),\n",
       " ('新北市土城區', 27),\n",
       " ('新北市新店區', 27),\n",
       " ('台北市南港區', 25),\n",
       " ('新北市板橋區', 24),\n",
       " ('台北市大同區', 24),\n",
       " ('新北市五股區', 23),\n",
       " ('新北市新莊區', 19),\n",
       " ('新北市樹林區', 12),\n",
       " ('台北市萬華區', 9),\n",
       " ('新北市林口區', 8),\n",
       " ('台北市士林區', 6),\n",
       " ('新北市永和區', 6),\n",
       " ('新北市淡水區', 5),\n",
       " ('新北市蘆洲區', 4),\n",
       " ('台北市文山區', 4),\n",
       " ('台北市北投區', 4),\n",
       " ('新北市三峽區', 3),\n",
       " ('新北市鶯歌區', 3),\n",
       " ('新北市泰山區', 3),\n",
       " ('新北市瑞芳區', 2),\n",
       " ('新北市石碇區', 1),\n",
       " ('新北市深坑區', 1),\n",
       " ('新北市八里區', 1),\n",
       " ('新北市三芝區', 1)]"
      ]
     },
     "execution_count": 101,
     "metadata": {},
     "output_type": "execute_result"
    }
   ],
   "source": [
    "Counter(i['工作地點'][:6] for i in data).most_common()"
   ]
  },
  {
   "cell_type": "code",
   "execution_count": 21,
   "metadata": {},
   "outputs": [],
   "source": [
    "import json"
   ]
  },
  {
   "cell_type": "code",
   "execution_count": 24,
   "metadata": {
    "collapsed": true
   },
   "outputs": [
    {
     "data": {
      "text/plain": [
       "'[1, 2, 3]'"
      ]
     },
     "execution_count": 24,
     "metadata": {},
     "output_type": "execute_result"
    }
   ],
   "source": [
    "json.dumps(aa)"
   ]
  },
  {
   "cell_type": "code",
   "execution_count": null,
   "metadata": {},
   "outputs": [],
   "source": [
    "with open('data.json', 'w') as f:\n",
    "    json.dump(aa, f)"
   ]
  },
  {
   "cell_type": "code",
   "execution_count": null,
   "metadata": {},
   "outputs": [],
   "source": []
  }
 ],
 "metadata": {
  "kernelspec": {
   "display_name": "Python 3",
   "language": "python",
   "name": "python3"
  },
  "language_info": {
   "codemirror_mode": {
    "name": "ipython",
    "version": 3
   },
   "file_extension": ".py",
   "mimetype": "text/x-python",
   "name": "python",
   "nbconvert_exporter": "python",
   "pygments_lexer": "ipython3",
   "version": "3.6.7"
  }
 },
 "nbformat": 4,
 "nbformat_minor": 2
}
